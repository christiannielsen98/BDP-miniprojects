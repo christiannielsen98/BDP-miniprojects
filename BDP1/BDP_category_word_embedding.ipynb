{
 "cells": [
  {
   "cell_type": "code",
   "execution_count": 10,
   "metadata": {
    "collapsed": false,
    "pycharm": {
     "name": "#%%\n"
    }
   },
   "outputs": [],
   "source": [
    "# !pip install -U sentence-transformers"
   ]
  },
  {
   "cell_type": "code",
   "execution_count": 1,
   "metadata": {
    "collapsed": false,
    "pycharm": {
     "name": "#%%\n"
    }
   },
   "outputs": [],
   "source": [
    "import re\n",
    "import pandas as pd\n",
    "import numpy as np\n",
    "import inflect\n",
    "\n",
    "\n",
    "def str_split(string):\n",
    "    if isinstance(string, str):\n",
    "        return string.split(\", \")\n",
    "    else:\n",
    "        return string\n",
    "\n",
    "\n",
    "def turn_words_singular(categories_dict):\n",
    "    \"\"\"\n",
    "    For each key in the dictionary, the function takes the value (a list of words) and turns each word\n",
    "    into its singular form\n",
    "\n",
    "    :param categories_dict: a dictionary of categories and their associated words\n",
    "    :return: A dictionary with the same keys as the original dictionary, but with the values being a\n",
    "    list of singular words.\n",
    "    \"\"\"\n",
    "    p = inflect.engine()\n",
    "    categories_dict_singular = {}\n",
    "    for key, value in categories_dict.items():\n",
    "        new_value = []\n",
    "        for word in value:\n",
    "            word = word.lower()\n",
    "            if p.singular_noun(word) is False:\n",
    "                word = word\n",
    "            else:\n",
    "                word = p.singular_noun(word)\n",
    "            new_value.append(word)\n",
    "        categories_dict_singular[key] = new_value\n",
    "    return categories_dict_singular"
   ]
  },
  {
   "cell_type": "code",
   "execution_count": null,
   "outputs": [],
   "source": [
    "from sentence_transformers import SentenceTransformer\n",
    "\n",
    "pd.options.mode.chained_assignment = None"
   ],
   "metadata": {
    "collapsed": false,
    "pycharm": {
     "name": "#%%\n"
    }
   }
  },
  {
   "cell_type": "code",
   "execution_count": 2,
   "metadata": {
    "collapsed": false,
    "pycharm": {
     "name": "#%%\n"
    }
   },
   "outputs": [],
   "source": [
    "def space_words_lower(string):\n",
    "    return re.sub('(?<!^)([A-Z])([^A-Z])', r' \\1\\2', string).lower()"
   ]
  },
  {
   "cell_type": "code",
   "execution_count": 3,
   "metadata": {
    "collapsed": false,
    "pycharm": {
     "name": "#%%\n"
    }
   },
   "outputs": [],
   "source": [
    "model = SentenceTransformer('sentence-transformers/all-MiniLM-L6-v2')"
   ]
  },
  {
   "cell_type": "code",
   "execution_count": 4,
   "metadata": {
    "collapsed": false,
    "pycharm": {
     "name": "#%%\n"
    }
   },
   "outputs": [],
   "source": [
    "biz = pd.read_json(\"yelp_academic_dataset_business.json\", lines=True)\n",
    "schema = pd.read_csv(\"schemaorg-current-https-types.csv\")[[\"label\", \"subTypeOf\"]]"
   ]
  },
  {
   "cell_type": "code",
   "execution_count": 5,
   "metadata": {
    "collapsed": false,
    "pycharm": {
     "name": "#%%\n"
    }
   },
   "outputs": [],
   "source": [
    "def clean_yelp_categories():\n",
    "    categories_unique = list(set(biz[\"categories\"].str.cat(sep=', ').split(sep=', ')))\n",
    "    categories_dict = {categories_unique[i]: [categories_unique[i]] for i in range(len(categories_unique))}\n",
    "\n",
    "    cat_string_manually_handled_dict = pd.read_excel(\"split_categories.xlsx\", sheet_name=\"Sheet1\", index_col=0, names=['column']).to_dict()['column']\n",
    "    cat_string_manually_handled_dict = {k: v.split(', ') for k, v in cat_string_manually_handled_dict.items()}\n",
    "    categories_dict.update(cat_string_manually_handled_dict)\n",
    "\n",
    "    yelp_categories_dict = turn_words_singular(categories_dict)\n",
    "\n",
    "    yelp_categories = list({category for sublist in yelp_categories_dict.values() for category in sublist})\n",
    "\n",
    "    return yelp_categories, yelp_categories_dict"
   ]
  },
  {
   "cell_type": "code",
   "execution_count": 6,
   "metadata": {
    "collapsed": false,
    "pycharm": {
     "name": "#%%\n"
    }
   },
   "outputs": [],
   "source": [
    "def clean_schema_categories():\n",
    "    schema_categories = list(map(lambda x: space_words_lower(x), schema[\"label\"].tolist()))\n",
    "    schema_categories_dict = dict(zip(schema_categories, schema[\"label\"].tolist()))\n",
    "\n",
    "    return schema_categories, schema_categories_dict"
   ]
  },
  {
   "cell_type": "code",
   "execution_count": 8,
   "metadata": {
    "collapsed": false,
    "pycharm": {
     "name": "#%%\n"
    }
   },
   "outputs": [],
   "source": [
    "def cos_sim_2d(x, y):\n",
    "    norm_x = x / np.linalg.norm(x, axis=1, keepdims=True)\n",
    "    norm_y = y / np.linalg.norm(y, axis=1, keepdims=True)\n",
    "    return np.matmul(norm_x, norm_y.T)"
   ]
  },
  {
   "cell_type": "code",
   "execution_count": 9,
   "metadata": {
    "collapsed": false,
    "pycharm": {
     "name": "#%%\n"
    }
   },
   "outputs": [],
   "source": [
    "def category_mappings(threshold):\n",
    "    yelp_categories, yelp_categories_dict = clean_yelp_categories()\n",
    "    schema_categories, schema_categories_dict = clean_schema_categories()\n",
    "\n",
    "    swapped_yelp_categories = {sub_value: key for key, value in yelp_categories_dict.items() for sub_value in value}\n",
    "\n",
    "    yelp_embeddings = model.encode(yelp_categories)\n",
    "    schema_embeddings = model.encode(schema_categories)\n",
    "\n",
    "    co_sim_matrix = pd.DataFrame(data=cos_sim_2d(yelp_embeddings, schema_embeddings),\n",
    "                                 index=yelp_categories,\n",
    "                                 columns=schema_categories\n",
    "                                 ).apply(pd.to_numeric)\n",
    "\n",
    "    mappings = pd.DataFrame(data={\"mapped_schema\": co_sim_matrix.idxmax(axis=1), \"similarity\": co_sim_matrix.max(axis=1)}, index=co_sim_matrix.index).sort_values(by=\"similarity\", ascending=False).reset_index(names=\"yelp_category\")\n",
    "\n",
    "    # Getting correct names\n",
    "    mappings[\"mapped_schema\"] = mappings[\"mapped_schema\"].apply(lambda x: schema_categories_dict.get(x))\n",
    "    mappings[\"yelp_category\"] = mappings[\"yelp_category\"].apply(lambda x: swapped_yelp_categories.get(x))\n",
    "\n",
    "    mappings = mappings[mappings['similarity'] >= threshold]\n",
    "    print(len(mappings))\n",
    "    # del dict_mappings[\"similarity\"]\n",
    "    mappings['mapped_schema'][mappings['mapped_schema'] == \"None\"] = None\n",
    "    mappings.set_index('yelp_category', inplace=True)\n",
    "\n",
    "    mapping_dictionary = mappings[\"mapped_schema\"].squeeze().to_dict()\n",
    "\n",
    "    print(len(mapping_dictionary))\n",
    "\n",
    "    return mapping_dictionary"
   ]
  },
  {
   "cell_type": "code",
   "execution_count": 10,
   "metadata": {
    "collapsed": false,
    "pycharm": {
     "name": "#%%\n"
    }
   },
   "outputs": [
    {
     "name": "stdout",
     "output_type": "stream",
     "text": [
      "400\n",
      "383\n"
     ]
    },
    {
     "data": {
      "text/plain": "{'Hostels': 'Hostel',\n 'Pawn Shops': 'PawnShop',\n 'Financial Services': 'FinancialService',\n 'Beaches': 'Beach',\n 'Adult Entertainment': 'AdultEntertainment',\n 'Bus Stations': 'BusStation',\n 'Department Stores': 'DepartmentStore',\n 'Television Stations': 'TelevisionStation',\n 'RV Parks': 'RVPark',\n 'Amusement Parks': 'AmusementPark',\n 'Elementary Schools': 'ElementarySchool',\n 'Mosques': 'Mosque',\n 'Pharmacy': 'Pharmacy',\n 'Parks': 'Park',\n 'Real Estate Agents': 'RealEstateAgent',\n 'Bakeries': 'Bakery',\n 'Art Galleries': 'ArtGallery',\n 'Florists': 'Florist',\n 'Nail Salons': 'NailSalon',\n 'Courthouses': 'Courthouse',\n 'Comedy Clubs': 'ComedyClub',\n 'Playgrounds': 'Playground',\n 'Hair Salons': 'HairSalon',\n 'Hobby Shops': 'HobbyShop',\n 'Preschools': 'Preschool',\n 'Shopping Centers': 'ShoppingCenter',\n 'Middle Schools & High Schools': 'MiddleSchool',\n 'Aquariums': 'Aquarium',\n 'Toy Stores': 'ToyStore',\n 'Convenience Stores': 'ConvenienceStore',\n 'Festivals': 'Festival',\n 'Auto Repair': 'AutoRepair',\n 'Notaries': 'Notary',\n 'Synagogues': 'Synagogue',\n 'Animal Shelters': 'AnimalShelter',\n 'Recycling Center': 'RecyclingCenter',\n 'Campgrounds': 'Campground',\n 'Internet Cafes': 'InternetCafe',\n 'Sports Clubs': 'SportsClub',\n 'Day Spas': 'DaySpa',\n 'Museums': 'Museum',\n 'Self Storage': 'SelfStorage',\n 'Train Stations': 'TrainStation',\n 'Pets': 'PET',\n 'Churches': 'Church',\n 'Wineries': 'Winery',\n 'Breweries': 'Brewery',\n 'Hindu Temples': 'HinduTemple',\n 'Outlet Stores': 'OutletStore',\n 'Shoe Stores': 'ShoeStore',\n 'Resorts': 'Resort',\n 'Books': 'Book',\n 'Eyewear & Opticians': 'Eye',\n 'Keys & Locksmiths': 'Locksmith',\n 'Electricians': 'Electrician',\n 'Hospitals': 'Hospital',\n 'Professional Services': 'ProfessionalService',\n 'Libraries': 'Library',\n 'Child Care & Day Care': 'ChildCare',\n 'Zoos': 'Zoo',\n 'Buddhist Temples': 'BuddhistTemple',\n 'Furniture Stores': 'FurnitureStore',\n 'Motorcycle Dealers': 'MotorcycleDealer',\n 'Post Offices': 'PostOffice',\n 'Funeral Services & Cemeteries': 'Cemetery',\n 'Airports': 'Airport',\n 'Apartments': 'Apartment',\n 'Music Venues': 'MusicVenue',\n 'Radio Stations': 'RadioStation',\n 'Wholesale Stores': 'WholesaleStore',\n 'Legal Services': 'LegalService',\n 'Physical Therapy': 'PhysicalTherapy',\n 'Ski Resorts': 'SkiResort',\n 'Employment Agencies': 'EmploymentAgency',\n 'Hotels': 'Hotel',\n 'Newspapers & Magazines': 'Newspaper',\n 'Hardware Stores': 'HardwareStore',\n 'Gas Stations': 'GasStation',\n 'Pet Stores': 'PetStore',\n 'Taxis': 'Taxi',\n 'Embassy': 'Embassy',\n 'Distilleries': 'Distillery',\n 'Motorcycle Repair': 'MotorcycleRepair',\n 'Dentists': 'Dentist',\n 'Restaurants': 'Restaurant',\n 'Occupational Therapy': 'OccupationalTherapy',\n 'Airlines': 'Airline',\n 'Casinos': 'Casino',\n 'Chiropractors': 'Chiropractic',\n 'Midwives': 'Midwifery',\n 'Obstetricians & Gynecologists': 'Gynecologic',\n 'Bike Shop': 'BikeStore',\n 'Paint & Sip': 'Painting',\n 'Professional Sports Teams': 'SportsTeam',\n 'Gyms': 'ExerciseGym',\n 'Wholesalers': 'Wholesale',\n 'Car Dealers': 'AutoDealer',\n 'Pediatricians': 'Pediatric',\n 'Art Museums': 'Museum',\n 'Lawyers': 'Attorney',\n 'Venues & Event Spaces': 'Event',\n 'Car Rental': 'AutoRental',\n 'Contractors': 'GeneralContractor',\n 'Bookstores': 'BookStore',\n 'Town Hall': 'CityHall',\n \"Men's Hair Salons\": 'HairSalon',\n 'Dermatologists': 'Dermatology',\n 'Osteopathic Physicians': 'Osteopathic',\n 'Painters': 'HousePainter',\n 'Gluten-Free': 'GlutenFreeDiet',\n 'Parking': 'ParkingFacility',\n 'Bus Tours': 'BusTrip',\n 'Podiatrists': 'Podiatric',\n 'Rheumatologists': 'Rheumatologic',\n 'Automotive': 'AutomotiveBusiness',\n 'Doctors': 'Physician',\n 'Heating & Air Conditioning/HVAC': 'HVACBusiness',\n 'Outdoor Furniture Stores': 'FurnitureStore',\n 'Osteopaths': 'Osteopathic',\n 'Breakfast & Brunch': 'BedAndBreakfast',\n 'Food Delivery Services': 'FoodService',\n 'Colleges & Universities': 'CollegeOrUniversity',\n 'Kids Hair Salons': 'HairSalon',\n 'Stadiums & Arenas': 'StadiumOrArena',\n 'Banks & Credit Unions': 'BankAccount',\n 'General Festivals': 'Festival',\n 'Dry Cleaning & Laundry': 'DryCleaningOrLaundry',\n 'Swimming Pools': 'PublicSwimmingPool',\n 'Comic Books': 'ComicSeries',\n 'General Dentistry': 'Dentistry',\n 'Body Shops': 'AutoBodyShop',\n 'Boat Tours': 'BoatTrip',\n 'Mortgage Lenders': 'MortgageLoan',\n 'Lakes': 'LakeBodyOfWater',\n 'Cafes': 'CafeOrCoffeeShop',\n 'Kosher': 'KosherDiet',\n 'Grocery': 'GroceryStore',\n 'Pubs': 'BarOrPub',\n 'Car Wash': 'AutoWash',\n 'Buses': 'BusTrip',\n 'Bike Repair': 'MotorcycleRepair',\n 'Travel Agents': 'TravelAgency',\n 'Landmarks & Historical Buildings': 'LandmarksOrHistoricalBuildings',\n 'Ayurveda': 'Ayurvedic',\n 'Plastic Surgeons': 'PlasticSurgery',\n 'Medical Centers': 'MedicalClinic',\n 'Cinema': 'MovieTheater',\n 'Vegetarian': 'VegetarianDiet',\n 'Used Car Dealers': 'AutoDealer',\n 'Nursing Schools': 'Nursing',\n 'Psychiatrists': 'Psychiatric',\n 'Diagnostic Services': 'Diagnostic',\n 'Aquarium Services': 'Aquarium',\n 'Fast Food': 'FastFoodRestaurant',\n 'Trains': 'TrainTrip',\n 'Recording & Rehearsal Studios': 'MusicRecording',\n 'Hotel bar': 'Hotel',\n 'Diagnostic Imaging': 'MedicalImagingTechnique',\n 'Skilled Nursing': 'Nursing',\n 'Ski & Snowboard Shops': 'SkiResort',\n 'Beverage Store': 'LiquorStore',\n 'Motorcycle Parts & Supplies': 'Motorcycle',\n 'Petting Zoos': 'Zoo',\n 'Cosmetic Dentists': 'Dentist',\n 'Laboratory Testing': 'LaboratoryScience',\n 'Home & Garden': 'GardenStore',\n 'Health & Medical': 'HealthCare',\n 'Vinyl Records': 'VinylFormat',\n 'Bowling': 'BowlingAlley',\n 'Oral Surgeons': 'Dentist',\n 'Beauty & Spas': 'DaySpa',\n 'Emergency Rooms': 'Emergency',\n 'Counseling & Mental Health': 'Psychiatric',\n 'Hotels & Travel': 'Trip',\n 'Emergency Medicine': 'EmergencyService',\n 'Arts & Entertainment': 'ArtGallery',\n 'Pediatric Dentists': 'Dentist',\n 'Insurance': 'InsuranceAgency',\n 'Airport Shuttles': 'Airport',\n 'Office Equipment': 'OfficeEquipmentStore',\n 'Motorsport Vehicle Dealers': 'AutoDealer',\n 'Jewelry': 'JewelryStore',\n 'Motorcycle Gear': 'Motorcycle',\n 'IT Services & Computer Repair': 'Service',\n 'Golf': 'GolfCourse',\n 'Billing Services': 'PaymentService',\n 'RV Rental': 'RVPark',\n 'Used Bookstore': 'BookStore',\n 'Restaurant Supplies': 'Restaurant',\n 'Beer Gardens': 'Brewery',\n 'Airport Terminals': 'Airport',\n 'Ticket Sales': 'Ticket',\n 'Vegan': 'VeganDiet',\n 'Gastroenterologist': 'Gastroenterologic',\n 'Amateur Sports Teams': 'SportsTeam',\n 'Bicycles': 'MotorizedBicycle',\n 'Neurologist': 'Neurologic',\n 'Flooring': 'FloorPlan',\n 'Truck Rental': 'AutoRental',\n 'Dog Parks': 'Park',\n 'Public Services & Government': 'GovernmentOffice',\n 'Home Organization': 'Organization',\n 'Bed & Breakfast': 'BedDetails',\n 'Couriers & Delivery Services': 'ParcelDelivery',\n 'Veterinarians': 'VeterinaryCare',\n 'Pool & Billiards': 'PublicSwimmingPool',\n 'Home Health Care': 'HealthCare',\n 'Diners': 'Restaurant',\n 'Appliances & Repair': 'AutoRepair',\n 'Fabric Stores': 'ClothingStore',\n 'Commercial Truck Dealers': 'AutoDealer',\n 'Photographers': 'Photograph',\n 'Service Stations': 'BusStation',\n 'Guest Houses': 'House',\n 'Specialty Schools': 'Specialty',\n 'Medical Supplies': 'MedicalBusiness',\n 'Roofing': 'RoofingContractor',\n 'Beer Bar': 'Brewery',\n 'Clothing Rental': 'ClothingStore',\n 'Community Service/Non-Profit': 'Service',\n 'Police Departments': 'PoliceStation',\n 'Bikes': 'Motorcycle',\n 'Tires': 'TireShop',\n 'Apartment Agents': 'Apartment',\n 'Surgeons': 'Surgical',\n 'Driving Schools': 'DrivingSchoolVehicleUsage',\n \"Children's Museums\": 'Museum',\n 'Boating': 'BoatTrip',\n 'Halal': 'HalalDiet',\n 'Hair Stylists': 'HairSalon',\n 'Ultrasound Imaging Centers': 'Ultrasound',\n 'Dinner Theater': 'MovieTheater',\n 'Beach Bars': 'Beach',\n 'Dance Clubs': 'DanceGroup',\n 'Skate Parks': 'Park',\n 'Bars': 'BarOrPub',\n 'Neurotologists': 'Neurologic',\n 'Wine & Spirits': 'Winery',\n 'Guitar Stores': 'MusicStore',\n 'Travel Services': 'TravelAgency',\n 'Ski Schools': 'SkiResort',\n 'Investing': 'InvestmentFund',\n 'Beer': 'Brewery',\n 'Installment Loans': 'Installment',\n 'Skiing': 'SkiResort',\n 'Packing Supplies': 'HowToSupply',\n 'Bus Rental': 'BusStation',\n 'Water Parks': 'Park',\n 'Airport Lounges': 'Airport',\n 'Furniture Rental': 'FurnitureStore',\n 'Nightlife': 'NightClub',\n 'Hospitalists': 'Clinician',\n 'Ice Cream & Frozen Yogurt': 'IceCreamShop',\n 'Bike Parking': 'ParkingFacility',\n 'Piano Stores': 'MusicStore',\n 'Blow Dry/Out Services': 'Service',\n 'Aviation Services': 'Airline',\n 'Education': 'School',\n 'Food Banks': 'FoodService',\n 'Disability Law': 'DisabilitySupport',\n 'Cards & Stationery': 'CreditCard',\n 'Real Estate': 'RealEstateAgent',\n 'Pet Breeders': 'PET',\n 'Homeless Shelters': 'AnimalShelter',\n 'Psychologists': 'Psychiatric',\n 'Product Design': 'ProductModel',\n 'Real Estate Services': 'RealEstateAgent',\n 'Kiosk': 'ReturnAtKiosk',\n 'Animal Physical Therapy': 'PhysicalTherapy',\n 'Skin Care': 'Skin',\n 'Tattoo': 'TattooParlor',\n 'Float Spa': 'Float',\n 'Face Painting': 'Painting',\n 'Drive-In Theater': 'MovieTheater',\n 'Mobile Phones': 'MobilePhoneStore',\n 'Health Insurance Offices': 'InsuranceAgency',\n 'Irish Pub': 'BarOrPub',\n \"Men's Clothing\": 'MensClothingStore',\n 'Sports Bars': 'SportsClub',\n 'Plumbing': 'Plumber',\n 'RV Dealers': 'AutoDealer',\n 'Thrift Stores': 'ClothingStore',\n 'DIY Auto Shop': 'AutoBodyShop',\n 'Traditional Chinese Medicine': 'TraditionalChinese',\n 'Music Production Services': 'MusicAlbumProductionType',\n 'Motorcycle Rental': 'Motorcycle',\n 'Building Supplies': 'HowToSupply',\n 'Trailer Dealers': 'AutoDealer',\n 'Accountants': 'AccountingService',\n 'Golf Lessons': 'GolfCourse',\n 'Video/Film Production': 'FilmAction',\n 'Wine Tours': 'Winery',\n 'Dental Hygienists': 'Dentist',\n 'Chinese': 'TraditionalChinese',\n 'Nurse Practitioner': 'Nursing',\n 'Performing Arts': 'PerformingArtsTheater',\n 'Art Supplies': 'ArtGallery',\n 'Country Clubs': 'SportsClub',\n 'Safe Stores': 'Store',\n 'Fire Departments': 'FireStation',\n 'Sailing': 'BoatTrip',\n 'Cosmetics & Beauty Supply': 'HealthAndBeautyBusiness',\n 'Chocolatiers & Shops': 'PawnShop',\n 'Mountain Biking': 'Mountain',\n 'Endodontists': 'Dentist',\n 'Pet Sitting': 'PET',\n 'Currency Exchange': 'CurrencyConversionService',\n 'Art Tours': 'ArtGallery',\n 'Video Game Stores': 'ComputerStore',\n 'Television Service Providers': 'TelevisionStation',\n 'Music & DVDs': 'DVDFormat',\n 'Themed Cafes': 'CafeOrCoffeeShop',\n 'Event Planning & Services': 'Event',\n 'Cocktail Bars': 'BarOrPub',\n 'Pet Services': 'PET',\n 'Wine Bars': 'Winery',\n 'Visitor Centers': 'TouristInformationCenter',\n 'Coffeeshops': 'CafeOrCoffeeShop',\n 'Haunted Houses': 'House',\n 'Anesthesiologists': 'Anesthesia',\n 'Candy Stores': 'GroceryStore',\n 'Web Design': 'WebContent',\n 'Home Services': 'Service',\n 'Medical Spas': 'MedicalClinic',\n 'Taxidermy': 'Taxi',\n 'Emergency Pet Hospital': 'Hospital',\n 'Language Schools': 'Language',\n 'Tea Rooms': 'Room',\n 'Home Cleaning': 'DryCleaningOrLaundry',\n 'Boat Charters': 'BoatReservation',\n 'Interval Training Gyms': 'ExerciseGym',\n 'Battery Stores': 'ElectronicsStore',\n 'Brewing Supplies': 'Brewery',\n 'Social Clubs': 'HealthClub',\n 'Nail Technicians': 'NailSalon',\n 'Urologists': 'Urologic',\n 'Infectious Disease Specialists': 'InfectiousDisease',\n 'Summer Camps': 'Campground',\n 'Food Tours': 'FoodEstablishment',\n 'Mortgage Brokers': 'MortgageLoan',\n 'Cheese Shops': 'IceCreamShop',\n 'Auto Parts & Supplies': 'AutoPartsStore',\n 'Steakhouses': 'Restaurant',\n 'Watches': 'WatchAction',\n 'Kids Activities': 'ChildrensEvent',\n 'Graphic Design': 'VisualArtwork',\n 'Boat Parts & Supplies': 'BoatTerminal',\n 'Machine & Tool Rental': 'AutoRental',\n 'Flight Instruction': 'Flight',\n 'Car Buyers': 'AutoDealer',\n 'Local Services': 'LocalBusiness',\n 'Roof Inspectors': 'RoofingContractor',\n 'Orthodontists': 'Dentist',\n 'Trampoline Parks': 'Park',\n 'Trailer Rental': 'AutoRental',\n 'Gay Bars': 'BarOrPub',\n 'Floral Designers': 'Florist',\n 'Shopping': 'Retail',\n 'Art Classes': 'ArtGallery',\n 'Nanny Services': 'ChildCare',\n 'Art Consultants': 'ArtGallery',\n 'Formal Wear': 'WearAction',\n 'Portable Toilet Services': 'PublicToilet',\n 'Beer Tours': 'Brewery',\n 'Addiction Medicine': 'Drug',\n 'Circuit Training Gyms': 'ExerciseGym',\n 'Drugstores': 'Pharmacy',\n 'Radiologists': 'Radiography',\n 'Dance Wear': 'DanceEvent',\n 'Hearing Aid Providers': 'HearingImpairedSupported',\n 'Grill Services': 'FoodService',\n 'Pool Halls': 'PublicSwimmingPool',\n 'Community Centers': 'ShoppingCenter',\n 'Speech Therapists': 'SpeechPathology',\n 'Educational Services': 'EducationalOrganization',\n 'Ophthalmologists': 'Optician',\n 'Wine Tasting Room': 'Winery',\n 'Religious Organizations': 'Organization',\n 'Organic Stores': 'GardenStore',\n 'Art Installation': 'ArtGallery',\n 'Food Court': 'FoodEstablishment',\n 'Food Stands': 'FoodEstablishment',\n 'Maternity Wear': 'WearableSizeGroupMaternity'}"
     },
     "execution_count": 10,
     "metadata": {},
     "output_type": "execute_result"
    }
   ],
   "source": [
    "category_mappings(0.68)"
   ]
  },
  {
   "cell_type": "code",
   "execution_count": 11,
   "metadata": {
    "collapsed": false,
    "pycharm": {
     "name": "#%%\n"
    }
   },
   "outputs": [],
   "source": [
    "categories_unique = list(set(biz[\"categories\"].str.cat(sep=', ').split(sep=', ')))\n",
    "categories_dict = {categories_unique[i]: [categories_unique[i]] for i in range(len(categories_unique))}\n",
    "\n",
    "cat_string_manually_handled_dict = pd.read_excel(get_path(\"split_categories.xlsx\"), sheet_name=\"Sheet1\", index_col=0, names=['column']).to_dict()['column']\n",
    "cat_string_manually_handled_dict = {k: v.split(', ') for k, v in cat_string_manually_handled_dict.items()}\n",
    "categories_dict.update(cat_string_manually_handled_dict)\n",
    "\n",
    "yelp_categories_dict_singular = turn_words_singular(categories_dict)\n",
    "\n",
    "yelp_categories = list({category for sublist in yelp_categories_dict_singular.values() for category in sublist})"
   ]
  },
  {
   "cell_type": "code",
   "execution_count": 12,
   "metadata": {
    "collapsed": false,
    "pycharm": {
     "name": "#%%\n"
    }
   },
   "outputs": [
    {
     "data": {
      "text/plain": "['aquarium',\n 'buffet',\n 'trailer rental',\n 'venezuelan',\n 'private tutor',\n 'medical supply',\n 'oriental',\n 'valet service',\n 'pressure washer',\n 'department of motor vehicles',\n 'window washing',\n 'buddhist temple',\n 'diy auto shop',\n 'karate',\n 'hair removal',\n 'cremation service',\n 'credit union',\n 'faith-based crisis pregnancy center',\n 'wedding chapel',\n 'recording studio',\n 'visitor center',\n 'baby gear',\n 'internal medicine',\n 'interval training gym',\n 'fur clothing',\n 'door sale',\n 'art gallery',\n 'austrian',\n 'windows installation',\n 'meat shop',\n 'supper club',\n 'country dance hall',\n 'security service',\n 'installment loan',\n 'cuban',\n 'sperm clinic',\n 'spray tanning',\n 'scooter tour',\n 'canadian (new)',\n 'coffee supply',\n 'arena',\n 'pet training',\n 'home inspector',\n 'escape game',\n 'television station',\n 'pet groomer',\n 'video',\n 'clock repair',\n 'florist',\n 'historical building',\n 'internet law',\n 'hong kong style cafe',\n 'government',\n 'wine tour',\n 'mongolian',\n 'bocce ball',\n 'bike repair',\n 'cafe',\n 'airport lounge',\n 'firearm training',\n 'water supplier',\n 'mosque',\n 'fencing club',\n 'rolfing',\n 'hobby shop',\n 'animal shelter',\n 'hybrid car repair',\n 'shoe repair',\n 'hair stylist',\n 'sports club',\n 'carpenter',\n 'naturopathic',\n 'insulation installation',\n 'lahmacun',\n 'auto glass service',\n 'vermouth bar',\n 'mexican',\n 'used',\n 'food stand',\n 'airport shuttle',\n 'beverage store',\n 'duplication service',\n 'film production',\n 'grill service',\n 'senior center',\n 'pan asian',\n 'basketball court',\n 'halotherapy',\n 'roman',\n 'ice delivery',\n 'osteopath',\n 'donair',\n 'prosthetic',\n 'fruit',\n 'urologist',\n 'speech therapist',\n 'cultural center',\n 'massage therapy',\n 'dumpling',\n 'diagnostic service',\n ' tea supply',\n 'hospital',\n 'internet service provider',\n 'graphic design',\n 'aesthetician',\n 'cigar bar',\n 'mirro',\n 'sardinian',\n 'caterer',\n 'organic store',\n 'traffic school',\n 'horse racing',\n 'party equipment rental',\n 'kids hair salon',\n 'fondue',\n 'skydiving',\n 'appliance',\n 'horseback riding',\n 'auto supply',\n 'transmission repair',\n 'hazardous waste disposal',\n 'fish & chip',\n 'mortgage broker',\n 'dj',\n 'community center',\n 'vascular medicine',\n 'self storage',\n 'blood donation center',\n 'endocrinologist',\n 'international grocery',\n 'ophthalmologist',\n 'card',\n 'tai chi',\n 'videographer',\n 'festival',\n 'software development',\n 'craft',\n 'surfing',\n 'pool',\n 'drugstore',\n 'butcher',\n 'hawaiian',\n 'swimming pool',\n 'pediatrician',\n 'art restoration',\n 'bakery',\n 'botanical garden',\n 'divorce law',\n 'metal fabricator',\n 'gift',\n 'bagel',\n 'shoe shine',\n 'livestoock feed',\n 'health retreat',\n 'music venue',\n 'halfway house',\n 'conveyor belt sushi',\n 'house sitter',\n 'specialty school',\n 'astrologer',\n 'advertising',\n 'dry cleaning',\n 'diamond buyer',\n 'wrap',\n 'vinyl record',\n 'fabric store',\n 'guitar store',\n 'landmark',\n 'security system',\n 'taco',\n 'fishing supply',\n 'drive-in theater',\n 'boat part',\n 'lasik',\n 'doula',\n 'battery store',\n 'outdoor furniture store',\n 'vegan',\n 'bath',\n 'donburi',\n 'balloon service',\n 'squash',\n 'editorial service',\n 'video production',\n 'business law',\n 'water purification service',\n 'calligraphy',\n 'bike',\n 'test preparation',\n 'paintball',\n 'trailer dealer',\n 'swimming lesson',\n 'junkyard',\n 'meadery',\n 'pawn shop',\n 'financial service',\n 'art school',\n 'jet ski',\n 'photography store',\n 'rim repair',\n 'non profit',\n 'general festival',\n 'flower',\n 'vocational school',\n 'architect',\n 'solar panel cleaning',\n 'skin care',\n 'environmental abatement',\n 'dermatologist',\n 'investing',\n 'basque',\n 'calabrian',\n 'print media',\n 'gardener',\n 'pharmacy',\n 'gun',\n 'recycling center',\n 'medical',\n 'generator repair',\n 'chinese',\n 'karaoke',\n 'vintage',\n 'cooking class',\n 'tattoo removal',\n 'memory care',\n 'art class',\n 'gastroenterologist',\n 'laotian',\n 'nutritionist',\n 'artificial turf',\n 'dui school',\n 'acupuncture',\n 'lactation service',\n 'performing art',\n 'kitchen incubator',\n 'gelato',\n 'wine tasting class',\n 'lounge',\n 'veterinarian',\n 'persian',\n 'food',\n 'restaurant supply',\n 'egyptian',\n 'stucco service',\n 'pet store',\n 'tire',\n 'real estate law',\n 'motorsport vehicle dealer',\n 'parent cafe',\n 'dessert',\n 'cabaret',\n 'planetarium',\n 'aviation service',\n 'candle store',\n 'steakhouse',\n 't-shirt printing',\n 'commercial truck dealer',\n 'themed cafe',\n 'optometrist',\n 'day camp',\n 'data recovery',\n 'bicycle path',\n 'laboratory testing',\n 'crochet',\n 'scuba diving',\n 'dinner theater',\n 'wine tasting room',\n 'pet sitting',\n 'cucina campana',\n 'teacher supply',\n 'rv park',\n 'kayaking',\n 'surgeon',\n 'glass blowing',\n 'auto customization',\n 'sex therapist',\n 'food delivery service',\n 'wildlife hunting range',\n 'hookah bar',\n 'periodontist',\n 'contractor',\n 'thrift store',\n 'emergency pet hospital',\n 'skate shop',\n 'bangladeshi',\n 'grout service',\n 'tax law',\n 'holiday decorating service',\n 'cupcake',\n 'smog check station',\n 'beer bar',\n 'hunting supply',\n 'brazilian',\n 'service station',\n 'registration service',\n 'hakka',\n 'bike rental',\n 'venue',\n 'travel service',\n 'ziplining',\n 'winery',\n 'newspaper',\n 'batting cage',\n 'southern',\n 'art supply',\n 'public adjuster',\n 'hotel bar',\n 'tiling',\n 'auction house',\n 'traditional clothing',\n 'parking',\n 'irish pub',\n 'pumpkin patch',\n 'adult',\n 'muay thai',\n 'mini golf',\n 'personal injury law',\n 'electrician',\n 'hot pot',\n 'pet',\n 'reiki',\n 'travel',\n 'sports medicine',\n 'walking tour',\n 'irrigation',\n 'trivia host',\n 'sauna repair',\n 'turkish',\n 'used car dealer',\n 'laser eye surgery',\n 'holistic animal care',\n 'piano service',\n 'pet transportation',\n 'patent law',\n 'elementary school',\n 'concrete',\n 'tree service',\n 'barber',\n 'shared office space',\n 'refinishing service',\n 'silent disco',\n 'hypnosi',\n 'accountant',\n 'cheesesteak',\n 'optician',\n 'railing',\n 'beer',\n 'polish',\n 'awning',\n 'preventive medicine',\n 'behavior analyst',\n 'farming equipment',\n 'shopping center',\n 'scandinavian',\n 'indoor landscaping',\n 'kiteboarding',\n 'mountain biking',\n 'office equipment',\n 'college',\n 'business financing',\n 'meditation center',\n 'sugaring',\n 'ear nose & throat',\n 'home developer',\n 'pet insurance',\n 'modern european',\n 'paragliding',\n 'shutter',\n 'somali',\n 'laser tag',\n 'session photography',\n 'jail',\n 'medical transportation',\n 'street vendor',\n 'officiant',\n 'drive-thru bar',\n 'audio-visual equipment rental',\n 'educational service',\n 'traffic ticketing law',\n 'tax service',\n 'drone',\n 'smoothy',\n 'private investigation',\n 'hainan',\n 'uniform',\n 'champagne bar',\n 'ip law',\n 'irish',\n 'tanning bed',\n 'machine rental',\n 'cidery',\n 'accessory',\n 'martial art',\n 'french',\n 'magician',\n 'suppplement',\n 'hydro-jetting',\n 'adult entertainment',\n 'library',\n 'japanese',\n 'backflow service',\n 'animal assisted therapy',\n 'visa service',\n 'framing',\n 'packing supply',\n 'car buyer',\n 'jazz',\n 'doctor',\n 'carpet dyeing',\n 'veterans organization',\n 'fire protection service',\n 'cosmetic dentist',\n 'greek',\n 'boat supply',\n 'shanghainese',\n 'tool rental',\n 'seafood market',\n 'public relation',\n 'cannabis tour',\n 'shredding service',\n 'shipping center',\n 'hot dog',\n 'competition',\n 'boat dealer',\n 'speakeasy',\n 'mediator',\n 'private jet charter',\n 'snowboard shop',\n 'tenni',\n 'undersea medicine',\n 'poke',\n 'home service',\n 'local service',\n 'drywall repair',\n 'israeli',\n 'kiosk',\n 'haitian',\n 'strip club',\n 'paint store',\n 'tour',\n 'soup',\n 'beach',\n 'fitnes',\n 'iv hydration',\n 'lan center',\n 'guest house',\n 'gym',\n 'juice bar',\n 'circus school',\n 'middle school',\n 'new mexican cuisine',\n 'ceremonial clothing',\n 'airport terminal',\n 'bank',\n 'baby furniture',\n 'courthouse',\n 'mobility equipment sale',\n 'halal',\n 'currency exchange',\n 'roof inspector',\n 'roofing',\n 'formal wear',\n 'home',\n 'beer hall',\n 'leisure center',\n 'go kart',\n 'zoo',\n 'storefront clinic',\n 'pool hall',\n 'local fish store',\n 'gay bar',\n 'pickleball',\n 'town hall',\n 'sailing',\n 'salvadoran',\n 'hot air balloon',\n 'rock climbing',\n 'well drilling',\n 'video game store',\n 'teeth whitening',\n 'municipality',\n 'playground',\n 'alteration',\n 'counseling',\n 'rv repair',\n 'cambodian',\n 'soul food',\n 'neurotologist',\n 'nudist',\n 'aircraft dealer',\n 'dance studio',\n 'photographer',\n 'fitness equipment',\n 'hair salon',\n 'garage door service',\n 'climbing',\n 'gift shop',\n 'it service',\n 'personal care service',\n 'deli',\n 'real estate service',\n 'prosthodontist',\n 'horse boarding',\n 'scooter rental',\n 'do-it-yourself food',\n 'italian',\n 'disc golf',\n 'recreation center',\n 'small plate',\n 'photo booth rental',\n 'ethical grocery',\n 'restaurant',\n 'air conditioning',\n 'body contouring',\n 'korean',\n 'lice service',\n 'truck rental',\n 'pick your own farm',\n 'pancake',\n 'pet cremation service',\n 'boot camp',\n 'carpet cleaning',\n 'parasailing',\n 'beach bar',\n 'ski shop',\n 'bar crawl',\n 'cake shop',\n 'south african',\n 'antique',\n 'mobile phone repair',\n 'pop-up restaurant',\n 'costume',\n 'water store',\n 'piano store',\n 'patio covering',\n 'dumpster rental',\n 'laundry',\n 'entertainment',\n 'employment agency',\n 'wildlife control',\n 'face painting',\n 'architectural tour',\n 'sandwich',\n 'donut',\n 'prop',\n 'junk removal',\n 'diner',\n 'beach equipment rental',\n 'mobile phone',\n 'water heater installation',\n 'hospitalist',\n 'laser hair removal',\n 'marina',\n 'signmaking',\n 'makerspace',\n 'machine shop',\n 'dive bar',\n 'trophy shop',\n 'live food',\n 'consignment',\n 'breakfest',\n 'midwife',\n 'team building activity',\n 'home energy auditor',\n 'herbal shop',\n 'reflexology',\n 'falafel',\n 'tattoo',\n 'csa',\n 'tuscan',\n 'art installation',\n 'car rental',\n 'notary',\n 'fast food',\n 'auto part',\n 'emergency room',\n 'convenience store',\n 'deck',\n 'medical center',\n 'urgent care',\n 'education',\n 'life insurance',\n 'poutinery',\n 'public market',\n 'ski school',\n 'psychologist',\n 'home organization',\n 'amusement park',\n 'dentist',\n 'pool service',\n 'soccer',\n 'indonesian',\n 'rehabilitation center',\n 'parklet',\n 'addiction medicine',\n 'university',\n 'demolition service',\n 'jewelry',\n 'dietitian',\n 'bounce house rental',\n 'bartender',\n 'local flavor',\n 'bartending school',\n 'nepalese',\n 'real estate agent',\n 'bookbinding',\n 'pool cleaner',\n 'matchmaker',\n 'car wash',\n 'motorcycle dealer',\n 'health market',\n 'bus rental',\n 'perinatal care',\n 'baseball field',\n 'luggage',\n 'hotel',\n 'oxygen bar',\n 'scottish',\n 'vitamin',\n 'mortgage lender',\n 'home decor',\n 'electricity supplier',\n 'szechuan',\n 'musical instrument service',\n 'ammo',\n 'scavenger hunt',\n 'hyperbaric medicine',\n 'anesthesiologist',\n 'snow removal',\n 'skiing',\n 'post office',\n 'reproductive health service',\n 'aerial tour',\n 'windshield installation',\n 'furniture store',\n 'medical cannabis referral',\n 'mobile home dealer',\n 'dance wear',\n 'mobile dent repair',\n 'blue',\n 'gluten-free',\n 'community garden',\n 'summer camp',\n 'safety equipment',\n 'printing service',\n 'golf lesson',\n 'hypnotherapy',\n 'medical spa',\n 'hiking',\n 'instruction',\n 'computer repiar',\n 'farmers market',\n 'lighting fixture',\n 'home health care',\n 'bike tour',\n 'pain management',\n 'crane service',\n 'caricature',\n 'firework',\n 'cannabis collective',\n 'vietnamese',\n 'coffee',\n 'lawyer',\n 'tableware',\n 'event planning',\n 'senegalese',\n 'veggie',\n 'neuropathologist',\n 'sandblasting',\n 'bicycle',\n 'mailbox center',\n 'audiologist',\n 'custom cake',\n 'hair extension',\n 'spin class',\n 'burmese',\n 'religious school',\n 'herb',\n 'petting zoo',\n 'ethnic food',\n 'osteopathic physician',\n 'private school',\n 'video game rental,',\n 'bird shop',\n 'interior design',\n 'asian fusion',\n 'digitizing service',\n 'waterproofing',\n 'workers compensation law',\n 'motorcycle part',\n 'tutoring center',\n 'bookstore',\n 'whale watching tour',\n 'hydrotherapy',\n 'bookkeeper',\n 'game truck rental',\n 'cemetery',\n 'dim sum',\n 'piercing',\n 'beauty',\n 'elder law',\n 'boat charter',\n 'tex-mex',\n 'physical therapy',\n 'bowling',\n 'business consulting',\n 'noodle',\n 'reptile shop',\n 'family practice',\n 'lighting equipment',\n 'art space rental',\n 'public transportation',\n 'auto detailing',\n 'flea market',\n 'community service',\n 'float spa',\n 'supernatural reading',\n 'siding',\n 'high school',\n 'hydroponic',\n 'gas station',\n 'amateur sports team',\n 'makeup artist',\n 'towing',\n 'nursing school',\n 'barbeque',\n 'hair loss center',\n 'painter',\n 'car stereo installation',\n 'holiday decoration',\n 'windshield repair',\n 'disability law',\n 'iranian',\n 'utility',\n 'wholesaler',\n 'shopping',\n 'attraction farm',\n 'kids activity',\n 'radiologist',\n 'thai',\n 'experience',\n 'outdoor gear',\n 'acai bowl',\n 'mental health',\n 'diving',\n 'kitchen supply',\n 'arcade',\n 'livestock supply',\n 'car broker',\n 'music',\n 'tonkatsu',\n 'preschool',\n 'vape shop',\n 'cocktail bar',\n 'body shop',\n 'russian',\n 'afghan',\n 'floral designer',\n 'ski resort',\n 'bus tour',\n 'town car service',\n 'massage',\n 'argentine',\n \"women's clothing\",\n 'caribbean',\n 'elder care planning',\n 'generator installation',\n 'swimming school',\n 'outdoor storage',\n 'pet hospice',\n 'first aid class',\n 'waxing',\n 'brewpub',\n 'oral surgeon',\n 'mover',\n 'golf equipment',\n 'eyelash service',\n 'bus station',\n 'dominican',\n 'paddleboarding',\n 'phlebologist',\n 'technical school',\n 'pet waste removal',\n 'orthodontist',\n 'cycling class',\n 'wheel repair',\n 'knife sharpening',\n 'bike sharing',\n 'puerto rican',\n 'honduran',\n 'rehearsal studio',\n 'solar installation',\n 'prenatal care',\n 'real estate',\n 'photography class',\n 'grocery',\n 'nail technician',\n 'comedy club',\n 'public art',\n 'contract law',\n 'ukrainian',\n 'building supply',\n 'ballet',\n 'landscaping',\n 'environmental testing',\n 'automotive',\n 'rug',\n 'tanning',\n 'trinidadian',\n 'lake',\n 'mineral',\n 'housing cooperative',\n 'head shop',\n 'bike maintenance',\n 'waldorf school',\n 'indoor playcentre',\n 'apartment',\n 'portuguese',\n 'police department',\n 'family law',\n 'outdoor movie',\n 'tasting class',\n 'real estate photography',\n 'general litigation',\n 'proctologist',\n 'campground',\n 'funeral service',\n 'tea',\n 'qi gong',\n 'shaved ice',\n 'alternative medicine',\n 'home automation',\n 'yelp event',\n 'vacation rental agent',\n 'acne treatment',\n 'electronic',\n 'billing service',\n 'motorcycle gear',\n 'mag',\n 'ethnic grocery',\n 'furniture reupholstery',\n 'dental hygienist',\n 'african',\n 'car window tinting',\n 'imported food',\n 'pet boarding',\n 'lighting store',\n 'home network installation',\n 'childbirth education',\n 'personal chef',\n 'pakistani',\n 'cajun',\n 'rv rental',\n 'nurse practitioner',\n 'cryotherapy',\n 'day spa',\n 'travel agent',\n 'coffee roastery',\n 'playset',\n 'rifle range',\n 'beer garden',\n 'country club',\n 'hostel',\n 'kebab',\n 'heating',\n 'permanent makeup',\n 'criminal defense law',\n 'wine',\n 'mobility equipment service',\n 'comic book',\n 'surf school',\n 'drywall installation',\n 'sleep specialist',\n 'nanny service',\n 'bespoke clothing',\n 'mohel',\n 'music production service',\n 'opus',\n 'moroccan',\n 'engraving',\n 'psychic medium',\n 'aerial fitnes',\n 'izakaya',\n 'hungarian',\n 'dive shop',\n 'skilled nursing',\n 'taxi',\n 'train station',\n 'endodontist',\n 'propane',\n 'party bike rental',\n 'hot tub service',\n 'arabic',\n 'brassery',\n 'food truck',\n 'damage restoration',\n 'event service',\n 'adoption service',\n 'foot care',\n 'breakfast',\n 'donation center',\n 'food bank',\n 'paint-your-own pottery',\n 'special education',\n 'stadium',\n 'brewery',\n 'computer',\n 'rodeo',\n 'commercial truck repair',\n 'mobile home park',\n 'eastern european',\n 'knitting supply',\n 'cheese tasting class',\n 'boudoir photography',\n 'cpr class',\n 'holistic',\n 'obstetrician',\n 'lebanese',\n 'blind',\n 'dvd',\n 'podiatrist',\n 'estate liquidation',\n 'dui law',\n 'interlock system',\n 'hindu temple',\n 'prison',\n 'ticket sale',\n 'trainer',\n 'piano bar',\n 'health insurance office',\n 'bed',\n 'striptease dancer',\n 'plus size fashion',\n 'georgian',\n 'pulmonologist',\n 'door installation',\n 'bubble soccer',\n 'massage school',\n 'courier',\n 'hearing aid provider',\n 'hang gliding',\n 'shoe store',\n 'talent agency',\n 'spice',\n 'sledding',\n 'australian',\n 'bubble tea',\n 'occupational therapy',\n 'pediatric dentist',\n 'motorsport vehicle repair',\n 'swimwear',\n 'watch repair',\n 'pet breeder',\n 'sporting good',\n 'art museum',\n \"children's clothing\",\n 'will',\n 'general dentistry',\n 'photography service',\n 'concierge medicine',\n 'ev charging station',\n 'nightlife',\n 'unofficial yelp event',\n 'creole',\n 'appraisal service',\n 'fashion',\n 'flight instruction',\n 'embroidery',\n 'waffle',\n 'handyman',\n 'passport service',\n 'military surplu',\n 'homeowner association',\n 'resort',\n 'pub',\n 'airport',\n 'sport equipment hire',\n 'home cleaning',\n 'driving school',\n 'fuzhou',\n 'indian',\n 'horse equipment shop',\n 'german',\n 'pet photography',\n 'kickboxing',\n 'shade',\n 'water park',\n 'tabletop game',\n 'auto loan provider',\n 'adult education',\n 'orthopedist',\n 'dog walker',\n 'dialysis clinic',\n 'firewood',\n 'medical law',\n 'home theatre installation',\n 'used bookstore',\n 'paint',\n 'beauty supply',\n 'airsoft',\n ...]"
     },
     "execution_count": 12,
     "metadata": {},
     "output_type": "execute_result"
    }
   ],
   "source": [
    "yelp_categories"
   ]
  },
  {
   "cell_type": "code",
   "execution_count": 13,
   "metadata": {
    "collapsed": false,
    "pycharm": {
     "name": "#%%\n"
    }
   },
   "outputs": [],
   "source": [
    "schema_categories = list(map(lambda x: space_words_lower(x), schema[\"label\"].tolist()))\n",
    "schema_categories_dict = dict(zip(schema_categories, schema[\"label\"].tolist()))"
   ]
  },
  {
   "cell_type": "code",
   "execution_count": 14,
   "metadata": {
    "collapsed": false,
    "pycharm": {
     "name": "#%%\n"
    }
   },
   "outputs": [],
   "source": [
    "swapped_yelp_categories = {sub_value: key for key, value in yelp_categories_dict_singular.items() for sub_value in value}"
   ]
  },
  {
   "cell_type": "code",
   "execution_count": 15,
   "metadata": {
    "collapsed": false,
    "pycharm": {
     "name": "#%%\n"
    }
   },
   "outputs": [],
   "source": [
    "yelp_embeddings = model.encode(yelp_categories)"
   ]
  },
  {
   "cell_type": "code",
   "execution_count": 16,
   "metadata": {
    "collapsed": false,
    "pycharm": {
     "name": "#%%\n"
    }
   },
   "outputs": [],
   "source": [
    "schema_embeddings = model.encode(schema_categories)"
   ]
  },
  {
   "cell_type": "code",
   "execution_count": 17,
   "metadata": {
    "collapsed": false,
    "pycharm": {
     "name": "#%%\n"
    }
   },
   "outputs": [],
   "source": [
    "co_sim_matrix = pd.DataFrame(data=cos_sim_2d(yelp_embeddings, schema_embeddings),\n",
    "                             index=yelp_categories,\n",
    "                             columns=schema_categories)"
   ]
  },
  {
   "cell_type": "code",
   "execution_count": 18,
   "metadata": {
    "collapsed": false,
    "pycharm": {
     "name": "#%%\n"
    }
   },
   "outputs": [],
   "source": [
    "co_sim_matrix = co_sim_matrix.apply(pd.to_numeric)"
   ]
  },
  {
   "cell_type": "code",
   "execution_count": 19,
   "metadata": {
    "collapsed": false,
    "pycharm": {
     "name": "#%%\n"
    }
   },
   "outputs": [
    {
     "data": {
      "text/plain": "                    3d model  am radio channel  api reference   abdomen  \\\naquarium            0.194140          0.166180       0.107367  0.232968   \nbuffet              0.178702          0.079405       0.134935  0.248412   \ntrailer rental      0.126763          0.080258       0.139991  0.002531   \nvenezuelan          0.097291          0.110546       0.044107  0.199912   \nprivate tutor       0.112748          0.054525       0.133857  0.086723   \n...                      ...               ...            ...       ...   \ncrepery             0.137858          0.064521       0.126296  0.216216   \nmaternity wear      0.096855          0.058868       0.074811  0.196418   \nexcavation service  0.226101          0.043657       0.202529  0.085309   \nchicken wing        0.181211          0.000144       0.026832  0.197749   \npay-day loan        0.098994         -0.018396       0.082690  0.122505   \n\n                    about page  accept action  accommodation  \\\naquarium              0.097491       0.134389       0.246239   \nbuffet                0.173229       0.045803       0.270982   \ntrailer rental        0.013091       0.040866       0.370656   \nvenezuelan            0.089531       0.121913       0.219158   \nprivate tutor         0.162565       0.100321       0.197289   \n...                        ...            ...            ...   \ncrepery               0.144789       0.096243       0.204162   \nmaternity wear        0.074513      -0.019159       0.186593   \nexcavation service    0.094744       0.126856       0.219173   \nchicken wing          0.125397       0.066481       0.156071   \npay-day loan          0.037813       0.191772       0.163059   \n\n                    accounting service  achieve action    action  ...  \\\naquarium                      0.163466        0.157213  0.269890  ...   \nbuffet                        0.296284        0.099117  0.167006  ...   \ntrailer rental                0.126121        0.048690  0.160230  ...   \nvenezuelan                    0.064273        0.113156  0.206148  ...   \nprivate tutor                 0.132844        0.149179  0.154061  ...   \n...                                ...             ...       ...  ...   \ncrepery                       0.166627        0.069804  0.145254  ...   \nmaternity wear                0.079594        0.109707  0.096561  ...   \nexcavation service            0.338421        0.170093  0.215193  ...   \nchicken wing                  0.042330        0.134012  0.203914  ...   \npay-day loan                  0.221960        0.063141  0.086791  ...   \n\n                      winery  withdrawn  work based program  workers union  \\\naquarium            0.267033   0.149620            0.109207       0.072035   \nbuffet              0.338663   0.169818            0.088270       0.189738   \ntrailer rental      0.177687   0.106663            0.136700       0.078271   \nvenezuelan          0.157055   0.162466            0.059780       0.162563   \nprivate tutor       0.118903   0.113177            0.203131       0.060000   \n...                      ...        ...                 ...            ...   \ncrepery             0.162239   0.271336            0.108061       0.146494   \nmaternity wear      0.146855   0.082647            0.132960       0.288509   \nexcavation service  0.199801  -0.010108            0.281119       0.278930   \nchicken wing        0.003213   0.165703           -0.013687       0.097708   \npay-day loan        0.083696   0.135089            0.183396       0.121068   \n\n                    write action  write permission  x path type     x ray  \\\naquarium                0.066155          0.031288     0.032292  0.258573   \nbuffet                  0.023237         -0.029982    -0.037868  0.062040   \ntrailer rental          0.109225          0.112348     0.144158  0.041672   \nvenezuelan              0.110618          0.109885     0.021141  0.139223   \nprivate tutor           0.186331          0.237676     0.063234  0.096052   \n...                          ...               ...          ...       ...   \ncrepery                 0.079377          0.053844     0.081561  0.179428   \nmaternity wear          0.014970         -0.045101     0.021758  0.094771   \nexcavation service      0.055253         -0.036476     0.110615  0.218187   \nchicken wing            0.045168         -0.037787     0.018621  0.141014   \npay-day loan            0.087873          0.064219     0.023991  0.047394   \n\n                    zone boarding policy       zoo  \naquarium                       -0.016667  0.557363  \nbuffet                          0.069411  0.359222  \ntrailer rental                  0.080879  0.273984  \nvenezuelan                      0.045815  0.221529  \nprivate tutor                   0.061408  0.112287  \n...                                  ...       ...  \ncrepery                        -0.041778  0.152277  \nmaternity wear                  0.047765  0.108860  \nexcavation service              0.099704  0.207803  \nchicken wing                    0.201918  0.296391  \npay-day loan                    0.065338  0.006873  \n\n[1416 rows x 1353 columns]",
      "text/html": "<div>\n<style scoped>\n    .dataframe tbody tr th:only-of-type {\n        vertical-align: middle;\n    }\n\n    .dataframe tbody tr th {\n        vertical-align: top;\n    }\n\n    .dataframe thead th {\n        text-align: right;\n    }\n</style>\n<table border=\"1\" class=\"dataframe\">\n  <thead>\n    <tr style=\"text-align: right;\">\n      <th></th>\n      <th>3d model</th>\n      <th>am radio channel</th>\n      <th>api reference</th>\n      <th>abdomen</th>\n      <th>about page</th>\n      <th>accept action</th>\n      <th>accommodation</th>\n      <th>accounting service</th>\n      <th>achieve action</th>\n      <th>action</th>\n      <th>...</th>\n      <th>winery</th>\n      <th>withdrawn</th>\n      <th>work based program</th>\n      <th>workers union</th>\n      <th>write action</th>\n      <th>write permission</th>\n      <th>x path type</th>\n      <th>x ray</th>\n      <th>zone boarding policy</th>\n      <th>zoo</th>\n    </tr>\n  </thead>\n  <tbody>\n    <tr>\n      <th>aquarium</th>\n      <td>0.194140</td>\n      <td>0.166180</td>\n      <td>0.107367</td>\n      <td>0.232968</td>\n      <td>0.097491</td>\n      <td>0.134389</td>\n      <td>0.246239</td>\n      <td>0.163466</td>\n      <td>0.157213</td>\n      <td>0.269890</td>\n      <td>...</td>\n      <td>0.267033</td>\n      <td>0.149620</td>\n      <td>0.109207</td>\n      <td>0.072035</td>\n      <td>0.066155</td>\n      <td>0.031288</td>\n      <td>0.032292</td>\n      <td>0.258573</td>\n      <td>-0.016667</td>\n      <td>0.557363</td>\n    </tr>\n    <tr>\n      <th>buffet</th>\n      <td>0.178702</td>\n      <td>0.079405</td>\n      <td>0.134935</td>\n      <td>0.248412</td>\n      <td>0.173229</td>\n      <td>0.045803</td>\n      <td>0.270982</td>\n      <td>0.296284</td>\n      <td>0.099117</td>\n      <td>0.167006</td>\n      <td>...</td>\n      <td>0.338663</td>\n      <td>0.169818</td>\n      <td>0.088270</td>\n      <td>0.189738</td>\n      <td>0.023237</td>\n      <td>-0.029982</td>\n      <td>-0.037868</td>\n      <td>0.062040</td>\n      <td>0.069411</td>\n      <td>0.359222</td>\n    </tr>\n    <tr>\n      <th>trailer rental</th>\n      <td>0.126763</td>\n      <td>0.080258</td>\n      <td>0.139991</td>\n      <td>0.002531</td>\n      <td>0.013091</td>\n      <td>0.040866</td>\n      <td>0.370656</td>\n      <td>0.126121</td>\n      <td>0.048690</td>\n      <td>0.160230</td>\n      <td>...</td>\n      <td>0.177687</td>\n      <td>0.106663</td>\n      <td>0.136700</td>\n      <td>0.078271</td>\n      <td>0.109225</td>\n      <td>0.112348</td>\n      <td>0.144158</td>\n      <td>0.041672</td>\n      <td>0.080879</td>\n      <td>0.273984</td>\n    </tr>\n    <tr>\n      <th>venezuelan</th>\n      <td>0.097291</td>\n      <td>0.110546</td>\n      <td>0.044107</td>\n      <td>0.199912</td>\n      <td>0.089531</td>\n      <td>0.121913</td>\n      <td>0.219158</td>\n      <td>0.064273</td>\n      <td>0.113156</td>\n      <td>0.206148</td>\n      <td>...</td>\n      <td>0.157055</td>\n      <td>0.162466</td>\n      <td>0.059780</td>\n      <td>0.162563</td>\n      <td>0.110618</td>\n      <td>0.109885</td>\n      <td>0.021141</td>\n      <td>0.139223</td>\n      <td>0.045815</td>\n      <td>0.221529</td>\n    </tr>\n    <tr>\n      <th>private tutor</th>\n      <td>0.112748</td>\n      <td>0.054525</td>\n      <td>0.133857</td>\n      <td>0.086723</td>\n      <td>0.162565</td>\n      <td>0.100321</td>\n      <td>0.197289</td>\n      <td>0.132844</td>\n      <td>0.149179</td>\n      <td>0.154061</td>\n      <td>...</td>\n      <td>0.118903</td>\n      <td>0.113177</td>\n      <td>0.203131</td>\n      <td>0.060000</td>\n      <td>0.186331</td>\n      <td>0.237676</td>\n      <td>0.063234</td>\n      <td>0.096052</td>\n      <td>0.061408</td>\n      <td>0.112287</td>\n    </tr>\n    <tr>\n      <th>...</th>\n      <td>...</td>\n      <td>...</td>\n      <td>...</td>\n      <td>...</td>\n      <td>...</td>\n      <td>...</td>\n      <td>...</td>\n      <td>...</td>\n      <td>...</td>\n      <td>...</td>\n      <td>...</td>\n      <td>...</td>\n      <td>...</td>\n      <td>...</td>\n      <td>...</td>\n      <td>...</td>\n      <td>...</td>\n      <td>...</td>\n      <td>...</td>\n      <td>...</td>\n      <td>...</td>\n    </tr>\n    <tr>\n      <th>crepery</th>\n      <td>0.137858</td>\n      <td>0.064521</td>\n      <td>0.126296</td>\n      <td>0.216216</td>\n      <td>0.144789</td>\n      <td>0.096243</td>\n      <td>0.204162</td>\n      <td>0.166627</td>\n      <td>0.069804</td>\n      <td>0.145254</td>\n      <td>...</td>\n      <td>0.162239</td>\n      <td>0.271336</td>\n      <td>0.108061</td>\n      <td>0.146494</td>\n      <td>0.079377</td>\n      <td>0.053844</td>\n      <td>0.081561</td>\n      <td>0.179428</td>\n      <td>-0.041778</td>\n      <td>0.152277</td>\n    </tr>\n    <tr>\n      <th>maternity wear</th>\n      <td>0.096855</td>\n      <td>0.058868</td>\n      <td>0.074811</td>\n      <td>0.196418</td>\n      <td>0.074513</td>\n      <td>-0.019159</td>\n      <td>0.186593</td>\n      <td>0.079594</td>\n      <td>0.109707</td>\n      <td>0.096561</td>\n      <td>...</td>\n      <td>0.146855</td>\n      <td>0.082647</td>\n      <td>0.132960</td>\n      <td>0.288509</td>\n      <td>0.014970</td>\n      <td>-0.045101</td>\n      <td>0.021758</td>\n      <td>0.094771</td>\n      <td>0.047765</td>\n      <td>0.108860</td>\n    </tr>\n    <tr>\n      <th>excavation service</th>\n      <td>0.226101</td>\n      <td>0.043657</td>\n      <td>0.202529</td>\n      <td>0.085309</td>\n      <td>0.094744</td>\n      <td>0.126856</td>\n      <td>0.219173</td>\n      <td>0.338421</td>\n      <td>0.170093</td>\n      <td>0.215193</td>\n      <td>...</td>\n      <td>0.199801</td>\n      <td>-0.010108</td>\n      <td>0.281119</td>\n      <td>0.278930</td>\n      <td>0.055253</td>\n      <td>-0.036476</td>\n      <td>0.110615</td>\n      <td>0.218187</td>\n      <td>0.099704</td>\n      <td>0.207803</td>\n    </tr>\n    <tr>\n      <th>chicken wing</th>\n      <td>0.181211</td>\n      <td>0.000144</td>\n      <td>0.026832</td>\n      <td>0.197749</td>\n      <td>0.125397</td>\n      <td>0.066481</td>\n      <td>0.156071</td>\n      <td>0.042330</td>\n      <td>0.134012</td>\n      <td>0.203914</td>\n      <td>...</td>\n      <td>0.003213</td>\n      <td>0.165703</td>\n      <td>-0.013687</td>\n      <td>0.097708</td>\n      <td>0.045168</td>\n      <td>-0.037787</td>\n      <td>0.018621</td>\n      <td>0.141014</td>\n      <td>0.201918</td>\n      <td>0.296391</td>\n    </tr>\n    <tr>\n      <th>pay-day loan</th>\n      <td>0.098994</td>\n      <td>-0.018396</td>\n      <td>0.082690</td>\n      <td>0.122505</td>\n      <td>0.037813</td>\n      <td>0.191772</td>\n      <td>0.163059</td>\n      <td>0.221960</td>\n      <td>0.063141</td>\n      <td>0.086791</td>\n      <td>...</td>\n      <td>0.083696</td>\n      <td>0.135089</td>\n      <td>0.183396</td>\n      <td>0.121068</td>\n      <td>0.087873</td>\n      <td>0.064219</td>\n      <td>0.023991</td>\n      <td>0.047394</td>\n      <td>0.065338</td>\n      <td>0.006873</td>\n    </tr>\n  </tbody>\n</table>\n<p>1416 rows × 1353 columns</p>\n</div>"
     },
     "execution_count": 19,
     "metadata": {},
     "output_type": "execute_result"
    }
   ],
   "source": [
    "co_sim_matrix"
   ]
  },
  {
   "cell_type": "code",
   "execution_count": 30,
   "metadata": {
    "collapsed": false,
    "pycharm": {
     "name": "#%%\n"
    }
   },
   "outputs": [],
   "source": [
    "mappings = pd.DataFrame(data={\"mapped_schema\": co_sim_matrix.idxmax(axis=1), \"similarity\": co_sim_matrix.max(axis=1)}, index=co_sim_matrix.index).sort_values(by=\"similarity\", ascending=False).reset_index(names=\"yelp_category\")"
   ]
  },
  {
   "cell_type": "code",
   "execution_count": 31,
   "metadata": {
    "collapsed": false,
    "pycharm": {
     "name": "#%%\n"
    }
   },
   "outputs": [],
   "source": [
    "# mappings[\"mapped_schema\"] = mappings[\"mapped_schema\"].apply(lambda x: schema_categories_dict.get(x))\n",
    "# mappings[\"yelp_category\"] = mappings[\"yelp_category\"].apply(lambda x: swapped_yelp_categories.get(x))"
   ]
  },
  {
   "cell_type": "code",
   "execution_count": 46,
   "metadata": {
    "collapsed": false,
    "pycharm": {
     "name": "#%%\n"
    }
   },
   "outputs": [],
   "source": [
    "threshold = 0.44 # Determine\n",
    "dict_mappings = mappings[mappings['similarity'] >= threshold]\n",
    "del dict_mappings[\"similarity\"]\n",
    "dict_mappings['mapped_schema'][dict_mappings['mapped_schema'] == \"None\"] = None\n",
    "# dict_mappings.set_index('yelp_category', inplace=True)\n",
    "# dict_mappings = dict_mappings.squeeze().to_dict()\n",
    "#\n",
    "# dict_mappings"
   ]
  },
  {
   "cell_type": "code",
   "execution_count": 47,
   "metadata": {
    "collapsed": false,
    "pycharm": {
     "name": "#%%\n"
    }
   },
   "outputs": [
    {
     "data": {
      "text/plain": "{' tea supply': ['how to supply'],\n '3d printing': ['3d model'],\n 'acai bowl': ['bowling alley'],\n 'accessory': ['medical device'],\n 'accountant': ['accounting service'],\n 'acne treatment': ['dermatologic'],\n 'active life': ['active action status'],\n 'acupuncture': ['medical therapy'],\n 'addiction medicine': ['drug'],\n 'adoption service': ['child care'],\n 'adult': ['adult entertainment'],\n 'adult education': ['adult entertainment'],\n 'adult entertainment': ['adult entertainment'],\n 'advertising': ['business audience'],\n 'aerial fitnes': ['3d model'],\n 'aerial tour': ['tourist trip'],\n 'aesthetician': ['beauty salon'],\n 'afghan': ['country'],\n 'african': ['continent'],\n 'air conditioning': ['hvac business'],\n 'air duct cleaning': ['cleaning fee'],\n 'aircraft dealer': ['motorcycle dealer'],\n 'aircraft repair': ['auto repair'],\n 'airline': ['airline'],\n 'airport': ['airport'],\n 'airport lounge': ['airport'],\n 'airport shuttle': ['airport'],\n 'airport terminal': ['airport'],\n 'airsoft': ['motorcycle'],\n 'allergist': ['allergies health aspect'],\n 'alteration': ['transformed content'],\n 'alternative medicine': ['medical therapy'],\n 'amateur sports team': ['sports team'],\n 'american (new)': ['country'],\n 'american (traditional)': ['traditional chinese'],\n 'ammo': ['mass'],\n 'amusement park': ['amusement park'],\n 'anesthesiologist': ['anesthesia'],\n 'animal assisted therapy': ['veterinary care'],\n 'animal physical therapy': ['physical therapy'],\n 'animal shelter': ['animal shelter'],\n 'antique': ['museum'],\n 'apartment': ['apartment'],\n 'apartment agent': ['apartment'],\n 'appliance': ['food service'],\n 'appraisal service': ['accounting service'],\n 'aquarium': ['aquarium'],\n 'aquarium service': ['aquarium'],\n 'arabic': ['language'],\n 'arcade': ['video game'],\n 'archery': ['drawing'],\n 'architect': ['house painter'],\n 'architectural tour': ['tourist attraction'],\n 'arena': ['stadium or arena'],\n 'argentine': ['country'],\n 'armenian': ['country'],\n 'art': ['art gallery'],\n 'art class': ['art gallery'],\n 'art consultant': ['art gallery'],\n 'art gallery': ['art gallery'],\n 'art installation': ['art gallery'],\n 'art museum': ['museum'],\n 'art restoration': ['painting'],\n 'art school': ['art gallery'],\n 'art space rental': ['art gallery'],\n 'art supply': ['art gallery'],\n 'art tour': ['art gallery'],\n 'artificial turf': ['pond'],\n 'asian fusion': ['traditional chinese'],\n 'assisted living facility': ['accommodation'],\n 'astrologer': ['energy star certified'],\n 'attraction farm': ['tourist attraction'],\n 'atv rental': ['auto rental'],\n 'atv tour': ['trip'],\n 'auction house': ['house'],\n 'audio-visual equipment rental': ['audio object'],\n 'audiologist': ['audiobook'],\n 'australian': ['country'],\n 'austrian': ['country'],\n 'auto customization': ['auto repair'],\n 'auto detailing': ['auto repair'],\n 'auto glass service': ['auto repair'],\n 'auto insurance': ['insurance agency'],\n 'auto loan provider': ['auto dealer'],\n 'auto part': ['auto parts store'],\n 'auto repair': ['auto repair'],\n 'auto security': ['auto repair'],\n 'auto supply': ['how to supply'],\n 'auto upholstery': ['auto wash'],\n 'automotive': ['automotive business'],\n 'aviation service': ['airline'],\n 'awning': ['photograph'],\n 'axe throwing': ['camping pitch'],\n 'ayurveda': ['ayurvedic'],\n 'baby furniture': ['furniture store'],\n 'baby gear': ['wearable size group infants'],\n 'backflow service': ['service'],\n 'badminton': ['tennis complex'],\n 'bagel': ['taxi'],\n 'bail bondsman': ['casino'],\n 'bakery': ['bakery'],\n 'ballet': ['dance event'],\n 'balloon service': ['service'],\n 'bangladeshi': ['mosque'],\n 'bank': ['bank account'],\n 'bankruptcy law': ['loan or credit'],\n 'bar': ['bar or pub'],\n 'bar crawl': ['bar or pub'],\n 'barbeque': ['bar or pub'],\n 'barber': ['hair salon'],\n 'barre class': ['class'],\n 'bartender': ['bar or pub'],\n 'bartending school': ['school'],\n 'baseball field': ['stadium or arena'],\n 'basketball court': ['sports team'],\n 'basque': ['language'],\n 'bath': ['reservoir'],\n 'battery store': ['electronics store'],\n 'batting cage': ['room'],\n 'beach': ['beach'],\n 'beach bar': ['beach'],\n 'beach equipment rental': ['beach'],\n 'beauty': ['appearance'],\n 'beauty supply': ['health and beauty business'],\n 'bed': ['bed details'],\n 'beer': ['brewery'],\n 'beer bar': ['brewery'],\n 'beer garden': ['brewery'],\n 'beer hall': ['city hall'],\n 'beer tour': ['brewery'],\n 'behavior analyst': ['assess action'],\n 'belgian': ['language'],\n 'bespoke clothing': ['clothing store'],\n 'beverage store': ['liquor store'],\n 'bicycle': ['motorized bicycle'],\n 'bicycle path': ['motorized bicycle'],\n 'bike': ['motorcycle'],\n 'bike maintenance': ['motorcycle repair'],\n 'bike parking': ['parking facility'],\n 'bike rental': ['bike store'],\n 'bike repair': ['motorcycle repair'],\n 'bike sharing': ['bike store'],\n 'bike shop': ['bike store'],\n 'bike tour': ['tourist trip'],\n 'billiard': ['public swimming pool'],\n 'billing service': ['payment service'],\n 'bingo hall': ['city hall'],\n 'biohazard cleanup': ['crematorium'],\n 'bird shop': ['pet store'],\n 'bistro': ['restaurant'],\n 'blind': ['eye'],\n 'blood donation center': ['donate action'],\n 'blow dry service': ['service'],\n 'blue': ['game'],\n 'boat charter': ['boat reservation'],\n 'boat dealer': ['motorcycle dealer'],\n 'boat part': ['boat trip'],\n 'boat repair': ['boat trip'],\n 'boat supply': ['boat terminal'],\n 'boat tour': ['boat trip'],\n 'boating': ['boat trip'],\n 'bocce ball': ['game'],\n 'body contouring': ['superficial anatomy'],\n 'body shop': ['auto body shop'],\n 'book': ['book'],\n 'bookbinding': ['book store'],\n 'bookkeeper': ['book store'],\n 'bookstore': ['book store'],\n 'boot camp': ['recruiting'],\n 'botanical garden': ['garden store'],\n 'boudoir photography': ['photograph'],\n 'bounce house rental': ['house'],\n 'bowling': ['bowling alley'],\n 'boxing': ['school'],\n 'brassery': ['plumber'],\n 'brazilian': ['country'],\n 'brazilian jiu-jitsu': ['strength training'],\n 'breakfast': ['bed and breakfast'],\n 'breakfest': ['festival'],\n 'brewery': ['brewery'],\n 'brewing supply': ['brewery'],\n 'brewpub': ['brewery'],\n 'bridal': ['florist'],\n 'british': ['country'],\n 'brunch': ['bed and breakfast'],\n 'bubble soccer': ['sports event'],\n 'bubble tea': ['throat'],\n 'buddhist temple': ['buddhist temple'],\n 'buffet': ['restaurant'],\n 'building supply': ['how to supply'],\n 'burger': ['restaurant'],\n 'burmese': ['language'],\n 'bus': ['bus trip'],\n 'bus rental': ['bus station'],\n 'bus station': ['bus station'],\n 'bus tour': ['bus trip'],\n 'business consulting': ['business support'],\n 'business financing': ['business support'],\n 'business law': ['legal service'],\n 'butcher': ['occupation'],\n 'cabaret': ['night club'],\n 'cabinetry': ['government office'],\n 'cafe': ['cafe or coffee shop'],\n 'cafeteria': ['restaurant'],\n 'cajun': ['distillery'],\n 'cake shop': ['ice cream shop'],\n 'calabrian': ['continent'],\n 'calligraphy': ['drawing'],\n 'cambodian': ['country'],\n 'campground': ['campground'],\n 'canadian (new)': ['new condition'],\n 'candle store': ['liquor store'],\n 'candy store': ['grocery store'],\n 'cannabis clinic': ['medical clinic'],\n 'cannabis collective': ['music group'],\n 'cannabis dispensary': ['drug legal status'],\n 'cannabis tour': ['trip'],\n 'cantonese': ['language'],\n 'car auction': ['auto dealer'],\n 'car broker': ['automotive business'],\n 'car buyer': ['auto dealer'],\n 'car dealer': ['auto dealer'],\n 'car inspector': ['auto dealer'],\n 'car rental': ['auto rental'],\n 'car share service': ['automotive business'],\n 'car stereo installation': ['auto dealer'],\n 'car wash': ['auto wash'],\n 'car window tinting': ['car'],\n 'card': ['credit card'],\n 'cardio class': ['drug class'],\n 'cardiologist': ['physician'],\n 'career counseling': ['occupational therapy'],\n 'caribbean': ['country'],\n 'caricature': ['appearance'],\n 'carousel': ['amusement park'],\n 'carpenter': ['general contractor'],\n 'carpet cleaning': ['dry cleaning or laundry'],\n 'carpet dyeing': ['painting'],\n 'carpet installation': ['install action'],\n 'carpeting': ['floor plan'],\n 'casino': ['casino'],\n 'caterer': ['food service'],\n 'cemetery': ['cemetery'],\n 'ceremonial clothing': ['wear action'],\n 'challenge course': ['course instance'],\n 'champagne bar': ['bar or pub'],\n 'check cashing': ['money transfer'],\n 'cheerleading': ['sports team'],\n 'cheese shop': ['ice cream shop'],\n 'cheese tasting class': ['class'],\n 'cheesesteak': ['restaurant'],\n 'chicken shop': ['grocery store'],\n 'chicken wing': ['flight'],\n 'child care': ['child care'],\n 'childbirth education': ['midwifery'],\n 'childproofing': ['childrens event'],\n \"children's clothing\": ['clothing store'],\n \"children's museum\": ['museum'],\n 'chimney sweep': ['crematorium'],\n 'chinese': ['traditional chinese'],\n 'chinese martial art': ['traditional chinese'],\n 'chiropractor': ['chiropractic'],\n 'chocolatier': ['bakery'],\n 'christmas tree': ['public holidays'],\n 'church': ['church'],\n 'cidery': ['recipe'],\n 'cigar bar': ['bar or pub'],\n 'cinema': ['movie theater'],\n 'circuit training gym': ['exercise gym'],\n 'circus school': ['elementary school'],\n 'climbing': ['mountain'],\n 'clock repair': ['auto repair'],\n 'clothing rental': ['clothing store'],\n 'clown': ['comedy event'],\n 'club crawl': ['sports club'],\n 'cocktail bar': ['bar or pub'],\n 'coffee': ['cafe or coffee shop'],\n 'coffee roastery': ['cafe or coffee shop'],\n 'coffee supply': ['cafe or coffee shop'],\n 'coffeeshop': ['cafe or coffee shop'],\n 'college': ['college or university'],\n 'college counseling': ['college or university'],\n 'colombian': ['country'],\n 'colonic': ['abdomen'],\n 'comedy club': ['comedy club'],\n 'comfort food': ['food establishment'],\n 'comic book': ['comic series'],\n 'commercial real estate': ['real estate agent'],\n 'commercial truck dealer': ['auto dealer'],\n 'commercial truck repair': ['auto repair'],\n 'commissioned artist': ['house painter'],\n 'community center': ['shopping center'],\n 'community garden': ['garden store'],\n 'community service': ['service'],\n 'competition': ['sports event'],\n 'computer': ['computer language'],\n 'computer repiar': ['computer store'],\n 'concept shop': ['hobby shop'],\n 'concierge medicine': ['medical therapy'],\n 'concrete': ['substance'],\n 'condominium': ['apartment'],\n 'consignment': ['alignment object'],\n 'consumer law': ['legislation'],\n 'contract law': ['legal service'],\n 'contractor': ['general contractor'],\n 'convenience store': ['convenience store'],\n 'conveyor belt sushi': ['canal'],\n 'cooking class': ['cook action'],\n 'cooking school': ['school'],\n 'cosmetic': ['appearance'],\n 'cosmetic dentist': ['dentist'],\n 'cosmetic surgeon': ['surgical'],\n 'cosmetology school': ['school'],\n 'costume': ['appearance'],\n 'counseling': ['therapeutic'],\n 'countertop installation': ['interaction counter'],\n 'country club': ['sports club'],\n 'country dance hall': ['dance event'],\n 'courier': ['parcel delivery'],\n 'courthouse': ['courthouse'],\n 'cpr class': ['class'],\n 'craft': ['hobby shop'],\n 'crane service': ['service'],\n 'credit union': ['bank or credit union'],\n 'cremation service': ['crematorium'],\n 'creole': ['language'],\n 'crepery': ['crematorium'],\n 'criminal defense law': ['defence establishment'],\n 'crisis pregnancy center': ['shopping center'],\n 'crochet': ['drawing'],\n 'cryotherapy': ['toxicologic'],\n 'csa': ['consortium'],\n 'cuban': ['country'],\n 'cucina campana': ['nonprofitanbi'],\n 'cultural center': ['shopping center'],\n 'cupcake': ['bakery'],\n 'currency exchange': ['currency conversion service'],\n 'custom cake': ['bakery'],\n 'customized merchandise': ['wholesale'],\n 'cycling class': ['motorized bicycle'],\n 'czech': ['country'],\n 'damage restoration': ['damaged condition'],\n 'dance club': ['dance group'],\n 'dance school': ['dance group'],\n 'dance studio': ['dance group'],\n 'dance wear': ['dance event'],\n 'dart arena': ['stadium or arena'],\n 'data recovery': ['data download'],\n 'day camp': ['campground'],\n 'day care': ['child care'],\n 'day spa': ['day spa'],\n 'debt relief service': ['financial service'],\n 'deck': ['vessel'],\n 'deli': ['city'],\n 'delicatessen': ['joint'],\n 'delivery service': ['parcel delivery'],\n 'demolition service': ['service'],\n 'dental hygienist': ['dentist'],\n 'dentist': ['dentist'],\n 'department of motor vehicles': ['vehicle'],\n 'department store': ['department store'],\n 'dermatologist': ['dermatology'],\n 'dessert': ['recipe'],\n 'diagnostic imaging': ['medical imaging technique'],\n 'diagnostic service': ['diagnostic'],\n 'dialysis clinic': ['medical clinic'],\n 'diamond buyer': ['jewelry store'],\n 'dietitian': ['diet'],\n 'digitizing service': ['service'],\n 'dim sum': ['series'],\n 'diner': ['restaurant'],\n 'dinner theater': ['movie theater'],\n 'disability law': ['disability support'],\n 'disc golf': ['golf course'],\n 'discount store': ['department store'],\n 'distillery': ['distillery'],\n 'dive bar': ['bar or pub'],\n 'dive shop': ['resort'],\n 'diving': ['resort'],\n 'divorce law': ['courthouse'],\n 'diy auto shop': ['auto body shop'],\n 'dj': ['dj mix album'],\n 'do-it-yourself food': ['eat action'],\n 'doctor': ['physician'],\n 'dog park': ['park'],\n 'dog walker': ['animal shelter'],\n 'dominican': ['country'],\n 'donair': ['nonprofitanbi'],\n 'donation center': ['donate action'],\n 'donburi': ['nonprofitanbi'],\n 'donut': ['bakery'],\n 'door installation': ['locksmith'],\n 'door sale': ['sale price'],\n 'doula': ['fungus'],\n 'drama school': ['school'],\n 'drive-in theater': ['movie theater'],\n 'drive-thru bar': ['bar or pub'],\n 'driving school': ['driving school vehicle usage'],\n 'drone': ['flight'],\n 'drugstore': ['pharmacy'],\n 'dry cleaning': ['dry cleaning or laundry'],\n 'drywall installation': ['install action'],\n 'drywall repair': ['damaged condition'],\n 'dui law': ['legal service'],\n 'dui school': ['school'],\n 'dumpling': ['plumber'],\n 'dumpster rental': ['rent action'],\n 'duplication service': ['service'],\n 'dvd': ['dvd format'],\n 'ear nose & throat': ['ear'],\n 'eastern european': ['continent'],\n 'eatertainment': ['food establishment'],\n 'editorial service': ['newspaper'],\n 'education': ['school'],\n 'educational service': ['educational organization'],\n 'egyptian': ['country'],\n 'elder care planning': ['geriatric'],\n 'elder law': ['attorney'],\n 'electrician': ['electrician'],\n 'electricity supplier': ['electrician'],\n 'electronic': ['electrician'],\n 'electronics repair': ['auto repair'],\n 'elementary school': ['elementary school'],\n 'elevator service': ['service'],\n 'embassy': ['embassy'],\n 'embroidery': ['tattoo parlor'],\n 'emergency medicine': ['emergency service'],\n 'emergency pet hospital': ['hospital'],\n 'emergency room': ['emergency'],\n 'empanada': ['protozoa'],\n 'employment agency': ['employment agency'],\n 'employment law': ['employment agency'],\n 'endocrinologist': ['endocrine'],\n 'endodontist': ['dentist'],\n 'engraving': ['text'],\n 'entertainment': ['entertainment business'],\n 'environmental abatement': ['recycling center'],\n 'environmental testing': ['laboratory science'],\n 'escape game': ['video game'],\n 'estate liquidation': ['real estate agent'],\n 'estate planning law': ['real estate agent'],\n 'esthetician': ['beauty salon'],\n 'ethical grocery': ['grocery store'],\n 'ethiopian': ['ngo'],\n 'ethnic food': ['food establishment'],\n 'ethnic grocery': ['grocery store'],\n 'ev charging station': ['outlet store'],\n 'event photography': ['exhibition event'],\n 'event planning': ['event'],\n 'event service': ['event'],\n 'event space': ['event'],\n 'excavation service': ['search rescue organization'],\n 'exercise equipment': ['exercise gym'],\n 'experience': ['patient experience health aspect'],\n 'eyebrow service': ['service'],\n 'eyelash service': ['service'],\n 'eyewear': ['eye'],\n 'fabric store': ['clothing store'],\n 'face painting': ['painting'],\n 'faith-based crisis pregnancy center': ['church'],\n 'falafel': ['fd acategorya'],\n 'family law': ['legal service'],\n 'family practice': ['child care'],\n 'farm': ['service'],\n 'farm equipment repair': ['motorcycle repair'],\n 'farmers market': ['garden store'],\n 'farming equipment': ['how to supply'],\n 'fashion': ['appearance'],\n 'fast food': ['fast food restaurant'],\n 'fence': ['bridge'],\n 'fencing club': ['sports club'],\n 'ferry': ['boat trip'],\n 'fertility': ['pregnancy health aspect'],\n 'festival': ['festival'],\n 'filipino': ['traditional chinese'],\n 'film production': ['film action'],\n 'financial advising': ['financial service'],\n 'financial service': ['financial service'],\n 'fingerprinting': ['user checkins'],\n 'fire department': ['fire station'],\n 'fire protection service': ['fire station'],\n 'firearm training': ['strength training'],\n 'fireplace service': ['fire station'],\n 'firewood': ['fire station'],\n 'firework': ['fire station'],\n 'first aid class': ['drug class'],\n 'fish & chip': ['casino'],\n 'fishing': ['aquarium'],\n 'fishing supply': ['boat reservation'],\n 'fitnes': ['wearable size group boys'],\n 'fitness equipment': ['exercise gym'],\n 'flea market': ['grocery store'],\n 'flight instruction': ['flight'],\n 'float spa': ['float'],\n 'flooring': ['floor plan'],\n 'floral designer': ['florist'],\n 'florist': ['florist'],\n 'flower': ['florist'],\n 'flyboarding': ['flight'],\n 'fondue': ['recipe'],\n 'food': ['food establishment'],\n 'food bank': ['food service'],\n 'food court': ['food establishment'],\n 'food delivery service': ['food service'],\n 'food stand': ['food establishment'],\n 'food tour': ['food establishment'],\n 'food truck': ['food service'],\n 'foot care': ['podiatric'],\n 'formal wear': ['wear action'],\n 'foundation repair': ['motorcycle repair'],\n 'framing': ['drawing'],\n 'free diving': ['resort'],\n 'french': ['language'],\n 'frozen yogurt': ['ice cream shop'],\n 'fruit': ['some products'],\n 'fuel dock': ['gas station'],\n 'funeral service': ['cemetery'],\n 'fur clothing': ['clothing store'],\n 'furniture assembly': ['furniture store'],\n 'furniture rental': ['furniture store'],\n 'furniture repair': ['furniture store'],\n 'furniture reupholstery': ['furniture store'],\n 'furniture store': ['furniture store'],\n 'fuzhou': ['city'],\n 'game truck rental': ['auto rental'],\n 'garage door service': ['service'],\n 'garden': ['garden store'],\n 'gardener': ['florist'],\n 'gardening': ['garden store'],\n 'gas station': ['gas station'],\n 'gastroenterologist': ['gastroenterologic'],\n 'gastropub': ['gastroenterologic'],\n 'gate': ['grant'],\n 'gay bar': ['bar or pub'],\n 'gelato': ['bakery'],\n 'gemstone': ['jewelry store'],\n 'general dentistry': ['dentistry'],\n 'general festival': ['festival'],\n 'general litigation': ['attorney'],\n 'generator installation': ['how to supply'],\n 'generator repair': ['motorcycle repair'],\n 'georgian': ['country'],\n 'german': ['language'],\n 'gerontologist': ['medical researcher'],\n 'gift': ['product'],\n 'gift shop': ['department store'],\n 'glas': ['atlas'],\n 'glass blowing': ['lung'],\n 'gluten-free': ['gluten free diet'],\n 'go kart': ['golf course'],\n 'gold buyer': ['trade action'],\n 'golf': ['golf course'],\n 'golf cart dealer': ['auto dealer'],\n 'golf cart rental': ['golf course'],\n 'golf equipment': ['golf course'],\n 'golf equipment shop': ['golf course'],\n 'golf lesson': ['golf course'],\n 'government': ['government office'],\n 'graphic design': ['visual artwork'],\n 'greek': ['language'],\n 'grill service': ['food service'],\n 'grilling equipment': ['cook action'],\n 'grocery': ['grocery store'],\n 'grout service': ['food service'],\n 'guamanian': ['ct'],\n 'guest house': ['house'],\n 'guitar store': ['music store'],\n 'gun': ['game'],\n 'gun range': ['distance'],\n 'gunsmith': ['locksmith'],\n 'gutter service': ['service'],\n 'gym': ['exercise gym'],\n 'gymnastic': ['musculoskeletal'],\n 'gynecologist': ['gynecologic'],\n 'hainan': ['country'],\n 'hair extension': ['hair salon'],\n 'hair loss center': ['hair salon'],\n 'hair removal': ['hair salon'],\n 'hair salon': ['hair salon'],\n 'hair stylist': ['hair salon'],\n 'haitian': ['country'],\n 'hakka': ['game'],\n 'halal': ['halal diet'],\n 'halfway house': ['house'],\n 'halotherapy': ['radiation therapy'],\n 'handyman': ['general contractor'],\n 'hang gliding': ['flight'],\n 'hardware store': ['hardware store'],\n 'hat': ['head'],\n 'hauling': ['vehicle'],\n 'haunted house': ['house'],\n 'hawaiian': ['volcano'],\n 'hazardous waste disposal': ['recycling center'],\n 'head shop': ['clothing store'],\n 'health': ['health care'],\n 'health coach': ['health club'],\n 'health insurance office': ['insurance agency'],\n 'health market': ['medical business'],\n 'health retreat': ['health club'],\n 'hearing aid provider': ['hearing impaired supported'],\n 'heating': ['energy'],\n 'henna artist': ['house painter'],\n 'hepatologist': ['physician'],\n 'herb': ['drug'],\n 'herbal shop': ['garden store'],\n 'high fidelity audio equipment': ['audio object'],\n 'high school': ['high school'],\n 'hiking': ['trip'],\n 'himalayan': ['mountain'],\n 'hindu temple': ['hindu temple'],\n 'historical building': ['landmarks or historical buildings'],\n 'historical tour': ['tourist trip'],\n 'hobby shop': ['hobby shop'],\n 'hockey equipment': ['sporting goods store'],\n 'holiday decorating service': ['public holidays'],\n 'holiday decoration': ['public holidays'],\n 'holistic': ['homeopathic'],\n 'holistic animal care': ['veterinary care'],\n 'home': ['house'],\n 'home automation': ['house'],\n 'home cleaning': ['dry cleaning or laundry'],\n 'home decor': ['house'],\n 'home developer': ['home and construction business'],\n 'home energy auditor': ['energy star certified'],\n 'home health care': ['health care'],\n 'home inspector': ['house'],\n 'home insurance': ['insurance agency'],\n 'home network installation': ['residence'],\n 'home organization': ['organization'],\n 'home service': ['service'],\n 'home staging': ['house'],\n 'home theatre installation': ['performing arts theater'],\n 'home window tinting': ['house painter'],\n 'homeless shelter': ['animal shelter'],\n 'homeowner association': ['unincorporated association charity'],\n 'honduran': ['nonprofitanbi'],\n 'honey': ['throat'],\n 'hong kong style cafe': ['cafe or coffee shop'],\n 'hookah bar': ['bar or pub'],\n 'horse boarding': ['boat reservation'],\n 'horse equipment shop': ['office equipment store'],\n 'horse racing': ['sports event'],\n 'horseback riding': ['motorcycle'],\n 'hospice': ['hospital'],\n 'hospital': ['hospital'],\n 'hospitalist': ['clinician'],\n 'hostel': ['hostel'],\n 'hot air balloon': ['airline'],\n 'hot dog': ['pet'],\n 'hot pot': ['cook action'],\n 'hot tub': ['reservoir'],\n 'hot tub service': ['service'],\n 'hotel': ['hotel'],\n 'hotel bar': ['hotel'],\n 'house sitter': ['house'],\n 'housing cooperative': ['gated residence community'],\n 'hungarian': ['country'],\n 'hunting supply': ['how to supply'],\n 'hvac': ['hvac business'],\n 'hybrid car repair': ['auto repair'],\n 'hydro-jetting': ['vessel'],\n 'hydroponic': ['aquarium'],\n 'hydrotherapy': ['radiation therapy'],\n 'hyperbaric medicine': ['medical therapy'],\n 'hypnosi': ['protozoa'],\n 'hypnotherapy': ['physiotherapy'],\n 'iberian': ['continent'],\n 'ice cream': ['ice cream shop'],\n 'ice delivery': ['delivery method'],\n 'immigration law': ['permit'],\n 'immunodermatologist': ['dermatology'],\n 'imported food': ['food establishment'],\n 'indian': ['country'],\n 'indonesian': ['language'],\n 'indoor landscaping': ['gated residence community'],\n 'indoor playcentre': ['music venue'],\n 'infectious disease specialist': ['infectious disease'],\n 'installment loan': ['installment'],\n 'instruction': ['guide'],\n 'insulation installation': ['roofing contractor'],\n 'insurance': ['insurance agency'],\n 'interior design': ['entry point'],\n 'interlock system': ['locksmith'],\n 'internal medicine': ['medicine system'],\n 'international': ['international trial'],\n 'international grocery': ['grocery store'],\n 'internet cafe': ['internet cafe'],\n 'internet law': ['internet cafe'],\n 'internet service provider': ['cable or satellite service'],\n 'interval training gym': ['exercise gym'],\n 'investing': ['investment fund'],\n 'ip law': ['broadcast service'],\n 'iranian': ['country'],\n 'irish': ['country'],\n 'irish pub': ['bar or pub'],\n 'irrigation': ['pond'],\n 'israeli': ['synagogue'],\n 'it service': ['service'],\n 'italian': ['language'],\n 'iv hydration': ['renal'],\n 'izakaya': ['nonprofitanbi'],\n 'jail': ['drug'],\n 'japanese': ['language'],\n 'japanese curry': ['traditional chinese'],\n 'jazz': ['music group'],\n 'jet ski': ['ski resort'],\n 'jewelry': ['jewelry store'],\n 'jewelry repair': ['jewelry store'],\n 'juice bar': ['bar or pub'],\n 'junk removal': ['recycling center'],\n 'junkyard': ['tire shop'],\n 'karaoke': ['music recording'],\n 'karaoke rental': ['music venue'],\n 'karate': ['muscle'],\n 'kayaking': ['boat trip'],\n 'kebab': ['bacteria'],\n 'key': ['offer'],\n 'kickboxing': ['dance event'],\n 'kids activity': ['childrens event'],\n 'kids hair salon': ['hair salon'],\n 'kiosk': ['return at kiosk'],\n 'kitchen': ['restaurant'],\n 'kitchen incubator': ['food establishment'],\n 'kitchen supply': ['how to supply'],\n 'kiteboarding': ['flight'],\n 'knife sharpening': ['how to tool'],\n 'knitting supply': ['how to supply'],\n 'kombucha': ['protozoa'],\n 'korean': ['language'],\n 'kosher': ['kosher diet'],\n 'laboratory testing': ['laboratory science'],\n 'lactation service': ['food service'],\n 'lahmacun': ['nonprofitanbi'],\n 'lake': ['lake body of water'],\n 'lan center': ['internet cafe'],\n 'land surveying': ['landform'],\n 'landmark': ['landmarks or historical buildings'],\n 'landscape architect': ['real estate agent'],\n 'landscaping': ['park'],\n 'language school': ['language'],\n 'laotian': ['traditional chinese'],\n 'laser eye surgery': ['surgical procedure'],\n 'laser hair removal': ['hair salon'],\n 'laser tag': ['laser disc format'],\n 'lasik': ['optician'],\n 'latin american': ['country'],\n 'laundromat': ['dry cleaning or laundry'],\n 'laundry': ['dry cleaning or laundry'],\n 'laundry service': ['dry cleaning or laundry'],\n 'lawn service': ['service'],\n 'lawyer': ['attorney'],\n 'leather good': ['brand'],\n 'lebanese': ['country'],\n 'legal service': ['legal service'],\n 'leisure center': ['shopping center'],\n 'library': ['library'],\n 'lice service': ['service'],\n 'life coach': ['bus or coach'],\n 'life insurance': ['insurance agency'],\n 'lighting equipment': ['office equipment store'],\n 'lighting fixture': ['city hall'],\n 'lighting store': ['electronics store'],\n 'limo': ['car'],\n 'lingerie': ['clothing store'],\n 'live food': ['diet'],\n 'livestock supply': ['veterinary care'],\n 'livestoock feed': ['food event'],\n 'local fish store': ['grocery store'],\n 'local flavor': ['local business'],\n 'local service': ['local business'],\n 'locksmith': ['locksmith'],\n 'lounge': ['bar or pub'],\n 'luggage': ['airline'],\n 'luggage storage': ['self storage'],\n 'macaron': ['restaurant'],\n 'machine rental': ['auto rental'],\n 'machine shop': ['hobby shop'],\n 'mag': ['poster'],\n 'magazine': ['hardcover'],\n 'magician': ['aquarium'],\n 'mailbox center': ['post office'],\n 'makerspace': ['room'],\n 'makeup artist': ['house painter'],\n 'malaysian': ['country'],\n 'marina': ['beach'],\n 'marketing': ['business audience'],\n 'martial art': ['strength training'],\n 'masonry': ['government building'],\n 'mass media': ['news media organization'],\n 'massage': ['muscle'],\n 'massage school': ['school'],\n 'massage therapy': ['physical therapy'],\n 'matchmaker': ['single player'],\n 'maternity wear': ['wearable size group maternity'],\n 'mattress': ['bed type'],\n 'meadery': ['beauty salon'],\n 'meat shop': ['grocery store'],\n 'mediator': ['media object'],\n 'medical': ['physician'],\n 'medical cannabis referral': ['drug legal status'],\n 'medical center': ['medical clinic'],\n 'medical law': ['medical code'],\n 'medical spa': ['medical clinic'],\n 'medical supply': ['medical business'],\n 'medical transportation': ['medical business'],\n 'meditation center': ['shopping center'],\n 'mediterranean': ['continent'],\n 'memory care': ['self storage'],\n \"men's clothing\": ['mens clothing store'],\n \"men's hair salon\": ['hair salon'],\n 'mental health': ['psychiatric'],\n 'metal detector service': ['service'],\n 'metal fabricator': ['sculpture'],\n 'mexican': ['country'],\n 'middle eastern': ['country'],\n 'middle school': ['middle school'],\n 'midwife': ['midwifery'],\n 'military surplu': ['defence establishment'],\n 'mineral': ['substance'],\n 'mini golf': ['golf course'],\n 'mirro': ['brand'],\n 'mobile dent repair': ['dentistry'],\n 'mobile home dealer': ['auto dealer'],\n 'mobile home park': ['park'],\n 'mobile home repair': ['auto repair'],\n 'mobile phone': ['mobile phone store'],\n 'mobile phone accessory': ['mobile phone store'],\n 'mobile phone repair': ['mobile phone store'],\n 'mobility equipment sale': ['office equipment store'],\n 'mobility equipment service': ['taxi service'],\n 'modern european': ['language'],\n 'mohel': ['taxon'],\n 'mongolian': ['traditional chinese'],\n 'montessori school': ['preschool'],\n 'moroccan': ['mosque'],\n 'mortgage broker': ['mortgage loan'],\n 'mortgage lender': ['mortgage loan'],\n 'mortuary service': ['financial service'],\n 'mosque': ['mosque'],\n 'motorcycle dealer': ['motorcycle dealer'],\n 'motorcycle gear': ['motorcycle'],\n 'motorcycle part': ['motorcycle'],\n 'motorcycle rental': ['motorcycle'],\n 'motorcycle repair': ['motorcycle repair'],\n 'motorcycle supply': ['motorcycle'],\n 'motorsport vehicle dealer': ['auto dealer'],\n 'motorsport vehicle repair': ['auto repair'],\n 'mountain biking': ['mountain'],\n 'mover': ['move action'],\n 'muay thai': ['traditional chinese'],\n 'municipality': ['city'],\n 'museum': ['museum'],\n 'music': ['music composition'],\n 'music production service': ['music album production type'],\n 'music venue': ['music venue'],\n 'musical instrument': ['music composition'],\n 'musical instrument service': ['service'],\n 'musical teacher': ['music composition'],\n 'musician': ['music composition'],\n 'nail salon': ['nail salon'],\n 'nail technician': ['nail salon'],\n 'nanny service': ['child care'],\n 'natural gas supplier': ['gas station'],\n 'naturopathic': ['therapeutic'],\n 'nepalese': ['ngo'],\n 'nephrologist': ['physician'],\n 'neurologist': ['neurologic'],\n 'neuropathologist': ['neurologic'],\n 'neurotologist': ['neurologic'],\n 'new mexican cuisine': ['recipe'],\n 'newspaper': ['newspaper'],\n 'nicaraguan': ['country'],\n 'nightlife': ['night club'],\n 'non profit': ['nonprofit type'],\n 'noodle': ['pet'],\n 'notary': ['notary'],\n 'nudist': ['plastic surgery'],\n 'nurse practitioner': ['nursing'],\n 'nursery': ['preschool'],\n 'nursing school': ['nursing'],\n 'nutritionist': ['diet nutrition'],\n 'observatory': ['observation'],\n 'obstetrician': ['obstetric'],\n 'occupational therapy': ['occupational therapy'],\n 'office cleaning': ['dry cleaning or laundry'],\n 'office equipment': ['office equipment store'],\n 'officiant': ['attorney'],\n 'oil change station': ['gas station'],\n 'olive oil': ['recipe'],\n 'oncologist': ['oncologic'],\n 'ophthalmologist': ['optician'],\n 'optician': ['optician'],\n 'optometrist': ['optician'],\n 'opus': ['compilation album'],\n 'oral surgeon': ['dentist'],\n 'organic store': ['garden store'],\n 'oriental': ['traditional chinese'],\n 'orthodontist': ['dentist'],\n 'orthopedist': ['physician'],\n 'orthotic': ['bone'],\n 'osteopath': ['osteopathic'],\n 'osteopathic physician': ['osteopathic'],\n 'otologist': ['ear'],\n 'out service': ['service'],\n 'outdoor furniture store': ['furniture store'],\n 'outdoor gear': ['motorized bicycle'],\n 'outdoor movie': ['film action'],\n 'outdoor power equipment service': ['broadcast service'],\n 'outdoor storage': ['self storage'],\n 'outlet store': ['outlet store'],\n 'oxygen bar': ['wp side bar'],\n 'packing service': ['parcel service'],\n 'packing supply': ['how to supply'],\n 'paddleboarding': ['boat trip'],\n 'pain management': ['medical therapy'],\n 'paint': ['painting'],\n 'paint store': ['painting'],\n 'paint-your-own pottery': ['painting'],\n 'paintball': ['paint action'],\n 'painter': ['house painter'],\n 'pakistani': ['country'],\n 'pan asian': ['traditional chinese'],\n 'pancake': ['bakery'],\n 'paragliding': ['flight'],\n 'parasailing': ['flight'],\n 'parent cafe': ['cafe or coffee shop'],\n 'parenting class': ['preschool'],\n 'park': ['park'],\n 'parking': ['parking facility'],\n 'parklet': ['park'],\n 'party bike rental': ['bike store'],\n 'party bus rental': ['bus station'],\n 'party character': ['person'],\n 'party equipment rental': ['office equipment store'],\n 'party planning': ['plan action'],\n 'party supply': ['how to supply'],\n 'passport service': ['government service'],\n 'pasta shop': ['ice cream shop'],\n 'patent law': ['legislation'],\n 'pathologist': ['physician'],\n 'patio covering': ['cover art'],\n 'patisserie shop': ['hobby shop'],\n 'pawn shop': ['pawn shop'],\n 'pay-day loan': ['one time payments'],\n 'payroll service': ['accounting service'],\n 'pediatric dentist': ['dentist'],\n 'pediatrician': ['pediatric'],\n 'pedicab': ['nail salon'],\n 'performing art': ['performing arts theater'],\n 'perfume': ['some products'],\n 'perinatal care': ['obstetric'],\n 'periodontist': ['dentist'],\n 'permanent makeup': ['appearance'],\n 'persian': ['language'],\n 'personal assistant': ['employment agency'],\n 'personal care service': ['professional service'],\n 'personal chef': ['restaurant'],\n 'personal injury law': ['safety health aspect'],\n 'personal shopping': ['shopping center'],\n 'peruvian': ['continent'],\n 'pest control': ['control action'],\n 'pet': ['pet'],\n 'pet adoption': ['pet'],\n 'pet boarding': ['pet'],\n 'pet breeder': ['pet'],\n 'pet cremation service': ['crematorium'],\n 'pet groomer': ['pet'],\n 'pet hospice': ['pet'],\n 'pet insurance': ['pet'],\n 'pet photography': ['pet'],\n 'pet service': ['pet'],\n 'pet sitting': ['pet'],\n 'pet store': ['pet store'],\n 'pet training': ['pet'],\n 'pet transportation': ['pet'],\n 'pet waste removal': ['pet'],\n 'petting zoo': ['zoo'],\n 'pharmacy': ['pharmacy'],\n 'phlebologist': ['physician'],\n 'photo booth rental': ['movie rental store'],\n 'photographer': ['photograph'],\n 'photography class': ['photograph action'],\n 'photography service': ['service'],\n 'photography store': ['electronics store'],\n 'physical therapy': ['physical therapy'],\n 'piano bar': ['barcode'],\n 'piano service': ['service'],\n 'piano store': ['music store'],\n 'pick your own farm': ['game server'],\n 'pickleball': ['game'],\n 'piercing': ['ear'],\n 'pilate': ['computer language'],\n 'pita': ['pet'],\n 'pizza': ['restaurant'],\n 'placenta encapsulation': ['obstetric'],\n 'planetarium': ['museum'],\n 'plasma donation center': ['charitable incorporated organization'],\n 'plastic surgeon': ['plastic surgery'],\n 'playground': ['playground'],\n 'playset': ['play'],\n ...}"
     },
     "execution_count": 47,
     "metadata": {},
     "output_type": "execute_result"
    }
   ],
   "source": [
    "mappings[[\"yelp_category\", \"mapped_schema\"]].set_index('yelp_category').stack().groupby(level=0).agg(list).to_dict()"
   ]
  },
  {
   "cell_type": "code",
   "execution_count": 64,
   "metadata": {
    "collapsed": false,
    "pycharm": {
     "name": "#%%\n"
    }
   },
   "outputs": [
    {
     "data": {
      "text/plain": "            yelp_category      mapped_schema  similarity\n217       service station        bus station    0.767655\n170               bowling      bowling alley    0.800881\n1242         pest control     control action    0.433374\n553        lighting store  electronics store    0.625327\n456                  tour               trip    0.657896\n1027  garage door service            service    0.497877\n1379        hydro-jetting             vessel    0.366921\n497       donation center      donate action    0.643401\n945           escape game         video game    0.517067\n33              synagogue          synagogue    1.000000",
      "text/html": "<div>\n<style scoped>\n    .dataframe tbody tr th:only-of-type {\n        vertical-align: middle;\n    }\n\n    .dataframe tbody tr th {\n        vertical-align: top;\n    }\n\n    .dataframe thead th {\n        text-align: right;\n    }\n</style>\n<table border=\"1\" class=\"dataframe\">\n  <thead>\n    <tr style=\"text-align: right;\">\n      <th></th>\n      <th>yelp_category</th>\n      <th>mapped_schema</th>\n      <th>similarity</th>\n    </tr>\n  </thead>\n  <tbody>\n    <tr>\n      <th>217</th>\n      <td>service station</td>\n      <td>bus station</td>\n      <td>0.767655</td>\n    </tr>\n    <tr>\n      <th>170</th>\n      <td>bowling</td>\n      <td>bowling alley</td>\n      <td>0.800881</td>\n    </tr>\n    <tr>\n      <th>1242</th>\n      <td>pest control</td>\n      <td>control action</td>\n      <td>0.433374</td>\n    </tr>\n    <tr>\n      <th>553</th>\n      <td>lighting store</td>\n      <td>electronics store</td>\n      <td>0.625327</td>\n    </tr>\n    <tr>\n      <th>456</th>\n      <td>tour</td>\n      <td>trip</td>\n      <td>0.657896</td>\n    </tr>\n    <tr>\n      <th>1027</th>\n      <td>garage door service</td>\n      <td>service</td>\n      <td>0.497877</td>\n    </tr>\n    <tr>\n      <th>1379</th>\n      <td>hydro-jetting</td>\n      <td>vessel</td>\n      <td>0.366921</td>\n    </tr>\n    <tr>\n      <th>497</th>\n      <td>donation center</td>\n      <td>donate action</td>\n      <td>0.643401</td>\n    </tr>\n    <tr>\n      <th>945</th>\n      <td>escape game</td>\n      <td>video game</td>\n      <td>0.517067</td>\n    </tr>\n    <tr>\n      <th>33</th>\n      <td>synagogue</td>\n      <td>synagogue</td>\n      <td>1.000000</td>\n    </tr>\n  </tbody>\n</table>\n</div>"
     },
     "execution_count": 64,
     "metadata": {},
     "output_type": "execute_result"
    }
   ],
   "source": [
    "mappings.sample(10)"
   ]
  },
  {
   "cell_type": "code",
   "execution_count": 61,
   "metadata": {
    "collapsed": false,
    "pycharm": {
     "name": "#%%\n"
    }
   },
   "outputs": [],
   "source": [
    "manual_mapping = pd.read_excel(\"yelp_schema_manual_mapping.xlsx\", names=[\"yelp_category\", \"manual_mapped_schema\"], usecols=[0, 1]).dropna()[:200]"
   ]
  },
  {
   "cell_type": "code",
   "execution_count": 36,
   "metadata": {
    "collapsed": false,
    "pycharm": {
     "name": "#%%\n"
    }
   },
   "outputs": [
    {
     "data": {
      "text/plain": "          yelp_category          mapped_schema  similarity  \\\n0      aviation service                airline    0.736034   \n1          veterinarian        veterinary care    0.772105   \n2           shaved snow               mountain    0.426003   \n3     game truck rental            auto rental    0.638553   \n4        hunting supply          how to supply    0.499186   \n..                  ...                    ...         ...   \n195       cooking class            cook action    0.630217   \n196                soup                 throat    0.492700   \n197  college counseling  college or university    0.509525   \n198            magazine              hardcover    0.550991   \n199          life coach           bus or coach    0.518807   \n\n    manual_mapped_schema  \n0                airline  \n1        veterinary care  \n2                   None  \n3                   None  \n4                   None  \n..                   ...  \n195                 None  \n196                 None  \n197                 None  \n198                 None  \n199                 None  \n\n[200 rows x 4 columns]",
      "text/html": "<div>\n<style scoped>\n    .dataframe tbody tr th:only-of-type {\n        vertical-align: middle;\n    }\n\n    .dataframe tbody tr th {\n        vertical-align: top;\n    }\n\n    .dataframe thead th {\n        text-align: right;\n    }\n</style>\n<table border=\"1\" class=\"dataframe\">\n  <thead>\n    <tr style=\"text-align: right;\">\n      <th></th>\n      <th>yelp_category</th>\n      <th>mapped_schema</th>\n      <th>similarity</th>\n      <th>manual_mapped_schema</th>\n    </tr>\n  </thead>\n  <tbody>\n    <tr>\n      <th>0</th>\n      <td>aviation service</td>\n      <td>airline</td>\n      <td>0.736034</td>\n      <td>airline</td>\n    </tr>\n    <tr>\n      <th>1</th>\n      <td>veterinarian</td>\n      <td>veterinary care</td>\n      <td>0.772105</td>\n      <td>veterinary care</td>\n    </tr>\n    <tr>\n      <th>2</th>\n      <td>shaved snow</td>\n      <td>mountain</td>\n      <td>0.426003</td>\n      <td>None</td>\n    </tr>\n    <tr>\n      <th>3</th>\n      <td>game truck rental</td>\n      <td>auto rental</td>\n      <td>0.638553</td>\n      <td>None</td>\n    </tr>\n    <tr>\n      <th>4</th>\n      <td>hunting supply</td>\n      <td>how to supply</td>\n      <td>0.499186</td>\n      <td>None</td>\n    </tr>\n    <tr>\n      <th>...</th>\n      <td>...</td>\n      <td>...</td>\n      <td>...</td>\n      <td>...</td>\n    </tr>\n    <tr>\n      <th>195</th>\n      <td>cooking class</td>\n      <td>cook action</td>\n      <td>0.630217</td>\n      <td>None</td>\n    </tr>\n    <tr>\n      <th>196</th>\n      <td>soup</td>\n      <td>throat</td>\n      <td>0.492700</td>\n      <td>None</td>\n    </tr>\n    <tr>\n      <th>197</th>\n      <td>college counseling</td>\n      <td>college or university</td>\n      <td>0.509525</td>\n      <td>None</td>\n    </tr>\n    <tr>\n      <th>198</th>\n      <td>magazine</td>\n      <td>hardcover</td>\n      <td>0.550991</td>\n      <td>None</td>\n    </tr>\n    <tr>\n      <th>199</th>\n      <td>life coach</td>\n      <td>bus or coach</td>\n      <td>0.518807</td>\n      <td>None</td>\n    </tr>\n  </tbody>\n</table>\n<p>200 rows × 4 columns</p>\n</div>"
     },
     "execution_count": 36,
     "metadata": {},
     "output_type": "execute_result"
    }
   ],
   "source": [
    "mapp = mappings.copy()\n",
    "\n",
    "mapp['mapped_schema'][mapp['similarity'] < 0.0 / 100] = \"None\"\n",
    "merged = mapp.merge(manual_mapping, on='yelp_category', how='right')\n",
    "merged"
   ]
  },
  {
   "cell_type": "code",
   "execution_count": 41,
   "metadata": {
    "collapsed": false,
    "pycharm": {
     "name": "#%%\n"
    }
   },
   "outputs": [],
   "source": [
    "lst = []\n",
    "\n",
    "for threshold in range(101):\n",
    "    mapp = mappings.copy()\n",
    "\n",
    "    mapp['mapped_schema'][mapp['similarity'] < threshold / 100] = \"None\"\n",
    "\n",
    "    merged = mapp.merge(manual_mapping, on='yelp_category', how='right')\n",
    "\n",
    "    tp = ((merged['mapped_schema'] == merged['manual_mapped_schema']) & (merged['mapped_schema'] != \"None\")).sum()  # True positive\n",
    "    fp = ((merged['mapped_schema'] != \"None\") & (merged['manual_mapped_schema'] != merged['mapped_schema'])).sum()  # False negative\n",
    "    fn = ((merged['mapped_schema'] == \"None\") & (merged['manual_mapped_schema'] != \"None\")).sum()  # False positive\n",
    "\n",
    "    recall = tp / (tp + fn)\n",
    "    precision = tp / (tp + fp)\n",
    "    beta = 1\n",
    "    f1 = (1+beta**2)*(precision * recall) / (beta**2*precision + recall)\n",
    "    f10 = (1+10**2)*(precision * recall) / (10**2*precision + recall)\n",
    "    lst.append([threshold / 100, recall, precision, f1, f10])"
   ]
  },
  {
   "cell_type": "code",
   "execution_count": 42,
   "metadata": {
    "collapsed": false,
    "pycharm": {
     "name": "#%%\n"
    }
   },
   "outputs": [],
   "source": [
    "res = pd.DataFrame(lst, columns=[\"Threshold\", \"Recall\", \"Precision\", \"F-1\", \"F-10\"])"
   ]
  },
  {
   "cell_type": "code",
   "execution_count": 43,
   "metadata": {
    "collapsed": false,
    "pycharm": {
     "name": "#%%\n"
    }
   },
   "outputs": [
    {
     "data": {
      "text/plain": "     Threshold    Recall  Precision       F-1      F-10\n0         0.00  1.000000       0.25  0.400000  0.971154\n1         0.01  1.000000       0.25  0.400000  0.971154\n2         0.02  1.000000       0.25  0.400000  0.971154\n3         0.03  1.000000       0.25  0.400000  0.971154\n4         0.04  1.000000       0.25  0.400000  0.971154\n..         ...       ...        ...       ...       ...\n96        0.96  0.245902       1.00  0.394737  0.247751\n97        0.97  0.245902       1.00  0.394737  0.247751\n98        0.98  0.245902       1.00  0.394737  0.247751\n99        0.99  0.245902       1.00  0.394737  0.247751\n100       1.00  0.196721       1.00  0.328767  0.198298\n\n[101 rows x 5 columns]",
      "text/html": "<div>\n<style scoped>\n    .dataframe tbody tr th:only-of-type {\n        vertical-align: middle;\n    }\n\n    .dataframe tbody tr th {\n        vertical-align: top;\n    }\n\n    .dataframe thead th {\n        text-align: right;\n    }\n</style>\n<table border=\"1\" class=\"dataframe\">\n  <thead>\n    <tr style=\"text-align: right;\">\n      <th></th>\n      <th>Threshold</th>\n      <th>Recall</th>\n      <th>Precision</th>\n      <th>F-1</th>\n      <th>F-10</th>\n    </tr>\n  </thead>\n  <tbody>\n    <tr>\n      <th>0</th>\n      <td>0.00</td>\n      <td>1.000000</td>\n      <td>0.25</td>\n      <td>0.400000</td>\n      <td>0.971154</td>\n    </tr>\n    <tr>\n      <th>1</th>\n      <td>0.01</td>\n      <td>1.000000</td>\n      <td>0.25</td>\n      <td>0.400000</td>\n      <td>0.971154</td>\n    </tr>\n    <tr>\n      <th>2</th>\n      <td>0.02</td>\n      <td>1.000000</td>\n      <td>0.25</td>\n      <td>0.400000</td>\n      <td>0.971154</td>\n    </tr>\n    <tr>\n      <th>3</th>\n      <td>0.03</td>\n      <td>1.000000</td>\n      <td>0.25</td>\n      <td>0.400000</td>\n      <td>0.971154</td>\n    </tr>\n    <tr>\n      <th>4</th>\n      <td>0.04</td>\n      <td>1.000000</td>\n      <td>0.25</td>\n      <td>0.400000</td>\n      <td>0.971154</td>\n    </tr>\n    <tr>\n      <th>...</th>\n      <td>...</td>\n      <td>...</td>\n      <td>...</td>\n      <td>...</td>\n      <td>...</td>\n    </tr>\n    <tr>\n      <th>96</th>\n      <td>0.96</td>\n      <td>0.245902</td>\n      <td>1.00</td>\n      <td>0.394737</td>\n      <td>0.247751</td>\n    </tr>\n    <tr>\n      <th>97</th>\n      <td>0.97</td>\n      <td>0.245902</td>\n      <td>1.00</td>\n      <td>0.394737</td>\n      <td>0.247751</td>\n    </tr>\n    <tr>\n      <th>98</th>\n      <td>0.98</td>\n      <td>0.245902</td>\n      <td>1.00</td>\n      <td>0.394737</td>\n      <td>0.247751</td>\n    </tr>\n    <tr>\n      <th>99</th>\n      <td>0.99</td>\n      <td>0.245902</td>\n      <td>1.00</td>\n      <td>0.394737</td>\n      <td>0.247751</td>\n    </tr>\n    <tr>\n      <th>100</th>\n      <td>1.00</td>\n      <td>0.196721</td>\n      <td>1.00</td>\n      <td>0.328767</td>\n      <td>0.198298</td>\n    </tr>\n  </tbody>\n</table>\n<p>101 rows × 5 columns</p>\n</div>"
     },
     "execution_count": 43,
     "metadata": {},
     "output_type": "execute_result"
    }
   ],
   "source": [
    "res"
   ]
  },
  {
   "cell_type": "code",
   "execution_count": 45,
   "metadata": {
    "collapsed": false,
    "pycharm": {
     "name": "#%%\n"
    }
   },
   "outputs": [
    {
     "data": {
      "application/vnd.plotly.v1+json": {
       "data": [
        {
         "hovertemplate": "variable=Recall<br>Threshold=%{x}<br>value=%{y}<extra></extra>",
         "legendgroup": "Recall",
         "line": {
          "color": "rgb(234,143,129)",
          "dash": "solid"
         },
         "marker": {
          "symbol": "circle"
         },
         "mode": "lines",
         "name": "Recall",
         "orientation": "v",
         "showlegend": true,
         "x": [
          0.0,
          0.01,
          0.02,
          0.03,
          0.04,
          0.05,
          0.06,
          0.07,
          0.08,
          0.09,
          0.1,
          0.11,
          0.12,
          0.13,
          0.14,
          0.15,
          0.16,
          0.17,
          0.18,
          0.19,
          0.2,
          0.21,
          0.22,
          0.23,
          0.24,
          0.25,
          0.26,
          0.27,
          0.28,
          0.29,
          0.3,
          0.31,
          0.32,
          0.33,
          0.34,
          0.35,
          0.36,
          0.37,
          0.38,
          0.39,
          0.4,
          0.41,
          0.42,
          0.43,
          0.44,
          0.45,
          0.46,
          0.47,
          0.48,
          0.49,
          0.5,
          0.51,
          0.52,
          0.53,
          0.54,
          0.55,
          0.56,
          0.57,
          0.58,
          0.59,
          0.6,
          0.61,
          0.62,
          0.63,
          0.64,
          0.65,
          0.66,
          0.67,
          0.68,
          0.69,
          0.7,
          0.71,
          0.72,
          0.73,
          0.74,
          0.75,
          0.76,
          0.77,
          0.78,
          0.79,
          0.8,
          0.81,
          0.82,
          0.83,
          0.84,
          0.85,
          0.86,
          0.87,
          0.88,
          0.89,
          0.9,
          0.91,
          0.92,
          0.93,
          0.94,
          0.95,
          0.96,
          0.97,
          0.98,
          0.99,
          1.0
         ],
         "xaxis": "x",
         "y": [
          1.0,
          1.0,
          1.0,
          1.0,
          1.0,
          1.0,
          1.0,
          1.0,
          1.0,
          1.0,
          1.0,
          1.0,
          1.0,
          1.0,
          1.0,
          1.0,
          1.0,
          1.0,
          1.0,
          1.0,
          1.0,
          1.0,
          1.0,
          1.0,
          1.0,
          1.0,
          1.0,
          1.0,
          1.0,
          1.0,
          1.0,
          1.0,
          1.0,
          1.0,
          1.0,
          1.0,
          1.0,
          1.0,
          1.0,
          1.0,
          1.0,
          1.0,
          1.0,
          1.0,
          1.0,
          0.9803921568627451,
          0.9607843137254902,
          0.9607843137254902,
          0.9607843137254902,
          0.9423076923076923,
          0.9423076923076923,
          0.9074074074074074,
          0.9074074074074074,
          0.9074074074074074,
          0.9074074074074074,
          0.9074074074074074,
          0.9074074074074074,
          0.9074074074074074,
          0.9074074074074074,
          0.9074074074074074,
          0.8888888888888888,
          0.8703703703703703,
          0.8518518518518519,
          0.8518518518518519,
          0.8518518518518519,
          0.8363636363636363,
          0.8363636363636363,
          0.8181818181818182,
          0.8181818181818182,
          0.7818181818181819,
          0.7454545454545455,
          0.7090909090909091,
          0.6909090909090909,
          0.6909090909090909,
          0.6545454545454545,
          0.6181818181818182,
          0.6,
          0.5892857142857143,
          0.5714285714285714,
          0.5087719298245614,
          0.49122807017543857,
          0.4482758620689655,
          0.4482758620689655,
          0.423728813559322,
          0.4067796610169492,
          0.38333333333333336,
          0.31666666666666665,
          0.31666666666666665,
          0.26666666666666666,
          0.26666666666666666,
          0.26666666666666666,
          0.26229508196721313,
          0.2459016393442623,
          0.2459016393442623,
          0.2459016393442623,
          0.2459016393442623,
          0.2459016393442623,
          0.2459016393442623,
          0.2459016393442623,
          0.2459016393442623,
          0.19672131147540983
         ],
         "yaxis": "y",
         "type": "scatter"
        },
        {
         "hovertemplate": "variable=Precision<br>Threshold=%{x}<br>value=%{y}<extra></extra>",
         "legendgroup": "Precision",
         "line": {
          "color": "rgb(255,191,0)",
          "dash": "solid"
         },
         "marker": {
          "symbol": "circle"
         },
         "mode": "lines",
         "name": "Precision",
         "orientation": "v",
         "showlegend": true,
         "x": [
          0.0,
          0.01,
          0.02,
          0.03,
          0.04,
          0.05,
          0.06,
          0.07,
          0.08,
          0.09,
          0.1,
          0.11,
          0.12,
          0.13,
          0.14,
          0.15,
          0.16,
          0.17,
          0.18,
          0.19,
          0.2,
          0.21,
          0.22,
          0.23,
          0.24,
          0.25,
          0.26,
          0.27,
          0.28,
          0.29,
          0.3,
          0.31,
          0.32,
          0.33,
          0.34,
          0.35,
          0.36,
          0.37,
          0.38,
          0.39,
          0.4,
          0.41,
          0.42,
          0.43,
          0.44,
          0.45,
          0.46,
          0.47,
          0.48,
          0.49,
          0.5,
          0.51,
          0.52,
          0.53,
          0.54,
          0.55,
          0.56,
          0.57,
          0.58,
          0.59,
          0.6,
          0.61,
          0.62,
          0.63,
          0.64,
          0.65,
          0.66,
          0.67,
          0.68,
          0.69,
          0.7,
          0.71,
          0.72,
          0.73,
          0.74,
          0.75,
          0.76,
          0.77,
          0.78,
          0.79,
          0.8,
          0.81,
          0.82,
          0.83,
          0.84,
          0.85,
          0.86,
          0.87,
          0.88,
          0.89,
          0.9,
          0.91,
          0.92,
          0.93,
          0.94,
          0.95,
          0.96,
          0.97,
          0.98,
          0.99,
          1.0
         ],
         "xaxis": "x",
         "y": [
          0.25,
          0.25,
          0.25,
          0.25,
          0.25,
          0.25,
          0.25,
          0.25,
          0.25,
          0.25,
          0.25,
          0.25,
          0.25,
          0.25,
          0.25,
          0.25,
          0.25,
          0.25,
          0.25,
          0.25,
          0.25,
          0.25,
          0.25,
          0.25,
          0.25,
          0.25,
          0.25,
          0.25,
          0.25,
          0.25,
          0.25,
          0.25,
          0.25,
          0.25,
          0.25252525252525254,
          0.25380710659898476,
          0.2564102564102564,
          0.25773195876288657,
          0.25906735751295334,
          0.2604166666666667,
          0.26455026455026454,
          0.2702702702702703,
          0.27472527472527475,
          0.2840909090909091,
          0.29239766081871343,
          0.30120481927710846,
          0.30625,
          0.3141025641025641,
          0.3161290322580645,
          0.3223684210526316,
          0.33793103448275863,
          0.35,
          0.35766423357664234,
          0.3712121212121212,
          0.3828125,
          0.3951612903225806,
          0.4188034188034188,
          0.4336283185840708,
          0.44144144144144143,
          0.44954128440366975,
          0.48484848484848486,
          0.49473684210526314,
          0.5111111111111111,
          0.5476190476190477,
          0.5974025974025974,
          0.6216216216216216,
          0.6388888888888888,
          0.6617647058823529,
          0.6716417910447762,
          0.671875,
          0.6721311475409836,
          0.6842105263157895,
          0.6785714285714286,
          0.6909090909090909,
          0.7058823529411765,
          0.723404255319149,
          0.75,
          0.8048780487804879,
          0.8,
          0.8529411764705882,
          0.875,
          0.896551724137931,
          0.896551724137931,
          0.9259259259259259,
          0.9230769230769231,
          0.9583333333333334,
          0.95,
          0.95,
          0.9411764705882353,
          0.9411764705882353,
          0.9411764705882353,
          1.0,
          1.0,
          1.0,
          1.0,
          1.0,
          1.0,
          1.0,
          1.0,
          1.0,
          1.0
         ],
         "yaxis": "y",
         "type": "scatter"
        },
        {
         "hovertemplate": "variable=F-1<br>Threshold=%{x}<br>value=%{y}<extra></extra>",
         "legendgroup": "F-1",
         "line": {
          "color": "rgb(32,115,171)",
          "dash": "solid"
         },
         "marker": {
          "symbol": "circle"
         },
         "mode": "lines",
         "name": "F-1",
         "orientation": "v",
         "showlegend": true,
         "x": [
          0.0,
          0.01,
          0.02,
          0.03,
          0.04,
          0.05,
          0.06,
          0.07,
          0.08,
          0.09,
          0.1,
          0.11,
          0.12,
          0.13,
          0.14,
          0.15,
          0.16,
          0.17,
          0.18,
          0.19,
          0.2,
          0.21,
          0.22,
          0.23,
          0.24,
          0.25,
          0.26,
          0.27,
          0.28,
          0.29,
          0.3,
          0.31,
          0.32,
          0.33,
          0.34,
          0.35,
          0.36,
          0.37,
          0.38,
          0.39,
          0.4,
          0.41,
          0.42,
          0.43,
          0.44,
          0.45,
          0.46,
          0.47,
          0.48,
          0.49,
          0.5,
          0.51,
          0.52,
          0.53,
          0.54,
          0.55,
          0.56,
          0.57,
          0.58,
          0.59,
          0.6,
          0.61,
          0.62,
          0.63,
          0.64,
          0.65,
          0.66,
          0.67,
          0.68,
          0.69,
          0.7,
          0.71,
          0.72,
          0.73,
          0.74,
          0.75,
          0.76,
          0.77,
          0.78,
          0.79,
          0.8,
          0.81,
          0.82,
          0.83,
          0.84,
          0.85,
          0.86,
          0.87,
          0.88,
          0.89,
          0.9,
          0.91,
          0.92,
          0.93,
          0.94,
          0.95,
          0.96,
          0.97,
          0.98,
          0.99,
          1.0
         ],
         "xaxis": "x",
         "y": [
          0.4,
          0.4,
          0.4,
          0.4,
          0.4,
          0.4,
          0.4,
          0.4,
          0.4,
          0.4,
          0.4,
          0.4,
          0.4,
          0.4,
          0.4,
          0.4,
          0.4,
          0.4,
          0.4,
          0.4,
          0.4,
          0.4,
          0.4,
          0.4,
          0.4,
          0.4,
          0.4,
          0.4,
          0.4,
          0.4,
          0.4,
          0.4,
          0.4,
          0.4,
          0.40322580645161293,
          0.40485829959514164,
          0.4081632653061224,
          0.40983606557377045,
          0.4115226337448559,
          0.4132231404958678,
          0.4184100418410041,
          0.4255319148936171,
          0.4310344827586208,
          0.4424778761061947,
          0.45248868778280543,
          0.46082949308755766,
          0.46445497630331756,
          0.47342995169082125,
          0.47572815533980584,
          0.48039215686274506,
          0.4974619289340102,
          0.5051546391752577,
          0.5130890052356021,
          0.5268817204301076,
          0.5384615384615384,
          0.550561797752809,
          0.5730994152046783,
          0.5868263473053893,
          0.593939393939394,
          0.6012269938650308,
          0.6274509803921569,
          0.6308724832214765,
          0.6388888888888888,
          0.6666666666666667,
          0.7022900763358778,
          0.7131782945736433,
          0.7244094488188975,
          0.7317073170731708,
          0.7377049180327869,
          0.7226890756302521,
          0.7068965517241379,
          0.6964285714285715,
          0.6846846846846847,
          0.6909090909090909,
          0.679245283018868,
          0.6666666666666667,
          0.6666666666666665,
          0.6804123711340206,
          0.6666666666666666,
          0.6373626373626374,
          0.6292134831460674,
          0.5977011494252874,
          0.5977011494252874,
          0.5813953488372093,
          0.5647058823529413,
          0.5476190476190476,
          0.4749999999999999,
          0.4749999999999999,
          0.4155844155844156,
          0.4155844155844156,
          0.4155844155844156,
          0.41558441558441556,
          0.3947368421052631,
          0.3947368421052631,
          0.3947368421052631,
          0.3947368421052631,
          0.3947368421052631,
          0.3947368421052631,
          0.3947368421052631,
          0.3947368421052631,
          0.3287671232876712
         ],
         "yaxis": "y",
         "type": "scatter"
        },
        {
         "hovertemplate": "variable=F-10<br>Threshold=%{x}<br>value=%{y}<extra></extra>",
         "legendgroup": "F-10",
         "line": {
          "color": "#ab63fa",
          "dash": "solid"
         },
         "marker": {
          "symbol": "circle"
         },
         "mode": "lines",
         "name": "F-10",
         "orientation": "v",
         "showlegend": true,
         "x": [
          0.0,
          0.01,
          0.02,
          0.03,
          0.04,
          0.05,
          0.06,
          0.07,
          0.08,
          0.09,
          0.1,
          0.11,
          0.12,
          0.13,
          0.14,
          0.15,
          0.16,
          0.17,
          0.18,
          0.19,
          0.2,
          0.21,
          0.22,
          0.23,
          0.24,
          0.25,
          0.26,
          0.27,
          0.28,
          0.29,
          0.3,
          0.31,
          0.32,
          0.33,
          0.34,
          0.35,
          0.36,
          0.37,
          0.38,
          0.39,
          0.4,
          0.41,
          0.42,
          0.43,
          0.44,
          0.45,
          0.46,
          0.47,
          0.48,
          0.49,
          0.5,
          0.51,
          0.52,
          0.53,
          0.54,
          0.55,
          0.56,
          0.57,
          0.58,
          0.59,
          0.6,
          0.61,
          0.62,
          0.63,
          0.64,
          0.65,
          0.66,
          0.67,
          0.68,
          0.69,
          0.7,
          0.71,
          0.72,
          0.73,
          0.74,
          0.75,
          0.76,
          0.77,
          0.78,
          0.79,
          0.8,
          0.81,
          0.82,
          0.83,
          0.84,
          0.85,
          0.86,
          0.87,
          0.88,
          0.89,
          0.9,
          0.91,
          0.92,
          0.93,
          0.94,
          0.95,
          0.96,
          0.97,
          0.98,
          0.99,
          1.0
         ],
         "xaxis": "x",
         "y": [
          0.9711538461538461,
          0.9711538461538461,
          0.9711538461538461,
          0.9711538461538461,
          0.9711538461538461,
          0.9711538461538461,
          0.9711538461538461,
          0.9711538461538461,
          0.9711538461538461,
          0.9711538461538461,
          0.9711538461538461,
          0.9711538461538461,
          0.9711538461538461,
          0.9711538461538461,
          0.9711538461538461,
          0.9711538461538461,
          0.9711538461538461,
          0.9711538461538461,
          0.9711538461538461,
          0.9711538461538461,
          0.9711538461538461,
          0.9711538461538461,
          0.9711538461538461,
          0.9711538461538461,
          0.9711538461538461,
          0.9711538461538461,
          0.9711538461538461,
          0.9711538461538461,
          0.9711538461538461,
          0.9711538461538461,
          0.9711538461538461,
          0.9711538461538461,
          0.9711538461538461,
          0.9711538461538461,
          0.9715275105809927,
          0.9717144506446026,
          0.9720885466794995,
          0.9722757027339237,
          0.9724629308684768,
          0.9726502311248074,
          0.9732125650414338,
          0.973963355834137,
          0.974527209571594,
          0.9756568778979907,
          0.976600270740669,
          0.9589821496391949,
          0.9408745247148288,
          0.9415905631659056,
          0.9417697431018078,
          0.9247010463378176,
          0.925912067352666,
          0.8933212996389892,
          0.8938053097345133,
          0.8946131597975416,
          0.895260492040521,
          0.8959087617668358,
          0.8970454957404388,
          0.8976963540721933,
          0.8980221375430957,
          0.898348157560356,
          0.8816148390616476,
          0.8638762511373975,
          0.8462659380692167,
          0.8471918307804522,
          0.8482746028847908,
          0.8335127377108,
          0.8338119167264894,
          0.8162715517241381,
          0.8164181785521827,
          0.7805535585909418,
          0.744650242762093,
          0.7088357027172937,
          0.6907847372210224,
          0.6909090909090909,
          0.6550171140335074,
          0.6190733729944113,
          0.6011904761904762,
          0.5908526856940259,
          0.573049645390071,
          0.5108126961981165,
          0.4933705512909979,
          0.45050609023846283,
          0.45050609023846283,
          0.42601653450312127,
          0.4090448869389133,
          0.3856241699867197,
          0.3187707641196013,
          0.3187707641196013,
          0.2685723782615922,
          0.2685723782615922,
          0.2685723782615922,
          0.2642249836494441,
          0.2477514309076042,
          0.2477514309076042,
          0.2477514309076042,
          0.2477514309076042,
          0.2477514309076042,
          0.2477514309076042,
          0.2477514309076042,
          0.2477514309076042,
          0.1982984293193717
         ],
         "yaxis": "y",
         "type": "scatter"
        }
       ],
       "layout": {
        "template": {
         "data": {
          "histogram2dcontour": [
           {
            "type": "histogram2dcontour",
            "colorbar": {
             "outlinewidth": 0,
             "ticks": ""
            },
            "colorscale": [
             [
              0.0,
              "#0d0887"
             ],
             [
              0.1111111111111111,
              "#46039f"
             ],
             [
              0.2222222222222222,
              "#7201a8"
             ],
             [
              0.3333333333333333,
              "#9c179e"
             ],
             [
              0.4444444444444444,
              "#bd3786"
             ],
             [
              0.5555555555555556,
              "#d8576b"
             ],
             [
              0.6666666666666666,
              "#ed7953"
             ],
             [
              0.7777777777777778,
              "#fb9f3a"
             ],
             [
              0.8888888888888888,
              "#fdca26"
             ],
             [
              1.0,
              "#f0f921"
             ]
            ]
           }
          ],
          "choropleth": [
           {
            "type": "choropleth",
            "colorbar": {
             "outlinewidth": 0,
             "ticks": ""
            }
           }
          ],
          "histogram2d": [
           {
            "type": "histogram2d",
            "colorbar": {
             "outlinewidth": 0,
             "ticks": ""
            },
            "colorscale": [
             [
              0.0,
              "#0d0887"
             ],
             [
              0.1111111111111111,
              "#46039f"
             ],
             [
              0.2222222222222222,
              "#7201a8"
             ],
             [
              0.3333333333333333,
              "#9c179e"
             ],
             [
              0.4444444444444444,
              "#bd3786"
             ],
             [
              0.5555555555555556,
              "#d8576b"
             ],
             [
              0.6666666666666666,
              "#ed7953"
             ],
             [
              0.7777777777777778,
              "#fb9f3a"
             ],
             [
              0.8888888888888888,
              "#fdca26"
             ],
             [
              1.0,
              "#f0f921"
             ]
            ]
           }
          ],
          "heatmap": [
           {
            "type": "heatmap",
            "colorbar": {
             "outlinewidth": 0,
             "ticks": ""
            },
            "colorscale": [
             [
              0.0,
              "#0d0887"
             ],
             [
              0.1111111111111111,
              "#46039f"
             ],
             [
              0.2222222222222222,
              "#7201a8"
             ],
             [
              0.3333333333333333,
              "#9c179e"
             ],
             [
              0.4444444444444444,
              "#bd3786"
             ],
             [
              0.5555555555555556,
              "#d8576b"
             ],
             [
              0.6666666666666666,
              "#ed7953"
             ],
             [
              0.7777777777777778,
              "#fb9f3a"
             ],
             [
              0.8888888888888888,
              "#fdca26"
             ],
             [
              1.0,
              "#f0f921"
             ]
            ]
           }
          ],
          "heatmapgl": [
           {
            "type": "heatmapgl",
            "colorbar": {
             "outlinewidth": 0,
             "ticks": ""
            },
            "colorscale": [
             [
              0.0,
              "#0d0887"
             ],
             [
              0.1111111111111111,
              "#46039f"
             ],
             [
              0.2222222222222222,
              "#7201a8"
             ],
             [
              0.3333333333333333,
              "#9c179e"
             ],
             [
              0.4444444444444444,
              "#bd3786"
             ],
             [
              0.5555555555555556,
              "#d8576b"
             ],
             [
              0.6666666666666666,
              "#ed7953"
             ],
             [
              0.7777777777777778,
              "#fb9f3a"
             ],
             [
              0.8888888888888888,
              "#fdca26"
             ],
             [
              1.0,
              "#f0f921"
             ]
            ]
           }
          ],
          "contourcarpet": [
           {
            "type": "contourcarpet",
            "colorbar": {
             "outlinewidth": 0,
             "ticks": ""
            }
           }
          ],
          "contour": [
           {
            "type": "contour",
            "colorbar": {
             "outlinewidth": 0,
             "ticks": ""
            },
            "colorscale": [
             [
              0.0,
              "#0d0887"
             ],
             [
              0.1111111111111111,
              "#46039f"
             ],
             [
              0.2222222222222222,
              "#7201a8"
             ],
             [
              0.3333333333333333,
              "#9c179e"
             ],
             [
              0.4444444444444444,
              "#bd3786"
             ],
             [
              0.5555555555555556,
              "#d8576b"
             ],
             [
              0.6666666666666666,
              "#ed7953"
             ],
             [
              0.7777777777777778,
              "#fb9f3a"
             ],
             [
              0.8888888888888888,
              "#fdca26"
             ],
             [
              1.0,
              "#f0f921"
             ]
            ]
           }
          ],
          "surface": [
           {
            "type": "surface",
            "colorbar": {
             "outlinewidth": 0,
             "ticks": ""
            },
            "colorscale": [
             [
              0.0,
              "#0d0887"
             ],
             [
              0.1111111111111111,
              "#46039f"
             ],
             [
              0.2222222222222222,
              "#7201a8"
             ],
             [
              0.3333333333333333,
              "#9c179e"
             ],
             [
              0.4444444444444444,
              "#bd3786"
             ],
             [
              0.5555555555555556,
              "#d8576b"
             ],
             [
              0.6666666666666666,
              "#ed7953"
             ],
             [
              0.7777777777777778,
              "#fb9f3a"
             ],
             [
              0.8888888888888888,
              "#fdca26"
             ],
             [
              1.0,
              "#f0f921"
             ]
            ]
           }
          ],
          "mesh3d": [
           {
            "type": "mesh3d",
            "colorbar": {
             "outlinewidth": 0,
             "ticks": ""
            }
           }
          ],
          "scatter": [
           {
            "fillpattern": {
             "fillmode": "overlay",
             "size": 10,
             "solidity": 0.2
            },
            "type": "scatter"
           }
          ],
          "parcoords": [
           {
            "type": "parcoords",
            "line": {
             "colorbar": {
              "outlinewidth": 0,
              "ticks": ""
             }
            }
           }
          ],
          "scatterpolargl": [
           {
            "type": "scatterpolargl",
            "marker": {
             "colorbar": {
              "outlinewidth": 0,
              "ticks": ""
             }
            }
           }
          ],
          "bar": [
           {
            "error_x": {
             "color": "#2a3f5f"
            },
            "error_y": {
             "color": "#2a3f5f"
            },
            "marker": {
             "line": {
              "color": "#E5ECF6",
              "width": 0.5
             },
             "pattern": {
              "fillmode": "overlay",
              "size": 10,
              "solidity": 0.2
             }
            },
            "type": "bar"
           }
          ],
          "scattergeo": [
           {
            "type": "scattergeo",
            "marker": {
             "colorbar": {
              "outlinewidth": 0,
              "ticks": ""
             }
            }
           }
          ],
          "scatterpolar": [
           {
            "type": "scatterpolar",
            "marker": {
             "colorbar": {
              "outlinewidth": 0,
              "ticks": ""
             }
            }
           }
          ],
          "histogram": [
           {
            "marker": {
             "pattern": {
              "fillmode": "overlay",
              "size": 10,
              "solidity": 0.2
             }
            },
            "type": "histogram"
           }
          ],
          "scattergl": [
           {
            "type": "scattergl",
            "marker": {
             "colorbar": {
              "outlinewidth": 0,
              "ticks": ""
             }
            }
           }
          ],
          "scatter3d": [
           {
            "type": "scatter3d",
            "line": {
             "colorbar": {
              "outlinewidth": 0,
              "ticks": ""
             }
            },
            "marker": {
             "colorbar": {
              "outlinewidth": 0,
              "ticks": ""
             }
            }
           }
          ],
          "scattermapbox": [
           {
            "type": "scattermapbox",
            "marker": {
             "colorbar": {
              "outlinewidth": 0,
              "ticks": ""
             }
            }
           }
          ],
          "scatterternary": [
           {
            "type": "scatterternary",
            "marker": {
             "colorbar": {
              "outlinewidth": 0,
              "ticks": ""
             }
            }
           }
          ],
          "scattercarpet": [
           {
            "type": "scattercarpet",
            "marker": {
             "colorbar": {
              "outlinewidth": 0,
              "ticks": ""
             }
            }
           }
          ],
          "carpet": [
           {
            "aaxis": {
             "endlinecolor": "#2a3f5f",
             "gridcolor": "white",
             "linecolor": "white",
             "minorgridcolor": "white",
             "startlinecolor": "#2a3f5f"
            },
            "baxis": {
             "endlinecolor": "#2a3f5f",
             "gridcolor": "white",
             "linecolor": "white",
             "minorgridcolor": "white",
             "startlinecolor": "#2a3f5f"
            },
            "type": "carpet"
           }
          ],
          "table": [
           {
            "cells": {
             "fill": {
              "color": "#EBF0F8"
             },
             "line": {
              "color": "white"
             }
            },
            "header": {
             "fill": {
              "color": "#C8D4E3"
             },
             "line": {
              "color": "white"
             }
            },
            "type": "table"
           }
          ],
          "barpolar": [
           {
            "marker": {
             "line": {
              "color": "#E5ECF6",
              "width": 0.5
             },
             "pattern": {
              "fillmode": "overlay",
              "size": 10,
              "solidity": 0.2
             }
            },
            "type": "barpolar"
           }
          ],
          "pie": [
           {
            "automargin": true,
            "type": "pie"
           }
          ]
         },
         "layout": {
          "autotypenumbers": "strict",
          "colorway": [
           "#636efa",
           "#EF553B",
           "#00cc96",
           "#ab63fa",
           "#FFA15A",
           "#19d3f3",
           "#FF6692",
           "#B6E880",
           "#FF97FF",
           "#FECB52"
          ],
          "font": {
           "color": "#2a3f5f"
          },
          "hovermode": "closest",
          "hoverlabel": {
           "align": "left"
          },
          "paper_bgcolor": "white",
          "plot_bgcolor": "#E5ECF6",
          "polar": {
           "bgcolor": "#E5ECF6",
           "angularaxis": {
            "gridcolor": "white",
            "linecolor": "white",
            "ticks": ""
           },
           "radialaxis": {
            "gridcolor": "white",
            "linecolor": "white",
            "ticks": ""
           }
          },
          "ternary": {
           "bgcolor": "#E5ECF6",
           "aaxis": {
            "gridcolor": "white",
            "linecolor": "white",
            "ticks": ""
           },
           "baxis": {
            "gridcolor": "white",
            "linecolor": "white",
            "ticks": ""
           },
           "caxis": {
            "gridcolor": "white",
            "linecolor": "white",
            "ticks": ""
           }
          },
          "coloraxis": {
           "colorbar": {
            "outlinewidth": 0,
            "ticks": ""
           }
          },
          "colorscale": {
           "sequential": [
            [
             0.0,
             "#0d0887"
            ],
            [
             0.1111111111111111,
             "#46039f"
            ],
            [
             0.2222222222222222,
             "#7201a8"
            ],
            [
             0.3333333333333333,
             "#9c179e"
            ],
            [
             0.4444444444444444,
             "#bd3786"
            ],
            [
             0.5555555555555556,
             "#d8576b"
            ],
            [
             0.6666666666666666,
             "#ed7953"
            ],
            [
             0.7777777777777778,
             "#fb9f3a"
            ],
            [
             0.8888888888888888,
             "#fdca26"
            ],
            [
             1.0,
             "#f0f921"
            ]
           ],
           "sequentialminus": [
            [
             0.0,
             "#0d0887"
            ],
            [
             0.1111111111111111,
             "#46039f"
            ],
            [
             0.2222222222222222,
             "#7201a8"
            ],
            [
             0.3333333333333333,
             "#9c179e"
            ],
            [
             0.4444444444444444,
             "#bd3786"
            ],
            [
             0.5555555555555556,
             "#d8576b"
            ],
            [
             0.6666666666666666,
             "#ed7953"
            ],
            [
             0.7777777777777778,
             "#fb9f3a"
            ],
            [
             0.8888888888888888,
             "#fdca26"
            ],
            [
             1.0,
             "#f0f921"
            ]
           ],
           "diverging": [
            [
             0,
             "#8e0152"
            ],
            [
             0.1,
             "#c51b7d"
            ],
            [
             0.2,
             "#de77ae"
            ],
            [
             0.3,
             "#f1b6da"
            ],
            [
             0.4,
             "#fde0ef"
            ],
            [
             0.5,
             "#f7f7f7"
            ],
            [
             0.6,
             "#e6f5d0"
            ],
            [
             0.7,
             "#b8e186"
            ],
            [
             0.8,
             "#7fbc41"
            ],
            [
             0.9,
             "#4d9221"
            ],
            [
             1,
             "#276419"
            ]
           ]
          },
          "xaxis": {
           "gridcolor": "white",
           "linecolor": "white",
           "ticks": "",
           "title": {
            "standoff": 15
           },
           "zerolinecolor": "white",
           "automargin": true,
           "zerolinewidth": 2
          },
          "yaxis": {
           "gridcolor": "white",
           "linecolor": "white",
           "ticks": "",
           "title": {
            "standoff": 15
           },
           "zerolinecolor": "white",
           "automargin": true,
           "zerolinewidth": 2
          },
          "scene": {
           "xaxis": {
            "backgroundcolor": "#E5ECF6",
            "gridcolor": "white",
            "linecolor": "white",
            "showbackground": true,
            "ticks": "",
            "zerolinecolor": "white",
            "gridwidth": 2
           },
           "yaxis": {
            "backgroundcolor": "#E5ECF6",
            "gridcolor": "white",
            "linecolor": "white",
            "showbackground": true,
            "ticks": "",
            "zerolinecolor": "white",
            "gridwidth": 2
           },
           "zaxis": {
            "backgroundcolor": "#E5ECF6",
            "gridcolor": "white",
            "linecolor": "white",
            "showbackground": true,
            "ticks": "",
            "zerolinecolor": "white",
            "gridwidth": 2
           }
          },
          "shapedefaults": {
           "line": {
            "color": "#2a3f5f"
           }
          },
          "annotationdefaults": {
           "arrowcolor": "#2a3f5f",
           "arrowhead": 0,
           "arrowwidth": 1
          },
          "geo": {
           "bgcolor": "white",
           "landcolor": "#E5ECF6",
           "subunitcolor": "white",
           "showland": true,
           "showlakes": true,
           "lakecolor": "white"
          },
          "title": {
           "x": 0.05
          },
          "mapbox": {
           "style": "light"
          }
         }
        },
        "xaxis": {
         "anchor": "y",
         "domain": [
          0.0,
          1.0
         ],
         "title": {
          "text": "Threshold (Cosine Similarity)"
         },
         "dtick": 0.1,
         "range": [
          -0.02,
          1.02
         ]
        },
        "yaxis": {
         "anchor": "x",
         "domain": [
          0.0,
          1.0
         ],
         "title": {
          "text": ""
         },
         "dtick": 0.1,
         "range": [
          -0.02,
          1.02
         ]
        },
        "legend": {
         "title": {
          "text": ""
         },
         "tracegroupgap": 0,
         "orientation": "h",
         "yanchor": "top",
         "y": 1.08,
         "xanchor": "left",
         "x": 0.0
        },
        "margin": {
         "t": 60
        },
        "shapes": [
         {
          "line": {
           "color": "gray",
           "dash": "dash",
           "width": 1.5
          },
          "type": "line",
          "x0": 0.44,
          "x1": 0.44,
          "xref": "x",
          "y0": 0,
          "y1": 1,
          "yref": "y domain"
         }
        ],
        "height": 600,
        "width": 600
       },
       "config": {
        "plotlyServerURL": "https://plot.ly"
       }
      },
      "text/html": "<div>                            <div id=\"00d959e8-b676-4f7a-b344-09d8b3a00d1b\" class=\"plotly-graph-div\" style=\"height:600px; width:600px;\"></div>            <script type=\"text/javascript\">                require([\"plotly\"], function(Plotly) {                    window.PLOTLYENV=window.PLOTLYENV || {};                                    if (document.getElementById(\"00d959e8-b676-4f7a-b344-09d8b3a00d1b\")) {                    Plotly.newPlot(                        \"00d959e8-b676-4f7a-b344-09d8b3a00d1b\",                        [{\"hovertemplate\":\"variable=Recall<br>Threshold=%{x}<br>value=%{y}<extra></extra>\",\"legendgroup\":\"Recall\",\"line\":{\"color\":\"rgb(234,143,129)\",\"dash\":\"solid\"},\"marker\":{\"symbol\":\"circle\"},\"mode\":\"lines\",\"name\":\"Recall\",\"orientation\":\"v\",\"showlegend\":true,\"x\":[0.0,0.01,0.02,0.03,0.04,0.05,0.06,0.07,0.08,0.09,0.1,0.11,0.12,0.13,0.14,0.15,0.16,0.17,0.18,0.19,0.2,0.21,0.22,0.23,0.24,0.25,0.26,0.27,0.28,0.29,0.3,0.31,0.32,0.33,0.34,0.35,0.36,0.37,0.38,0.39,0.4,0.41,0.42,0.43,0.44,0.45,0.46,0.47,0.48,0.49,0.5,0.51,0.52,0.53,0.54,0.55,0.56,0.57,0.58,0.59,0.6,0.61,0.62,0.63,0.64,0.65,0.66,0.67,0.68,0.69,0.7,0.71,0.72,0.73,0.74,0.75,0.76,0.77,0.78,0.79,0.8,0.81,0.82,0.83,0.84,0.85,0.86,0.87,0.88,0.89,0.9,0.91,0.92,0.93,0.94,0.95,0.96,0.97,0.98,0.99,1.0],\"xaxis\":\"x\",\"y\":[1.0,1.0,1.0,1.0,1.0,1.0,1.0,1.0,1.0,1.0,1.0,1.0,1.0,1.0,1.0,1.0,1.0,1.0,1.0,1.0,1.0,1.0,1.0,1.0,1.0,1.0,1.0,1.0,1.0,1.0,1.0,1.0,1.0,1.0,1.0,1.0,1.0,1.0,1.0,1.0,1.0,1.0,1.0,1.0,1.0,0.9803921568627451,0.9607843137254902,0.9607843137254902,0.9607843137254902,0.9423076923076923,0.9423076923076923,0.9074074074074074,0.9074074074074074,0.9074074074074074,0.9074074074074074,0.9074074074074074,0.9074074074074074,0.9074074074074074,0.9074074074074074,0.9074074074074074,0.8888888888888888,0.8703703703703703,0.8518518518518519,0.8518518518518519,0.8518518518518519,0.8363636363636363,0.8363636363636363,0.8181818181818182,0.8181818181818182,0.7818181818181819,0.7454545454545455,0.7090909090909091,0.6909090909090909,0.6909090909090909,0.6545454545454545,0.6181818181818182,0.6,0.5892857142857143,0.5714285714285714,0.5087719298245614,0.49122807017543857,0.4482758620689655,0.4482758620689655,0.423728813559322,0.4067796610169492,0.38333333333333336,0.31666666666666665,0.31666666666666665,0.26666666666666666,0.26666666666666666,0.26666666666666666,0.26229508196721313,0.2459016393442623,0.2459016393442623,0.2459016393442623,0.2459016393442623,0.2459016393442623,0.2459016393442623,0.2459016393442623,0.2459016393442623,0.19672131147540983],\"yaxis\":\"y\",\"type\":\"scatter\"},{\"hovertemplate\":\"variable=Precision<br>Threshold=%{x}<br>value=%{y}<extra></extra>\",\"legendgroup\":\"Precision\",\"line\":{\"color\":\"rgb(255,191,0)\",\"dash\":\"solid\"},\"marker\":{\"symbol\":\"circle\"},\"mode\":\"lines\",\"name\":\"Precision\",\"orientation\":\"v\",\"showlegend\":true,\"x\":[0.0,0.01,0.02,0.03,0.04,0.05,0.06,0.07,0.08,0.09,0.1,0.11,0.12,0.13,0.14,0.15,0.16,0.17,0.18,0.19,0.2,0.21,0.22,0.23,0.24,0.25,0.26,0.27,0.28,0.29,0.3,0.31,0.32,0.33,0.34,0.35,0.36,0.37,0.38,0.39,0.4,0.41,0.42,0.43,0.44,0.45,0.46,0.47,0.48,0.49,0.5,0.51,0.52,0.53,0.54,0.55,0.56,0.57,0.58,0.59,0.6,0.61,0.62,0.63,0.64,0.65,0.66,0.67,0.68,0.69,0.7,0.71,0.72,0.73,0.74,0.75,0.76,0.77,0.78,0.79,0.8,0.81,0.82,0.83,0.84,0.85,0.86,0.87,0.88,0.89,0.9,0.91,0.92,0.93,0.94,0.95,0.96,0.97,0.98,0.99,1.0],\"xaxis\":\"x\",\"y\":[0.25,0.25,0.25,0.25,0.25,0.25,0.25,0.25,0.25,0.25,0.25,0.25,0.25,0.25,0.25,0.25,0.25,0.25,0.25,0.25,0.25,0.25,0.25,0.25,0.25,0.25,0.25,0.25,0.25,0.25,0.25,0.25,0.25,0.25,0.25252525252525254,0.25380710659898476,0.2564102564102564,0.25773195876288657,0.25906735751295334,0.2604166666666667,0.26455026455026454,0.2702702702702703,0.27472527472527475,0.2840909090909091,0.29239766081871343,0.30120481927710846,0.30625,0.3141025641025641,0.3161290322580645,0.3223684210526316,0.33793103448275863,0.35,0.35766423357664234,0.3712121212121212,0.3828125,0.3951612903225806,0.4188034188034188,0.4336283185840708,0.44144144144144143,0.44954128440366975,0.48484848484848486,0.49473684210526314,0.5111111111111111,0.5476190476190477,0.5974025974025974,0.6216216216216216,0.6388888888888888,0.6617647058823529,0.6716417910447762,0.671875,0.6721311475409836,0.6842105263157895,0.6785714285714286,0.6909090909090909,0.7058823529411765,0.723404255319149,0.75,0.8048780487804879,0.8,0.8529411764705882,0.875,0.896551724137931,0.896551724137931,0.9259259259259259,0.9230769230769231,0.9583333333333334,0.95,0.95,0.9411764705882353,0.9411764705882353,0.9411764705882353,1.0,1.0,1.0,1.0,1.0,1.0,1.0,1.0,1.0,1.0],\"yaxis\":\"y\",\"type\":\"scatter\"},{\"hovertemplate\":\"variable=F-1<br>Threshold=%{x}<br>value=%{y}<extra></extra>\",\"legendgroup\":\"F-1\",\"line\":{\"color\":\"rgb(32,115,171)\",\"dash\":\"solid\"},\"marker\":{\"symbol\":\"circle\"},\"mode\":\"lines\",\"name\":\"F-1\",\"orientation\":\"v\",\"showlegend\":true,\"x\":[0.0,0.01,0.02,0.03,0.04,0.05,0.06,0.07,0.08,0.09,0.1,0.11,0.12,0.13,0.14,0.15,0.16,0.17,0.18,0.19,0.2,0.21,0.22,0.23,0.24,0.25,0.26,0.27,0.28,0.29,0.3,0.31,0.32,0.33,0.34,0.35,0.36,0.37,0.38,0.39,0.4,0.41,0.42,0.43,0.44,0.45,0.46,0.47,0.48,0.49,0.5,0.51,0.52,0.53,0.54,0.55,0.56,0.57,0.58,0.59,0.6,0.61,0.62,0.63,0.64,0.65,0.66,0.67,0.68,0.69,0.7,0.71,0.72,0.73,0.74,0.75,0.76,0.77,0.78,0.79,0.8,0.81,0.82,0.83,0.84,0.85,0.86,0.87,0.88,0.89,0.9,0.91,0.92,0.93,0.94,0.95,0.96,0.97,0.98,0.99,1.0],\"xaxis\":\"x\",\"y\":[0.4,0.4,0.4,0.4,0.4,0.4,0.4,0.4,0.4,0.4,0.4,0.4,0.4,0.4,0.4,0.4,0.4,0.4,0.4,0.4,0.4,0.4,0.4,0.4,0.4,0.4,0.4,0.4,0.4,0.4,0.4,0.4,0.4,0.4,0.40322580645161293,0.40485829959514164,0.4081632653061224,0.40983606557377045,0.4115226337448559,0.4132231404958678,0.4184100418410041,0.4255319148936171,0.4310344827586208,0.4424778761061947,0.45248868778280543,0.46082949308755766,0.46445497630331756,0.47342995169082125,0.47572815533980584,0.48039215686274506,0.4974619289340102,0.5051546391752577,0.5130890052356021,0.5268817204301076,0.5384615384615384,0.550561797752809,0.5730994152046783,0.5868263473053893,0.593939393939394,0.6012269938650308,0.6274509803921569,0.6308724832214765,0.6388888888888888,0.6666666666666667,0.7022900763358778,0.7131782945736433,0.7244094488188975,0.7317073170731708,0.7377049180327869,0.7226890756302521,0.7068965517241379,0.6964285714285715,0.6846846846846847,0.6909090909090909,0.679245283018868,0.6666666666666667,0.6666666666666665,0.6804123711340206,0.6666666666666666,0.6373626373626374,0.6292134831460674,0.5977011494252874,0.5977011494252874,0.5813953488372093,0.5647058823529413,0.5476190476190476,0.4749999999999999,0.4749999999999999,0.4155844155844156,0.4155844155844156,0.4155844155844156,0.41558441558441556,0.3947368421052631,0.3947368421052631,0.3947368421052631,0.3947368421052631,0.3947368421052631,0.3947368421052631,0.3947368421052631,0.3947368421052631,0.3287671232876712],\"yaxis\":\"y\",\"type\":\"scatter\"},{\"hovertemplate\":\"variable=F-10<br>Threshold=%{x}<br>value=%{y}<extra></extra>\",\"legendgroup\":\"F-10\",\"line\":{\"color\":\"#ab63fa\",\"dash\":\"solid\"},\"marker\":{\"symbol\":\"circle\"},\"mode\":\"lines\",\"name\":\"F-10\",\"orientation\":\"v\",\"showlegend\":true,\"x\":[0.0,0.01,0.02,0.03,0.04,0.05,0.06,0.07,0.08,0.09,0.1,0.11,0.12,0.13,0.14,0.15,0.16,0.17,0.18,0.19,0.2,0.21,0.22,0.23,0.24,0.25,0.26,0.27,0.28,0.29,0.3,0.31,0.32,0.33,0.34,0.35,0.36,0.37,0.38,0.39,0.4,0.41,0.42,0.43,0.44,0.45,0.46,0.47,0.48,0.49,0.5,0.51,0.52,0.53,0.54,0.55,0.56,0.57,0.58,0.59,0.6,0.61,0.62,0.63,0.64,0.65,0.66,0.67,0.68,0.69,0.7,0.71,0.72,0.73,0.74,0.75,0.76,0.77,0.78,0.79,0.8,0.81,0.82,0.83,0.84,0.85,0.86,0.87,0.88,0.89,0.9,0.91,0.92,0.93,0.94,0.95,0.96,0.97,0.98,0.99,1.0],\"xaxis\":\"x\",\"y\":[0.9711538461538461,0.9711538461538461,0.9711538461538461,0.9711538461538461,0.9711538461538461,0.9711538461538461,0.9711538461538461,0.9711538461538461,0.9711538461538461,0.9711538461538461,0.9711538461538461,0.9711538461538461,0.9711538461538461,0.9711538461538461,0.9711538461538461,0.9711538461538461,0.9711538461538461,0.9711538461538461,0.9711538461538461,0.9711538461538461,0.9711538461538461,0.9711538461538461,0.9711538461538461,0.9711538461538461,0.9711538461538461,0.9711538461538461,0.9711538461538461,0.9711538461538461,0.9711538461538461,0.9711538461538461,0.9711538461538461,0.9711538461538461,0.9711538461538461,0.9711538461538461,0.9715275105809927,0.9717144506446026,0.9720885466794995,0.9722757027339237,0.9724629308684768,0.9726502311248074,0.9732125650414338,0.973963355834137,0.974527209571594,0.9756568778979907,0.976600270740669,0.9589821496391949,0.9408745247148288,0.9415905631659056,0.9417697431018078,0.9247010463378176,0.925912067352666,0.8933212996389892,0.8938053097345133,0.8946131597975416,0.895260492040521,0.8959087617668358,0.8970454957404388,0.8976963540721933,0.8980221375430957,0.898348157560356,0.8816148390616476,0.8638762511373975,0.8462659380692167,0.8471918307804522,0.8482746028847908,0.8335127377108,0.8338119167264894,0.8162715517241381,0.8164181785521827,0.7805535585909418,0.744650242762093,0.7088357027172937,0.6907847372210224,0.6909090909090909,0.6550171140335074,0.6190733729944113,0.6011904761904762,0.5908526856940259,0.573049645390071,0.5108126961981165,0.4933705512909979,0.45050609023846283,0.45050609023846283,0.42601653450312127,0.4090448869389133,0.3856241699867197,0.3187707641196013,0.3187707641196013,0.2685723782615922,0.2685723782615922,0.2685723782615922,0.2642249836494441,0.2477514309076042,0.2477514309076042,0.2477514309076042,0.2477514309076042,0.2477514309076042,0.2477514309076042,0.2477514309076042,0.2477514309076042,0.1982984293193717],\"yaxis\":\"y\",\"type\":\"scatter\"}],                        {\"template\":{\"data\":{\"histogram2dcontour\":[{\"type\":\"histogram2dcontour\",\"colorbar\":{\"outlinewidth\":0,\"ticks\":\"\"},\"colorscale\":[[0.0,\"#0d0887\"],[0.1111111111111111,\"#46039f\"],[0.2222222222222222,\"#7201a8\"],[0.3333333333333333,\"#9c179e\"],[0.4444444444444444,\"#bd3786\"],[0.5555555555555556,\"#d8576b\"],[0.6666666666666666,\"#ed7953\"],[0.7777777777777778,\"#fb9f3a\"],[0.8888888888888888,\"#fdca26\"],[1.0,\"#f0f921\"]]}],\"choropleth\":[{\"type\":\"choropleth\",\"colorbar\":{\"outlinewidth\":0,\"ticks\":\"\"}}],\"histogram2d\":[{\"type\":\"histogram2d\",\"colorbar\":{\"outlinewidth\":0,\"ticks\":\"\"},\"colorscale\":[[0.0,\"#0d0887\"],[0.1111111111111111,\"#46039f\"],[0.2222222222222222,\"#7201a8\"],[0.3333333333333333,\"#9c179e\"],[0.4444444444444444,\"#bd3786\"],[0.5555555555555556,\"#d8576b\"],[0.6666666666666666,\"#ed7953\"],[0.7777777777777778,\"#fb9f3a\"],[0.8888888888888888,\"#fdca26\"],[1.0,\"#f0f921\"]]}],\"heatmap\":[{\"type\":\"heatmap\",\"colorbar\":{\"outlinewidth\":0,\"ticks\":\"\"},\"colorscale\":[[0.0,\"#0d0887\"],[0.1111111111111111,\"#46039f\"],[0.2222222222222222,\"#7201a8\"],[0.3333333333333333,\"#9c179e\"],[0.4444444444444444,\"#bd3786\"],[0.5555555555555556,\"#d8576b\"],[0.6666666666666666,\"#ed7953\"],[0.7777777777777778,\"#fb9f3a\"],[0.8888888888888888,\"#fdca26\"],[1.0,\"#f0f921\"]]}],\"heatmapgl\":[{\"type\":\"heatmapgl\",\"colorbar\":{\"outlinewidth\":0,\"ticks\":\"\"},\"colorscale\":[[0.0,\"#0d0887\"],[0.1111111111111111,\"#46039f\"],[0.2222222222222222,\"#7201a8\"],[0.3333333333333333,\"#9c179e\"],[0.4444444444444444,\"#bd3786\"],[0.5555555555555556,\"#d8576b\"],[0.6666666666666666,\"#ed7953\"],[0.7777777777777778,\"#fb9f3a\"],[0.8888888888888888,\"#fdca26\"],[1.0,\"#f0f921\"]]}],\"contourcarpet\":[{\"type\":\"contourcarpet\",\"colorbar\":{\"outlinewidth\":0,\"ticks\":\"\"}}],\"contour\":[{\"type\":\"contour\",\"colorbar\":{\"outlinewidth\":0,\"ticks\":\"\"},\"colorscale\":[[0.0,\"#0d0887\"],[0.1111111111111111,\"#46039f\"],[0.2222222222222222,\"#7201a8\"],[0.3333333333333333,\"#9c179e\"],[0.4444444444444444,\"#bd3786\"],[0.5555555555555556,\"#d8576b\"],[0.6666666666666666,\"#ed7953\"],[0.7777777777777778,\"#fb9f3a\"],[0.8888888888888888,\"#fdca26\"],[1.0,\"#f0f921\"]]}],\"surface\":[{\"type\":\"surface\",\"colorbar\":{\"outlinewidth\":0,\"ticks\":\"\"},\"colorscale\":[[0.0,\"#0d0887\"],[0.1111111111111111,\"#46039f\"],[0.2222222222222222,\"#7201a8\"],[0.3333333333333333,\"#9c179e\"],[0.4444444444444444,\"#bd3786\"],[0.5555555555555556,\"#d8576b\"],[0.6666666666666666,\"#ed7953\"],[0.7777777777777778,\"#fb9f3a\"],[0.8888888888888888,\"#fdca26\"],[1.0,\"#f0f921\"]]}],\"mesh3d\":[{\"type\":\"mesh3d\",\"colorbar\":{\"outlinewidth\":0,\"ticks\":\"\"}}],\"scatter\":[{\"fillpattern\":{\"fillmode\":\"overlay\",\"size\":10,\"solidity\":0.2},\"type\":\"scatter\"}],\"parcoords\":[{\"type\":\"parcoords\",\"line\":{\"colorbar\":{\"outlinewidth\":0,\"ticks\":\"\"}}}],\"scatterpolargl\":[{\"type\":\"scatterpolargl\",\"marker\":{\"colorbar\":{\"outlinewidth\":0,\"ticks\":\"\"}}}],\"bar\":[{\"error_x\":{\"color\":\"#2a3f5f\"},\"error_y\":{\"color\":\"#2a3f5f\"},\"marker\":{\"line\":{\"color\":\"#E5ECF6\",\"width\":0.5},\"pattern\":{\"fillmode\":\"overlay\",\"size\":10,\"solidity\":0.2}},\"type\":\"bar\"}],\"scattergeo\":[{\"type\":\"scattergeo\",\"marker\":{\"colorbar\":{\"outlinewidth\":0,\"ticks\":\"\"}}}],\"scatterpolar\":[{\"type\":\"scatterpolar\",\"marker\":{\"colorbar\":{\"outlinewidth\":0,\"ticks\":\"\"}}}],\"histogram\":[{\"marker\":{\"pattern\":{\"fillmode\":\"overlay\",\"size\":10,\"solidity\":0.2}},\"type\":\"histogram\"}],\"scattergl\":[{\"type\":\"scattergl\",\"marker\":{\"colorbar\":{\"outlinewidth\":0,\"ticks\":\"\"}}}],\"scatter3d\":[{\"type\":\"scatter3d\",\"line\":{\"colorbar\":{\"outlinewidth\":0,\"ticks\":\"\"}},\"marker\":{\"colorbar\":{\"outlinewidth\":0,\"ticks\":\"\"}}}],\"scattermapbox\":[{\"type\":\"scattermapbox\",\"marker\":{\"colorbar\":{\"outlinewidth\":0,\"ticks\":\"\"}}}],\"scatterternary\":[{\"type\":\"scatterternary\",\"marker\":{\"colorbar\":{\"outlinewidth\":0,\"ticks\":\"\"}}}],\"scattercarpet\":[{\"type\":\"scattercarpet\",\"marker\":{\"colorbar\":{\"outlinewidth\":0,\"ticks\":\"\"}}}],\"carpet\":[{\"aaxis\":{\"endlinecolor\":\"#2a3f5f\",\"gridcolor\":\"white\",\"linecolor\":\"white\",\"minorgridcolor\":\"white\",\"startlinecolor\":\"#2a3f5f\"},\"baxis\":{\"endlinecolor\":\"#2a3f5f\",\"gridcolor\":\"white\",\"linecolor\":\"white\",\"minorgridcolor\":\"white\",\"startlinecolor\":\"#2a3f5f\"},\"type\":\"carpet\"}],\"table\":[{\"cells\":{\"fill\":{\"color\":\"#EBF0F8\"},\"line\":{\"color\":\"white\"}},\"header\":{\"fill\":{\"color\":\"#C8D4E3\"},\"line\":{\"color\":\"white\"}},\"type\":\"table\"}],\"barpolar\":[{\"marker\":{\"line\":{\"color\":\"#E5ECF6\",\"width\":0.5},\"pattern\":{\"fillmode\":\"overlay\",\"size\":10,\"solidity\":0.2}},\"type\":\"barpolar\"}],\"pie\":[{\"automargin\":true,\"type\":\"pie\"}]},\"layout\":{\"autotypenumbers\":\"strict\",\"colorway\":[\"#636efa\",\"#EF553B\",\"#00cc96\",\"#ab63fa\",\"#FFA15A\",\"#19d3f3\",\"#FF6692\",\"#B6E880\",\"#FF97FF\",\"#FECB52\"],\"font\":{\"color\":\"#2a3f5f\"},\"hovermode\":\"closest\",\"hoverlabel\":{\"align\":\"left\"},\"paper_bgcolor\":\"white\",\"plot_bgcolor\":\"#E5ECF6\",\"polar\":{\"bgcolor\":\"#E5ECF6\",\"angularaxis\":{\"gridcolor\":\"white\",\"linecolor\":\"white\",\"ticks\":\"\"},\"radialaxis\":{\"gridcolor\":\"white\",\"linecolor\":\"white\",\"ticks\":\"\"}},\"ternary\":{\"bgcolor\":\"#E5ECF6\",\"aaxis\":{\"gridcolor\":\"white\",\"linecolor\":\"white\",\"ticks\":\"\"},\"baxis\":{\"gridcolor\":\"white\",\"linecolor\":\"white\",\"ticks\":\"\"},\"caxis\":{\"gridcolor\":\"white\",\"linecolor\":\"white\",\"ticks\":\"\"}},\"coloraxis\":{\"colorbar\":{\"outlinewidth\":0,\"ticks\":\"\"}},\"colorscale\":{\"sequential\":[[0.0,\"#0d0887\"],[0.1111111111111111,\"#46039f\"],[0.2222222222222222,\"#7201a8\"],[0.3333333333333333,\"#9c179e\"],[0.4444444444444444,\"#bd3786\"],[0.5555555555555556,\"#d8576b\"],[0.6666666666666666,\"#ed7953\"],[0.7777777777777778,\"#fb9f3a\"],[0.8888888888888888,\"#fdca26\"],[1.0,\"#f0f921\"]],\"sequentialminus\":[[0.0,\"#0d0887\"],[0.1111111111111111,\"#46039f\"],[0.2222222222222222,\"#7201a8\"],[0.3333333333333333,\"#9c179e\"],[0.4444444444444444,\"#bd3786\"],[0.5555555555555556,\"#d8576b\"],[0.6666666666666666,\"#ed7953\"],[0.7777777777777778,\"#fb9f3a\"],[0.8888888888888888,\"#fdca26\"],[1.0,\"#f0f921\"]],\"diverging\":[[0,\"#8e0152\"],[0.1,\"#c51b7d\"],[0.2,\"#de77ae\"],[0.3,\"#f1b6da\"],[0.4,\"#fde0ef\"],[0.5,\"#f7f7f7\"],[0.6,\"#e6f5d0\"],[0.7,\"#b8e186\"],[0.8,\"#7fbc41\"],[0.9,\"#4d9221\"],[1,\"#276419\"]]},\"xaxis\":{\"gridcolor\":\"white\",\"linecolor\":\"white\",\"ticks\":\"\",\"title\":{\"standoff\":15},\"zerolinecolor\":\"white\",\"automargin\":true,\"zerolinewidth\":2},\"yaxis\":{\"gridcolor\":\"white\",\"linecolor\":\"white\",\"ticks\":\"\",\"title\":{\"standoff\":15},\"zerolinecolor\":\"white\",\"automargin\":true,\"zerolinewidth\":2},\"scene\":{\"xaxis\":{\"backgroundcolor\":\"#E5ECF6\",\"gridcolor\":\"white\",\"linecolor\":\"white\",\"showbackground\":true,\"ticks\":\"\",\"zerolinecolor\":\"white\",\"gridwidth\":2},\"yaxis\":{\"backgroundcolor\":\"#E5ECF6\",\"gridcolor\":\"white\",\"linecolor\":\"white\",\"showbackground\":true,\"ticks\":\"\",\"zerolinecolor\":\"white\",\"gridwidth\":2},\"zaxis\":{\"backgroundcolor\":\"#E5ECF6\",\"gridcolor\":\"white\",\"linecolor\":\"white\",\"showbackground\":true,\"ticks\":\"\",\"zerolinecolor\":\"white\",\"gridwidth\":2}},\"shapedefaults\":{\"line\":{\"color\":\"#2a3f5f\"}},\"annotationdefaults\":{\"arrowcolor\":\"#2a3f5f\",\"arrowhead\":0,\"arrowwidth\":1},\"geo\":{\"bgcolor\":\"white\",\"landcolor\":\"#E5ECF6\",\"subunitcolor\":\"white\",\"showland\":true,\"showlakes\":true,\"lakecolor\":\"white\"},\"title\":{\"x\":0.05},\"mapbox\":{\"style\":\"light\"}}},\"xaxis\":{\"anchor\":\"y\",\"domain\":[0.0,1.0],\"title\":{\"text\":\"Threshold (Cosine Similarity)\"},\"dtick\":0.1,\"range\":[-0.02,1.02]},\"yaxis\":{\"anchor\":\"x\",\"domain\":[0.0,1.0],\"title\":{\"text\":\"\"},\"dtick\":0.1,\"range\":[-0.02,1.02]},\"legend\":{\"title\":{\"text\":\"\"},\"tracegroupgap\":0,\"orientation\":\"h\",\"yanchor\":\"top\",\"y\":1.08,\"xanchor\":\"left\",\"x\":0.0},\"margin\":{\"t\":60},\"shapes\":[{\"line\":{\"color\":\"gray\",\"dash\":\"dash\",\"width\":1.5},\"type\":\"line\",\"x0\":0.44,\"x1\":0.44,\"xref\":\"x\",\"y0\":0,\"y1\":1,\"yref\":\"y domain\"}],\"height\":600,\"width\":600},                        {\"responsive\": true}                    ).then(function(){\n                            \nvar gd = document.getElementById('00d959e8-b676-4f7a-b344-09d8b3a00d1b');\nvar x = new MutationObserver(function (mutations, observer) {{\n        var display = window.getComputedStyle(gd).display;\n        if (!display || display === 'none') {{\n            console.log([gd, 'removed!']);\n            Plotly.purge(gd);\n            observer.disconnect();\n        }}\n}});\n\n// Listen for the removal of the full notebook cells\nvar notebookContainer = gd.closest('#notebook-container');\nif (notebookContainer) {{\n    x.observe(notebookContainer, {childList: true});\n}}\n\n// Listen for the clearing of the current output cell\nvar outputEl = gd.closest('.output');\nif (outputEl) {{\n    x.observe(outputEl, {childList: true});\n}}\n\n                        })                };                });            </script>        </div>"
     },
     "metadata": {},
     "output_type": "display_data"
    }
   ],
   "source": [
    "import plotly.express as px\n",
    "\n",
    "fig = px.line(res, x=\"Threshold\", y=[\"Recall\", \"Precision\", \"F-1\", \"F-10\"], title='')\n",
    "\n",
    "fig['data'][0]['line']['color'] = \"rgb(234,143,129)\"\n",
    "fig['data'][1]['line']['color'] = \"rgb(255,191,0)\"\n",
    "fig['data'][2]['line']['color'] = \"rgb(32,115,171)\"\n",
    "\n",
    "fig.add_vline(x=res[\"Threshold\"][res[\"F-10\"].idxmax()], line_width=1.5, line_dash=\"dash\", line_color=\"gray\")\n",
    "\n",
    "fig.update_layout(\n",
    "    height=600,\n",
    "    width=600,\n",
    "    yaxis_title=\"\",\n",
    "    xaxis_title=\"Threshold (Cosine Similarity)\",\n",
    "    legend_title_text='',\n",
    "    legend=dict(orientation=\"h\",\n",
    "                yanchor=\"top\",\n",
    "                y=1.08,\n",
    "                xanchor=\"left\",\n",
    "                x=0.0),\n",
    "    # plot_bgcolor='rgba(0,0,0,0)',\n",
    ")\n",
    "\n",
    "fig.update_xaxes(dtick=0.1, range=[-0.02,1.02])\n",
    "fig.update_yaxes(dtick=0.1, range=[-0.02,1.02])\n",
    "\n",
    "# fig.update_layout(dict(yaxis2={'anchor': 'x', 'overlaying': 'y', 'side': 'left'},\n",
    "#                        yaxis={'anchor': 'x', 'domain': [0.0, 1.0], 'side':'right'}))\n",
    "\n",
    "fig.show()"
   ]
  },
  {
   "cell_type": "code",
   "execution_count": null,
   "metadata": {
    "collapsed": false,
    "pycharm": {
     "name": "#%%\n",
     "is_executing": true
    }
   },
   "outputs": [],
   "source": [
    "# possible_matches = co_sim_matrix.apply(lambda x: list(zip(x.abs().nlargest(5).index.tolist(), x.abs().nlargest(5).round(4).tolist())), axis=1)\n",
    "# possible_matches"
   ]
  },
  {
   "cell_type": "code",
   "execution_count": 65,
   "metadata": {
    "collapsed": false,
    "pycharm": {
     "name": "#%%\n"
    }
   },
   "outputs": [],
   "source": [
    "threshold = res[\"Threshold\"][res[\"F-10\"].idxmax()]"
   ]
  },
  {
   "cell_type": "code",
   "execution_count": 66,
   "metadata": {
    "collapsed": false,
    "pycharm": {
     "name": "#%%\n"
    }
   },
   "outputs": [
    {
     "data": {
      "text/plain": "                  yelp_category        mapped_schema  similarity\n0                        hostel               hostel    1.000000\n1                     pawn shop            pawn shop    1.000000\n2             financial service    financial service    1.000000\n3                         beach                beach    1.000000\n4           adult entertainment  adult entertainment    1.000000\n...                         ...                  ...         ...\n1411    countertop installation                 None    0.304017\n1412        conveyor belt sushi                 None    0.294110\n1413  water heater installation                 None    0.293358\n1414           lighting fixture                 None    0.282112\n1415        home window tinting                 None    0.251885\n\n[1416 rows x 3 columns]",
      "text/html": "<div>\n<style scoped>\n    .dataframe tbody tr th:only-of-type {\n        vertical-align: middle;\n    }\n\n    .dataframe tbody tr th {\n        vertical-align: top;\n    }\n\n    .dataframe thead th {\n        text-align: right;\n    }\n</style>\n<table border=\"1\" class=\"dataframe\">\n  <thead>\n    <tr style=\"text-align: right;\">\n      <th></th>\n      <th>yelp_category</th>\n      <th>mapped_schema</th>\n      <th>similarity</th>\n    </tr>\n  </thead>\n  <tbody>\n    <tr>\n      <th>0</th>\n      <td>hostel</td>\n      <td>hostel</td>\n      <td>1.000000</td>\n    </tr>\n    <tr>\n      <th>1</th>\n      <td>pawn shop</td>\n      <td>pawn shop</td>\n      <td>1.000000</td>\n    </tr>\n    <tr>\n      <th>2</th>\n      <td>financial service</td>\n      <td>financial service</td>\n      <td>1.000000</td>\n    </tr>\n    <tr>\n      <th>3</th>\n      <td>beach</td>\n      <td>beach</td>\n      <td>1.000000</td>\n    </tr>\n    <tr>\n      <th>4</th>\n      <td>adult entertainment</td>\n      <td>adult entertainment</td>\n      <td>1.000000</td>\n    </tr>\n    <tr>\n      <th>...</th>\n      <td>...</td>\n      <td>...</td>\n      <td>...</td>\n    </tr>\n    <tr>\n      <th>1411</th>\n      <td>countertop installation</td>\n      <td>None</td>\n      <td>0.304017</td>\n    </tr>\n    <tr>\n      <th>1412</th>\n      <td>conveyor belt sushi</td>\n      <td>None</td>\n      <td>0.294110</td>\n    </tr>\n    <tr>\n      <th>1413</th>\n      <td>water heater installation</td>\n      <td>None</td>\n      <td>0.293358</td>\n    </tr>\n    <tr>\n      <th>1414</th>\n      <td>lighting fixture</td>\n      <td>None</td>\n      <td>0.282112</td>\n    </tr>\n    <tr>\n      <th>1415</th>\n      <td>home window tinting</td>\n      <td>None</td>\n      <td>0.251885</td>\n    </tr>\n  </tbody>\n</table>\n<p>1416 rows × 3 columns</p>\n</div>"
     },
     "execution_count": 66,
     "metadata": {},
     "output_type": "execute_result"
    }
   ],
   "source": [
    "mapp = mappings.copy()\n",
    "\n",
    "mapp['mapped_schema'][mapp['similarity'] < threshold] = \"None\"\n",
    "mapp"
   ]
  },
  {
   "cell_type": "code",
   "execution_count": 72,
   "outputs": [],
   "source": [
    "mapp.to_csv(\"semantic_mappings_csv\", index=False)"
   ],
   "metadata": {
    "collapsed": false,
    "pycharm": {
     "name": "#%%\n"
    }
   }
  },
  {
   "cell_type": "code",
   "execution_count": null,
   "outputs": [],
   "source": [],
   "metadata": {
    "collapsed": false,
    "pycharm": {
     "name": "#%%\n"
    }
   }
  }
 ],
 "metadata": {
  "kernelspec": {
   "display_name": "Python 3",
   "language": "python",
   "name": "python3"
  },
  "language_info": {
   "codemirror_mode": {
    "name": "ipython",
    "version": 2
   },
   "file_extension": ".py",
   "mimetype": "text/x-python",
   "name": "python",
   "nbconvert_exporter": "python",
   "pygments_lexer": "ipython2",
   "version": "2.7.6"
  }
 },
 "nbformat": 4,
 "nbformat_minor": 0
}