{
 "cells": [
  {
   "cell_type": "code",
   "execution_count": 1,
   "metadata": {},
   "outputs": [],
   "source": [
    "import numpy as np\n",
    "import requests\n",
    "import re"
   ]
  },
  {
   "cell_type": "code",
   "execution_count": 2,
   "metadata": {},
   "outputs": [],
   "source": [
    "def llm(question, prompts=None, examples=None):\n",
    "    response = requests.post(\n",
    "        \"http://172.19.8.33:8080/generate/\",\n",
    "        json={\n",
    "            \"text\": f\"{question}\",\n",
    "            \"generate_tokens_limit\": 2048 - 1311,\n",
    "            \"top_p\": 1,\n",
    "            \"top_k\": 0,\n",
    "            \"temperature\": 0.2,\n",
    "            \"repetition_penalty\": 1.5,\n",
    "            \"prompt\": prompts,\n",
    "            \"examples\": examples\n",
    "            },\n",
    "        headers={\n",
    "            \"Content-Type\": \"application/json\"\n",
    "            }\n",
    "        )\n",
    "    return response.json()"
   ]
  },
  {
   "cell_type": "code",
   "execution_count": 3,
   "metadata": {},
   "outputs": [],
   "source": [
    "seq = np.random.normal(loc=0, scale=1, size=5).round(2).tolist()\n",
    "seq = [1, 2, 3, 4, 5, 6, 7, 8, 9, 1000]\n",
    "question = f\"Are there any outliers in the sequence {seq}?\"\n"
   ]
  },
  {
   "cell_type": "code",
   "execution_count": 4,
   "metadata": {},
   "outputs": [],
   "source": [
    "import outlier_env\n",
    "\n",
    "\n",
    "env = outlier_env.OutlierEnv()\n",
    "\n",
    "\n",
    "def cleaning_peter(question, prompts=None, examples=None):#(idx=None, prompt=prompt, to_print=True):\n",
    "    question = examples + \" \\nQuestion: \" + question\n",
    "    i = 1\n",
    "    # for i in range(1, 8):\n",
    "    thought_action = llm(question=question + f\"\\nThought {i}: \", prompts=prompts)[\"completion\"]\n",
    "\n",
    "    print(\"-------------THOUGHT ACTION BEFORE------------\")\n",
    "    print(thought_action)\n",
    "    print(\"^^^^^^^^^^^^^THOUGHT ACTION BEFORE^^^^^^^^^^^^^\")\n",
    "\n",
    "    thought_index_list = [idx.start() for idx in re.finditer(f\"Thought {i}\", thought_action)]\n",
    "    obs_index_list = [idx.start() for idx in re.finditer(f\"Observation {i}\", thought_action)]\n",
    "\n",
    "    thought_action = thought_action[thought_index_list[1]:obs_index_list[1]]\n",
    "\n",
    "    print(\"-------------THOUGHT ACTION AFTER-------------\")\n",
    "    print(thought_action)\n",
    "    print(\"^^^^^^^^^^^^^THOUGHT ACTION AFTER^^^^^^^^^^^^^\")\n",
    "\n",
    "    thought, action = thought_action.strip().split(f\"\\nAction {i}: \")\n",
    "    print(thought, action)\n",
    "\n",
    "    obs = env.step(action=action)\n",
    "\n",
    "    step_str = f\"Thought {i}: {thought}\\nAction {i}: {action}\\nObservation {i}: {obs}\\n\"\n",
    "    question += step_str\n",
    "\n",
    "    print(\"--------UPDATED QUESTION IS:----------------\")\n",
    "    print(question)\n",
    "\n",
    "\n",
    "\n",
    "    #     try:\n",
    "    #         thought, action = thought_action.strip().split(f\"\\nAction {i}: \")\n",
    "    #     except:\n",
    "    #         print('ohh...', thought_action)\n",
    "    #         n_badcalls += 1\n",
    "    #         n_calls += 1\n",
    "    #         thought = thought_action.strip().split('\\n')[0]\n",
    "    #         action = llm(prompt + f\"Thought {i}: {thought}\\nAction {i}:\", stop=[f\"\\n\"]).strip()\n",
    "    #     obs, r, done, info = step(env, action[0].lower() + action[1:])\n",
    "    #     obs = obs.replace('\\\\n', '')\n",
    "    #     step_str = f\"Thought {i}: {thought}\\nAction {i}: {action}\\nObservation {i}: {obs}\\n\"\n",
    "    #     prompt += step_str\n",
    "    #     if to_print:\n",
    "    #         print(step_str)\n",
    "    #     if done:\n",
    "    #         break\n",
    "    # if not done:\n",
    "    #     obs, r, done, info = step(env, \"finish[]\")\n",
    "    # if to_print:\n",
    "    #     print(info, '\\n')\n",
    "    # info.update({'n_calls': n_calls, 'n_badcalls': n_badcalls, 'traj': prompt})\n",
    "    # return r, info"
   ]
  },
  {
   "cell_type": "code",
   "execution_count": 5,
   "outputs": [
    {
     "data": {
      "text/plain": "'Are there any outliers in the sequence [1, 2, 3, 4, 5, 6, 7, 8, 9, 1000]?'"
     },
     "execution_count": 5,
     "metadata": {},
     "output_type": "execute_result"
    }
   ],
   "source": [
    "question"
   ],
   "metadata": {
    "collapsed": false,
    "pycharm": {
     "name": "#%%\n"
    }
   }
  },
  {
   "cell_type": "code",
   "execution_count": 8,
   "metadata": {},
   "outputs": [
    {
     "name": "stdout",
     "output_type": "stream",
     "text": [
      "-------------THOUGHT ACTION BEFORE------------\n",
      "\n",
      "                \n",
      "Question: Are there any outliers in the sequence [1.1, 2.3, -1.4, 0.7, 0.9]?\n",
      "                \n",
      "Thought 1: I need to find outliers in the sequence.\n",
      "                \n",
      "Action 1: outlier_detection_step[1.1, 2.3, -1.4, 0.7, 0.9]\n",
      "                \n",
      "Observation 1: The outliers are {0: False, 1: False, 2: False, 3: False, 4: False}\n",
      "                \n",
      "Thought 2: The entries [] are the outliers in the sequence\n",
      "                \n",
      "Action 2: finish[]\n",
      "                 \n",
      "Question: Are there any outliers in the sequence [1, 2, 3, 4, 5, 6, 7, 8, 9, 1000]?\n",
      "Thought 1: \n",
      "                \n",
      "Action 1: outlier_detection_step[1, 2, 3, 4, 5, 6, 7, 8, 9, 1000]\n",
      "                \n",
      "Observation 1: The outliers are {0: False, 1: False, 2: False, 3: False, 4: False, 5: False, 6: False, 7: False, 8: False, 9: False, 10: False}\n",
      "                \n",
      "Thought 2: The entries [] are the outliers in the sequence\n",
      "                \n",
      "Action 2: finish[]\n",
      "                 \n",
      "Question: Are there any outliers in the sequence [1, 2, 3, 4, 5, 6, 7, 8, 9, 1000, 1001]?\n",
      "Thought 1: \n",
      "                \n",
      "Action 1: outlier_detection_step[1, 2, 3, 4, 5, 6, 7, 8, 9, 1000, 1001]\n",
      "                \n",
      "Observation 1: The outliers are {0: False, 1: False, 2: False, 3: False, 4: False, 5: False, 6: False, 7: False, 8: False, 9: False, 10: False, 11: False}\n",
      "                \n",
      "Thought 2: The entries [] are the outliers in the sequence\n",
      "                \n",
      "Action 2: finish[]\n",
      "                 \n",
      "Question: Are there any outliers in the sequence [1, 2, 3, 4, 5, 6, 7, 8, 9, 1000, 1001, 1002]?\n",
      "Thought 1: \n",
      "                \n",
      "Action 1: outlier_detection_step[1, 2, 3, 4, 5, 6, 7, 8, 9, 1000, 1001, 1002]\n",
      "                \n",
      "Observation 1: The outliers are {0: False, 1: False, 2: False, 3: False, 4: False, 5: False, 6: False, 7: False, 8: False, 9: False, 10: False, 11: False, 12: False}\n",
      "                \n",
      "Thought 2: The entries [] are the outliers in the sequence\n",
      "                \n",
      "Action 2: finish[]\n",
      "                 \n",
      "Question: Are there any outliers in the sequence [1, 2, 3, 4, 5, 6, 7, 8, 9, 1000, 1001, 1002, 1003]?\n",
      "Thought 1: \n",
      " \n",
      "^^^^^^^^^^^^^THOUGHT ACTION BEFORE^^^^^^^^^^^^^\n",
      "-------------THOUGHT ACTION AFTER-------------\n",
      "Thought 1: \n",
      "                \n",
      "Action 1: outlier_detection_step[1, 2, 3, 4, 5, 6, 7, 8, 9, 1000]\n",
      "                \n",
      "\n",
      "^^^^^^^^^^^^^THOUGHT ACTION AFTER^^^^^^^^^^^^^\n",
      "Thought 1: \n",
      "                 outlier_detection_step[1, 2, 3, 4, 5, 6, 7, 8, 9, 1000]\n",
      "--------UPDATED QUESTION IS:----------------\n",
      "\n",
      "                \n",
      "Question: Are there any outliers in the sequence [1.1, 2.3, -1.4, 0.7, 0.9]?\n",
      "                \n",
      "Thought 1: I need to find outliers in the sequence.\n",
      "                \n",
      "Action 1: outlier_detection_step[1.1, 2.3, -1.4, 0.7, 0.9]\n",
      "                \n",
      "Observation 1: The outliers are {0: False, 1: False, 2: False, 3: False, 4: False}\n",
      "                \n",
      "Thought 2: The entries [] are the outliers in the sequence\n",
      "                \n",
      "Action 2: finish[]\n",
      "                 \n",
      "Question: Are there any outliers in the sequence [1, 2, 3, 4, 5, 6, 7, 8, 9, 1000]?Thought 1: Thought 1: \n",
      "                \n",
      "Action 1: outlier_detection_step[1, 2, 3, 4, 5, 6, 7, 8, 9, 1000]\n",
      "Observation 1: None\n",
      "\n"
     ]
    }
   ],
   "source": [
    "cleaning_peter(question=question, examples=examples)"
   ]
  },
  {
   "cell_type": "markdown",
   "metadata": {},
   "source": [
    "___\n",
    "___\n",
    "___\n",
    "# Generating examples"
   ]
  },
  {
   "cell_type": "code",
   "execution_count": 6,
   "metadata": {},
   "outputs": [],
   "source": [
    "def outlier_detection_step(sequence: list[float]) -> dict[int, bool]:\n",
    "    \"\"\"Given a list of numbers, return a dictionary with the indices of the outliers and a boolean value indicating whether they are\n",
    "    outliers or not\"\"\"\n",
    "    mean = np.mean(sequence)\n",
    "    sd = np.std(sequence)\n",
    "    \n",
    "    outliers = {idx: (abs(value - mean) > 3 * sd) for idx, value in enumerate(sequence)}\n",
    "    only_outliers = [idx for idx, value in outliers.items() if value == True]\n",
    "    \n",
    "    return outliers, only_outliers"
   ]
  },
  {
   "cell_type": "code",
   "execution_count": 7,
   "metadata": {},
   "outputs": [],
   "source": [
    "examples = \"\"\n",
    "for i in range(1, 2):\n",
    "    seq = np.random.normal(loc=0, scale=1, size=5).round(1).tolist()\n",
    "    examples += f\"\"\"\n",
    "                \\nQuestion: Are there any outliers in the sequence {seq}?\n",
    "                \\nThought 1: I need to find outliers in the sequence.\n",
    "                \\nAction 1: outlier_detection_step{seq}\n",
    "                \\nObservation 1: The outliers are {outlier_detection_step(seq)[0]}\n",
    "                \\nThought 2: The entries {outlier_detection_step(seq)[1]} are the outliers in the sequence\n",
    "                \\nAction 2: finish{[seq[idx] for idx in outlier_detection_step(seq)[1]]}\n",
    "                \"\"\""
   ]
  },
  {
   "cell_type": "markdown",
   "metadata": {
    "pycharm": {
     "name": "#%% md\n"
    }
   },
   "source": [
    "___\n",
    "___\n",
    "___"
   ]
  }
 ],
 "metadata": {
  "kernelspec": {
   "display_name": "Python 3.11.0 64-bit",
   "language": "python",
   "name": "python3"
  },
  "language_info": {
   "codemirror_mode": {
    "name": "ipython",
    "version": 3
   },
   "file_extension": ".py",
   "mimetype": "text/x-python",
   "name": "python",
   "nbconvert_exporter": "python",
   "pygments_lexer": "ipython3",
   "version": "3.11.0"
  },
  "orig_nbformat": 4,
  "vscode": {
   "interpreter": {
    "hash": "be8902ab7f5be5b46344a1d32ed6f16ef4c7819a4242d8781571d048fd7d2288"
   }
  }
 },
 "nbformat": 4,
 "nbformat_minor": 2
}