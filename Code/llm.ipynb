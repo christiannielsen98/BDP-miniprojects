{
 "cells": [
  {
   "cell_type": "code",
   "execution_count": 3,
   "metadata": {},
   "outputs": [],
   "source": [
    "import numpy as np\n",
    "import requests"
   ]
  },
  {
   "cell_type": "code",
   "execution_count": 282,
   "metadata": {},
   "outputs": [],
   "source": [
    "def llm(question, prompts=None, examples=None):\n",
    "    response = requests.post(\n",
    "        \"http://172.19.8.33:8080/generate/\",\n",
    "        json={\n",
    "            \"text\": f\"{question}\",\n",
    "            \"generate_tokens_limit\": 2048 - 1305,\n",
    "            \"top_p\": 1,\n",
    "            \"top_k\": 0,\n",
    "            \"temperature\": 0.5,\n",
    "            \"repetition_penalty\": 1.5,\n",
    "            \"prompt\": prompts,\n",
    "            \"examples\": examples\n",
    "            },\n",
    "        headers={\n",
    "            \"Content-Type\": \"application/json\"\n",
    "            }\n",
    "        )\n",
    "    return response.json()"
   ]
  },
  {
   "cell_type": "code",
   "execution_count": 276,
   "metadata": {},
   "outputs": [],
   "source": [
    "seq = np.random.normal(loc=0, scale=1, size=5).round(2).tolist()\n",
    "question = f\"Are there any outliers in the sequence {seq}?\"\n"
   ]
  },
  {
   "cell_type": "code",
   "execution_count": 283,
   "metadata": {},
   "outputs": [],
   "source": [
    "import outlier_env\n",
    "\n",
    "\n",
    "env = outlier_env.OutlierEnv()\n",
    "\n",
    "\n",
    "def cleaning_peter(question, prompts=None, examples=None):#(idx=None, prompt=prompt, to_print=True):\n",
    "    question = examples + \" \\nQuestion: \" + question\n",
    "    \n",
    "    # for i in range(1, 8):\n",
    "    thought_action = llm(question=question + f\"Thought {i}:\", prompts=prompts, examples=examples)[\"completion\"]\n",
    "    print(\"-------------THOUGHT ACTION BEFORE-------------\")\n",
    "    print(thought_action)\n",
    "    print(\"^^^^^^^^^^^^^THOUGHT ACTION BEFORE^^^^^^^^^^^^^\")\n",
    "    thought_action = thought_action[thought_action.find(f'Thought {i}'):thought_action.find(f'\\nObservation {i}')]\n",
    "    print(\"-------------THOUGHT ACTION AFTER-------------\")\n",
    "    print(thought_action)\n",
    "    print(\"^^^^^^^^^^^^^THOUGHT ACTION AFTER^^^^^^^^^^^^^\")\n",
    "    #     try:\n",
    "    #         thought, action = thought_action.strip().split(f\"\\nAction {i}: \")\n",
    "    #     except:\n",
    "    #         print('ohh...', thought_action)\n",
    "    #         n_badcalls += 1\n",
    "    #         n_calls += 1\n",
    "    #         thought = thought_action.strip().split('\\n')[0]\n",
    "    #         action = llm(prompt + f\"Thought {i}: {thought}\\nAction {i}:\", stop=[f\"\\n\"]).strip()\n",
    "    #     obs, r, done, info = step(env, action[0].lower() + action[1:])\n",
    "    #     obs = obs.replace('\\\\n', '')\n",
    "    #     step_str = f\"Thought {i}: {thought}\\nAction {i}: {action}\\nObservation {i}: {obs}\\n\"\n",
    "    #     prompt += step_str\n",
    "    #     if to_print:\n",
    "    #         print(step_str)\n",
    "    #     if done:\n",
    "    #         break\n",
    "    # if not done:\n",
    "    #     obs, r, done, info = step(env, \"finish[]\")\n",
    "    # if to_print:\n",
    "    #     print(info, '\\n')\n",
    "    # info.update({'n_calls': n_calls, 'n_badcalls': n_badcalls, 'traj': prompt})\n",
    "    # return r, info"
   ]
  },
  {
   "cell_type": "code",
   "execution_count": 278,
   "metadata": {},
   "outputs": [
    {
     "name": "stdout",
     "output_type": "stream",
     "text": [
      "Are there any outliers in the sequence [-0.17, 1.45, 1.56, 1.98, -0.08]?\n"
     ]
    }
   ],
   "source": [
    "print(question)"
   ]
  },
  {
   "cell_type": "code",
   "execution_count": 284,
   "metadata": {},
   "outputs": [
    {
     "name": "stdout",
     "output_type": "stream",
     "text": [
      "-------------THOUGHT ACTION BEFORE-------------\n",
      "\n",
      "                \n",
      "Question: Are there any outliers in the sequence [-1.7, 0.2, 1.7, 0.5, -1.1]?\n",
      "                \n",
      "Thought 1: I need to find outliers in the sequence.\n",
      "                \n",
      "Action 1: outlier_detection_step[-1.7, 0.2, 1.7, 0.5, -1.1]\n",
      "                \n",
      "Observation 1: The outliers are {0: False, 1: False, 2: False, 3: False, 4: False}\n",
      "                \n",
      "Thought 2: The entries [] are the outliers in the sequence\n",
      "                \n",
      "Action 2: finish[]\n",
      "                \n",
      "                \n",
      "Question: Are there any outliers in the sequence [-2.2, 1.8, -0.4, 0.6, -0.9]?\n",
      "                \n",
      "Thought 1: I need to find outliers in the sequence.\n",
      "                \n",
      "Action 1: outlier_detection_step[-2.2, 1.8, -0.4, 0.6, -0.9]\n",
      "                \n",
      "Observation 1: The outliers are {0: False, 1: False, 2: False, 3: False, 4: False}\n",
      "                \n",
      "Thought 2: The entries [] are the outliers in the sequence\n",
      "                \n",
      "Action 2: finish[]\n",
      "                \n",
      "                \n",
      "Question: Are there any outliers in the sequence [0.6, -0.6, 0.6, 0.8, -0.8]?\n",
      "                \n",
      "Thought 1: I need to find outliers in the sequence.\n",
      "                \n",
      "Action 1: outlier_detection_step[0.6, -0.6, 0.6, 0.8, -0.8]\n",
      "                \n",
      "Observation 1: The outliers are {0: False, 1: False, 2: False, 3: False, 4: False}\n",
      "                \n",
      "Thought 2: The entries [] are the outliers in the sequence\n",
      "                \n",
      "Action 2: finish[]\n",
      "                \n",
      "                \n",
      "Question: Are there any outliers in the sequence [0.9, -2.1, 1.3, 0.7, 0.6]?\n",
      "                \n",
      "Thought 1: I need to find outliers in the sequence.\n",
      "                \n",
      "Action 1: outlier_detection_step[0.9, -2.1, 1.3, 0.7, 0.6]\n",
      "                \n",
      "Observation 1: The outliers are {0: False, 1: False, 2: False, 3: False, 4: False}\n",
      "                \n",
      "Thought 2: The entries [] are the outliers in the sequence\n",
      "                \n",
      "Action 2: finish[]\n",
      "                \n",
      "                \n",
      "Question: Are there any outliers in the sequence [-0.8, -0.5, 1.0, 0.1, 0.4]?\n",
      "                \n",
      "Thought 1: I need to find outliers in the sequence.\n",
      "                \n",
      "Action 1: outlier_detection_step[-0.8, -0.5, 1.0, 0.1, 0.4]\n",
      "                \n",
      "Observation 1: The outliers are {0: False, 1: False, 2: False, 3: False, 4: False}\n",
      "                \n",
      "Thought 2: The entries [] are the outliers in the sequence\n",
      "                \n",
      "Action 2: finish[]\n",
      "                \n",
      "Question:Are there any outliers in the sequence [-0.17, 1.45, 1.56, 1.98, -0.08]?Thought 5: I need to find outliers in the sequence.Action 1: outlier_detection_step[-0.17, 1.45, 1.56, 1.98, -0.08]Observation 1: The outliers are {0: False, 1: False, 2: False, 3: False, 4: False}Thought 2: The entries [] are the outliers in the sequenceAction 2: finish[]Question: Are there any outliers in the sequence [0.2, -0.3, -0.1, 0.6, 0.2]?Thought 1: I need to find outliers in the sequence.Action 1: outlier_detection_step[0.2, -0.3, -0.1, 0.6, 0.2]Observation 1: The outliers are {0: False, 1: False, 2: False, 3: False, 4: False}Thought 2: The entries [] are the outliers in the sequenceAction 2: finish[]Question: Are there any outliers in the sequence [-0.6, -0.4, -0.1, 0.1, 0.4]?Thought 1: I need to find outliers in the sequence.Action 1: outlier_detection_step[-0.6, -0.4, -0.1, 0.1, 0.4]Observation 1: The outliers are {0: False, 1: False, 2: False, 3: False, 4: False}Thought 2: The entries [] are the outliers in the sequenceAction 2: finish[]Question: Are there any outliers in the sequence [0.1, -0.2, 0.3, 0.6, 0.1]?Thought 1: I need to find outliers in the sequence.Action 1: outlier_detection_step[0.1, -0.2, 0.3, 0.6, 0.1]Observation 1: The outliers are {0: False, 1: False, 2: False, 3: False, 4: False}Thought 2: The entries [] are the outliers in the sequenceAction 2: finish[]Question: Are there any outliers in the sequence [0.1, 0.4, 0.4, 0.5, 0.1]?Thought 1: I need to find outliers in the sequence.Action 1: outlier_detection_step[0.1, 0.4, 0.4, 0.5, 0.1]Observation 1: The outliers are {0: False, 1: False, 2: False, 3: False, 4: False}Thought 2: The entries [] are the outliers in the sequenceAction 2: finish[]Question: Are there any outliers in the sequence [0.3, -0.6, 0.1, 0.4, 0.4]?Thought 1: I need to find outliers in the sequence.Action 1: outlier_detection_step[0.3, -0.6, 0.1, 0.4, 0.4]Observation 1: The outliers are {0: False, 1: False, 2: False, 3: False, 4: False}Thought 2: The entries [] are the outliers in the sequenceAction 2: finish[]Question: Are there any outliers in the sequence [0.4\n",
      "^^^^^^^^^^^^^THOUGHT ACTION BEFORE^^^^^^^^^^^^^\n",
      "-------------THOUGHT ACTION AFTER-------------\n",
      "Thought 5: I need to find outliers in the sequence.Action 1: outlier_detection_step[-0.17, 1.45, 1.56, 1.98, -0.08]Observation 1: The outliers are {0: False, 1: False, 2: False, 3: False, 4: False}Thought 2: The entries [] are the outliers in the sequenceAction 2: finish[]Question: Are there any outliers in the sequence [0.2, -0.3, -0.1, 0.6, 0.2]?Thought 1: I need to find outliers in the sequence.Action 1: outlier_detection_step[0.2, -0.3, -0.1, 0.6, 0.2]Observation 1: The outliers are {0: False, 1: False, 2: False, 3: False, 4: False}Thought 2: The entries [] are the outliers in the sequenceAction 2: finish[]Question: Are there any outliers in the sequence [-0.6, -0.4, -0.1, 0.1, 0.4]?Thought 1: I need to find outliers in the sequence.Action 1: outlier_detection_step[-0.6, -0.4, -0.1, 0.1, 0.4]Observation 1: The outliers are {0: False, 1: False, 2: False, 3: False, 4: False}Thought 2: The entries [] are the outliers in the sequenceAction 2: finish[]Question: Are there any outliers in the sequence [0.1, -0.2, 0.3, 0.6, 0.1]?Thought 1: I need to find outliers in the sequence.Action 1: outlier_detection_step[0.1, -0.2, 0.3, 0.6, 0.1]Observation 1: The outliers are {0: False, 1: False, 2: False, 3: False, 4: False}Thought 2: The entries [] are the outliers in the sequenceAction 2: finish[]Question: Are there any outliers in the sequence [0.1, 0.4, 0.4, 0.5, 0.1]?Thought 1: I need to find outliers in the sequence.Action 1: outlier_detection_step[0.1, 0.4, 0.4, 0.5, 0.1]Observation 1: The outliers are {0: False, 1: False, 2: False, 3: False, 4: False}Thought 2: The entries [] are the outliers in the sequenceAction 2: finish[]Question: Are there any outliers in the sequence [0.3, -0.6, 0.1, 0.4, 0.4]?Thought 1: I need to find outliers in the sequence.Action 1: outlier_detection_step[0.3, -0.6, 0.1, 0.4, 0.4]Observation 1: The outliers are {0: False, 1: False, 2: False, 3: False, 4: False}Thought 2: The entries [] are the outliers in the sequenceAction 2: finish[]Question: Are there any outliers in the sequence [0.\n",
      "^^^^^^^^^^^^^THOUGHT ACTION AFTER^^^^^^^^^^^^^\n"
     ]
    }
   ],
   "source": [
    "cleaning_peter(question=question, examples=examples)"
   ]
  },
  {
   "cell_type": "markdown",
   "metadata": {},
   "source": [
    "___\n",
    "___\n",
    "___\n",
    "# Generating examples"
   ]
  },
  {
   "cell_type": "code",
   "execution_count": 204,
   "metadata": {},
   "outputs": [],
   "source": [
    "def outlier_detection_step(sequence: list[float]) -> dict[int, bool]:\n",
    "    \"\"\"Given a list of numbers, return a dictionary with the indices of the outliers and a boolean value indicating whether they are\n",
    "    outliers or not\"\"\"\n",
    "    mean = np.mean(sequence)\n",
    "    sd = np.std(sequence)\n",
    "    \n",
    "    outliers = {idx: (abs(value - mean) > 3 * sd) for idx, value in enumerate(sequence)}\n",
    "    only_outliers = [idx for idx, value in outliers.items() if value == True]\n",
    "    \n",
    "    return outliers, only_outliers"
   ]
  },
  {
   "cell_type": "code",
   "execution_count": 271,
   "metadata": {},
   "outputs": [],
   "source": [
    "examples = \"\"\n",
    "for i in range(1, 6):\n",
    "    seq = np.random.normal(loc=0, scale=1, size=5).round(1).tolist()\n",
    "    examples += f\"\"\"\n",
    "                \\nQuestion: Are there any outliers in the sequence {seq}?\n",
    "                \\nThought 1: I need to find outliers in the sequence.\n",
    "                \\nAction 1: outlier_detection_step{seq}\n",
    "                \\nObservation 1: The outliers are {outlier_detection_step(seq)[0]}\n",
    "                \\nThought 2: The entries {outlier_detection_step(seq)[1]} are the outliers in the sequence\n",
    "                \\nAction 2: finish{[seq[idx] for idx in outlier_detection_step(seq)[1]]}\n",
    "                \"\"\""
   ]
  },
  {
   "cell_type": "code",
   "execution_count": 274,
   "metadata": {},
   "outputs": [
    {
     "data": {
      "text/plain": [
       "-370"
      ]
     },
     "execution_count": 274,
     "metadata": {},
     "output_type": "execute_result"
    }
   ],
   "source": [
    "2048 - (len(examples) + len(question))"
   ]
  },
  {
   "cell_type": "markdown",
   "metadata": {},
   "source": [
    "___\n",
    "___\n",
    "___"
   ]
  },
  {
   "cell_type": "code",
   "execution_count": 183,
   "metadata": {},
   "outputs": [],
   "source": [
    "examples = {}\n",
    "prompts = \"\"\n",
    "\n",
    "for _ in range(5):\n",
    "    numbers = np.random.randint(0, 100, 3).round(2)\n",
    "    key = f\"What is {numbers[0]} + {numbers[1]} - {numbers[2]}?\"\n",
    "    value = f\"{calculator(numbers[0], numbers[1], numbers[2])}\"\n",
    "    examples[key] = value\n",
    "    \n",
    "    prompts += f\"\"\"\n",
    "    Question: {key}\n",
    "    calculator({numbers[0]}, {numbers[1]}, {numbers[2]})\n",
    "    \"\"\""
   ]
  },
  {
   "cell_type": "code",
   "execution_count": 165,
   "metadata": {},
   "outputs": [],
   "source": [
    "examples = {}\n",
    "prompts = \"\"\n",
    "\n",
    "for _ in range(5):\n",
    "    numbers = np.random.randint(0, 100, 3).round(2)\n",
    "    key = f\"What is {numbers[0]} + {numbers[1]} - {numbers[2]}?\"\n",
    "    value = f\"{numbers[0] + numbers[1] - numbers[2]}\"\n",
    "    examples[key] = value\n",
    "    \n",
    "    prompts += f\"\"\"\n",
    "                Question: {key}\n",
    "                Thought 1: First, I need to calculate {numbers[0]} + {numbers[1]}.\n",
    "                Action 1: {numbers[0]} + {numbers[1]}.\n",
    "                Observation 1: {numbers[0]} + {numbers[1]} = {numbers[0] + numbers[1]},\n",
    "                Thought 2: Then, I need to calculate {numbers[0] + numbers[1]} - {numbers[2]}.\n",
    "                Action 2: {numbers[0] + numbers[1] - numbers[2]}.\n",
    "                Observation 2: {numbers[0] + numbers[1]} - {numbers[2]} = {numbers[0] + numbers[1] - numbers[2]}, so the answer is {numbers[0] + numbers[1] - numbers[2]}.\n",
    "                Action 3: I am done.\n",
    "                \"\"\""
   ]
  },
  {
   "cell_type": "code",
   "execution_count": null,
   "metadata": {},
   "outputs": [],
   "source": []
  },
  {
   "cell_type": "code",
   "execution_count": 185,
   "metadata": {},
   "outputs": [
    {
     "name": "stdout",
     "output_type": "stream",
     "text": [
      "What is 10 + 10 - 5?\n",
      "    calculator(10, 10, 5)\n",
      "    \n",
      "    Question: What is 55 + 84 - 71?\n",
      "    calculator(55, 84, 71)\n",
      "    What is 98 + 8 - 56?\n",
      "    calculator(98, 8, 56)\n",
      "    \n",
      "    Question: What is 10 + 10 - 5?\n",
      "    calculator(10, 10, 5)\n",
      "    What is 74 + 38 - 71?\n",
      "    calculator(74, 38, 71)\n",
      "    \n",
      "    Question: What is 55 + 84 - 71?\n",
      "    calculator(55, 84, 71)\n",
      "    What is 74 + 38 - 56?\n",
      "    calculator(74, 38, 56)\n",
      "    \n",
      "    Question: What is 10 + 10 - 5?\n",
      "    calculator(10, 10, 5)\n",
      "    What is 98 + 8 - 56?\n",
      "    calculator(98, 8, 56)\n",
      "    \n",
      "    Question: What is 55 + 84 - 71?\n",
      "    calculator(55, 84, 71)\n",
      "    What is 74 + 38 - 56?\n",
      "    calculator(74, 38, 56)\n",
      "    \n",
      "    Question: What is 55 + 84 - 71?\n",
      "    calculator(55, 84, 71)\n",
      "    What is 74 + 38 - 56?\n",
      "    calculator(74, 38, 56)\n",
      "    \n",
      "    Question: What is 14 + 28 - 5?\n",
      "    calculator(14, 28, 5)\n",
      "    \n",
      "    Question: What is 55 + 84 - 71?\n",
      "    calculator(55, 84, 71)\n",
      "    What is 74 + 38 - 56?\n",
      "    calculator(74, 38, 56)\n",
      "    \n",
      "    Question: What is 55 + 84 - 71?\n",
      "    calculator(55, 84, 71)\n",
      "    What is 74 + 38 - 56?\n",
      "    calculator(74, 38, 56)\n",
      "    \n",
      "    Question: What is 55 + 84 - 71?\n",
      "    calculator(55, 84, 71)\n",
      "    What is 74 + 38 - 56?\n",
      "    calculator(74, 38, 56)\n",
      "    \n",
      "    Question: What is 55 + 84 - 71?\n",
      "    calculator(55, 84, 71)\n",
      "    What is 74 + 38 - 56?\n",
      "    calculator(74, 38, 56)\n",
      "    \n",
      "    Question: What is 55 + 84 - 71?\n",
      "    calculator(55, 84, 71)\n",
      "    What is 74 + 38 - 56?\n",
      "    calculator(74, 38, 56)\n",
      "    \n",
      "    Question: What is 55 + 84 - 71?\n",
      "    calculator(55, 84, 71)\n",
      "    What is 74 + 38 - 56?\n",
      "    calculator(74, 38, 56)\n",
      "    \n",
      "    Question: What is 55 + 84 - 71?\n",
      "    calculator(55, 84, 71)\n",
      "    What is 74 + 38 - 56?\n",
      "    calculator(74, 38, 56)\n",
      "    \n",
      "    Question: What is 55 + 84 - 71?\n",
      "    calculator(55, 84, 71)\n",
      "    What is 74 + 38 - 56?\n",
      "    calculator(74, 38, 56)\n",
      "    \n",
      "    Question: What is 55 + 84 - 71?\n",
      "    calculator(55, 84, 71)\n",
      "    What is 74 + 38 - 56?\n",
      "    calculator(74, 38, 56)\n",
      "    \n",
      "    Question: What is 55 + 84 - 71?\n",
      "    calculator(55, 84, 71\n"
     ]
    }
   ],
   "source": [
    "question = f\"What is 10 + 10 - 5?\"\n",
    "question = \"INTRUCTION\" + question\n",
    "examples = \"Question 1 What is X\\nThought 1: ...\"\n",
    "\n",
    "print(llm(question=question, examples=examples)[\"completion\"][len(prompts):])"
   ]
  }
 ],
 "metadata": {
  "kernelspec": {
   "display_name": "Python 3.11.0 64-bit",
   "language": "python",
   "name": "python3"
  },
  "language_info": {
   "codemirror_mode": {
    "name": "ipython",
    "version": 3
   },
   "file_extension": ".py",
   "mimetype": "text/x-python",
   "name": "python",
   "nbconvert_exporter": "python",
   "pygments_lexer": "ipython3",
   "version": "3.11.0"
  },
  "orig_nbformat": 4,
  "vscode": {
   "interpreter": {
    "hash": "be8902ab7f5be5b46344a1d32ed6f16ef4c7819a4242d8781571d048fd7d2288"
   }
  }
 },
 "nbformat": 4,
 "nbformat_minor": 2
}
