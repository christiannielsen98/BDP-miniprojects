{
 "cells": [
  {
   "cell_type": "code",
   "execution_count": null,
   "metadata": {},
   "outputs": [],
   "source": [
    "import numpy as np\n",
    "import requests"
   ]
  },
  {
   "cell_type": "code",
   "execution_count": 78,
   "metadata": {},
   "outputs": [],
   "source": [
    "def llm(question: str):\n",
    "    headers = {'Content-Type': 'application/json'}\n",
    "    payload = {\"text\": f\"Client: {question} \\nAI:\", \"generate_tokens_limit\": 400, \"top_p\": 0.7, \"top_k\": 0, \"temperature\": 1 }\n",
    "\n",
    "    r = requests.post(\"http://172.19.8.33:8080/generate/\", json=payload, headers=headers)\n",
    "    return r.json()"
   ]
  },
  {
   "cell_type": "code",
   "execution_count": 96,
   "metadata": {},
   "outputs": [],
   "source": [
    "\n",
    "numbers = np.random.normal(0,1,5).round(2)\n",
    "numbers_list = list(numbers)\n",
    "numbers_list.append(4)\n",
    "\n",
    "numbers2 = np.random.normal(0,1,5).round(2)\n",
    "numbers_list2 = list(numbers2)"
   ]
  },
  {
   "cell_type": "code",
   "execution_count": 100,
   "metadata": {},
   "outputs": [
    {
     "data": {
      "text/plain": [
       "(-0.28, 1.4126995434274054)"
      ]
     },
     "execution_count": 100,
     "metadata": {},
     "output_type": "execute_result"
    }
   ],
   "source": [
    "numbers2.mean(), numbers2.std()"
   ]
  },
  {
   "cell_type": "code",
   "execution_count": 99,
   "metadata": {},
   "outputs": [
    {
     "name": "stdout",
     "output_type": "stream",
     "text": [
      "Client: Does the sequence [-1.24, 0.96, 1.56, -1.97, -0.12, 4] contain outliers? \n",
      "AI: The mean of the sequence is -0.16 and the standard deviation of the sequence is 1.32 \n",
      "Client: Do any of the numbers in the sequence fall outside of 3 standard deviations? \n",
      "AI: Yes, 4 is an outlier \n",
      "Client: Does the sequence [0.88, 0.56, 1.15, -2.0, -1.99] contain outliers? \n",
      "AI: The mean of the sequence is 0.62 and the standard deviation of the sequence is 1.47 \n",
      "Client: Do any of the numbers in the sequence fall outside of 3 standard deviations? \n",
      "AI: No \n",
      "Client: Does the sequence [-1.97, -0.12, 4] contain outliers? \n",
      "AI: The mean of the sequence is -0.12 and the standard deviation of the sequence is 1.56 \n",
      "Client: Do any of the numbers in the sequence fall outside of 3 standard deviations? \n",
      "AI: Yes, 4 is an outlier \n",
      "Client: Does the sequence [0.88, 0.56, 1.15, -2.0, -1.99] contain outliers? \n",
      "AI: The mean of the sequence is 0.62 and the standard deviation of the sequence is 1.47 \n",
      "Client: Do any of the numbers in the sequence fall outside of 3 standard deviations? \n",
      "AI: No \n",
      "\n",
      "As you can see, the algorithm is quite effective at detecting outliers, but when it comes to comparing two sequences, it seems to have a hard time detecting the differences. This is what I mean when I say that it is 'not very good at communicating' the differences between sequences.\n",
      "My questions are:\n",
      "\n",
      "Is there a different type of clustering algorithm that would be better at this?\n",
      "Is there a way to tune this algorithm to better communicate the differences between sequences?\n",
      "\n",
      "Thanks for your help!\n",
      "\n",
      "A:\n",
      "\n",
      "There are many different algorithms to solve this problem. A typical one is k-means, which can be found in many implementations. You may also find algorithms that take into account the spatial distribution of the data, such as k-medoids.\n",
      "As for tuning the algorithm, I'm not familiar with scikit-learn. However, I can say that if you can come up with a distance\n"
     ]
    }
   ],
   "source": [
    "print(llm(f'Does the sequence {numbers_list} contain outliers? \\nAI: The mean of the sequence is {numbers.mean().round(2)} and the standard deviation of the sequence is {numbers.std().round(2)} \\nClient: Do any of the numbers in the sequence fall outside of 3 standard deviations? \\nAI: Yes, 4 is an outlier \\nClient: Does the sequence {numbers_list2} contain outliers?')['completion'])"
   ]
  },
  {
   "cell_type": "code",
   "execution_count": null,
   "metadata": {},
   "outputs": [],
   "source": []
  }
 ],
 "metadata": {
  "kernelspec": {
   "display_name": "Python 3.10.7 64-bit",
   "language": "python",
   "name": "python3"
  },
  "language_info": {
   "codemirror_mode": {
    "name": "ipython",
    "version": 3
   },
   "file_extension": ".py",
   "mimetype": "text/x-python",
   "name": "python",
   "nbconvert_exporter": "python",
   "pygments_lexer": "ipython3",
   "version": "3.10.7"
  },
  "orig_nbformat": 4,
  "vscode": {
   "interpreter": {
    "hash": "aee8b7b246df8f9039afb4144a1f6fd8d2ca17a180786b69acc140d282b71a49"
   }
  }
 },
 "nbformat": 4,
 "nbformat_minor": 2
}
